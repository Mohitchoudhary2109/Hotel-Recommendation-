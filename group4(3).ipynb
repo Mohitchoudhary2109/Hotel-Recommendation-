{
 "cells": [
  {
   "cell_type": "code",
   "execution_count": 106,
   "metadata": {},
   "outputs": [],
   "source": [
    "import pandas as pd\n",
    "import nltk \n",
    "import numpy as np\n",
    "import re\n",
    "from nltk.stem import wordnet # to perform lemmitization\n",
    "from sklearn.feature_extraction.text import CountVectorizer # to perform bow\n",
    "from sklearn.feature_extraction.text import TfidfVectorizer # to perform tfidf\n",
    "from nltk import pos_tag # for parts of speech\n",
    "from sklearn.metrics import pairwise_distances # to perfrom cosine similarity\n",
    "from nltk import word_tokenize # to create tokens\n",
    "from nltk.corpus import stopwords # for stop words"
   ]
  },
  {
   "cell_type": "code",
   "execution_count": 107,
   "metadata": {},
   "outputs": [
    {
     "data": {
      "text/html": [
       "<div>\n",
       "<style scoped>\n",
       "    .dataframe tbody tr th:only-of-type {\n",
       "        vertical-align: middle;\n",
       "    }\n",
       "\n",
       "    .dataframe tbody tr th {\n",
       "        vertical-align: top;\n",
       "    }\n",
       "\n",
       "    .dataframe thead th {\n",
       "        text-align: right;\n",
       "    }\n",
       "</style>\n",
       "<table border=\"1\" class=\"dataframe\">\n",
       "  <thead>\n",
       "    <tr style=\"text-align: right;\">\n",
       "      <th></th>\n",
       "      <th>emails</th>\n",
       "      <th>template</th>\n",
       "    </tr>\n",
       "  </thead>\n",
       "  <tbody>\n",
       "    <tr>\n",
       "      <th>0</th>\n",
       "      <td>Thanks for your email here.\\nI'd firstly like ...</td>\n",
       "      <td>APOLOGY TO CUSTOMERS:Hi [Customer name],\\nI wa...</td>\n",
       "    </tr>\n",
       "    <tr>\n",
       "      <th>1</th>\n",
       "      <td>Dear Awesome Member,\\n\\nYou may have recently ...</td>\n",
       "      <td>NaN</td>\n",
       "    </tr>\n",
       "    <tr>\n",
       "      <th>2</th>\n",
       "      <td>Dear [Customer Name],\\nThank you for contactin...</td>\n",
       "      <td>NaN</td>\n",
       "    </tr>\n",
       "    <tr>\n",
       "      <th>3</th>\n",
       "      <td>Dear [Customer Name],\\n\\nWe are very sorry tha...</td>\n",
       "      <td>NaN</td>\n",
       "    </tr>\n",
       "    <tr>\n",
       "      <th>4</th>\n",
       "      <td>Dear [Customer Name],\\n\\nThank you for contact...</td>\n",
       "      <td>NaN</td>\n",
       "    </tr>\n",
       "    <tr>\n",
       "      <th>5</th>\n",
       "      <td>Dear [Customer Name],\\n\\nI am very sorry to in...</td>\n",
       "      <td>NaN</td>\n",
       "    </tr>\n",
       "    <tr>\n",
       "      <th>6</th>\n",
       "      <td>Dear [Vendor Name],\\n\\nI am very sorry that yo...</td>\n",
       "      <td>NaN</td>\n",
       "    </tr>\n",
       "    <tr>\n",
       "      <th>7</th>\n",
       "      <td>Hi [Customer name],\\n\\nI want to apologize for...</td>\n",
       "      <td>NaN</td>\n",
       "    </tr>\n",
       "    <tr>\n",
       "      <th>8</th>\n",
       "      <td>Hi [Customer name],\\n\\nI’m sorry to say we kin...</td>\n",
       "      <td>NaN</td>\n",
       "    </tr>\n",
       "    <tr>\n",
       "      <th>9</th>\n",
       "      <td>Hi [Customer name],\\n\\nI want to apologize for...</td>\n",
       "      <td>NaN</td>\n",
       "    </tr>\n",
       "  </tbody>\n",
       "</table>\n",
       "</div>"
      ],
      "text/plain": [
       "                                              emails  \\\n",
       "0  Thanks for your email here.\\nI'd firstly like ...   \n",
       "1  Dear Awesome Member,\\n\\nYou may have recently ...   \n",
       "2  Dear [Customer Name],\\nThank you for contactin...   \n",
       "3  Dear [Customer Name],\\n\\nWe are very sorry tha...   \n",
       "4  Dear [Customer Name],\\n\\nThank you for contact...   \n",
       "5  Dear [Customer Name],\\n\\nI am very sorry to in...   \n",
       "6  Dear [Vendor Name],\\n\\nI am very sorry that yo...   \n",
       "7  Hi [Customer name],\\n\\nI want to apologize for...   \n",
       "8  Hi [Customer name],\\n\\nI’m sorry to say we kin...   \n",
       "9  Hi [Customer name],\\n\\nI want to apologize for...   \n",
       "\n",
       "                                            template  \n",
       "0  APOLOGY TO CUSTOMERS:Hi [Customer name],\\nI wa...  \n",
       "1                                                NaN  \n",
       "2                                                NaN  \n",
       "3                                                NaN  \n",
       "4                                                NaN  \n",
       "5                                                NaN  \n",
       "6                                                NaN  \n",
       "7                                                NaN  \n",
       "8                                                NaN  \n",
       "9                                                NaN  "
      ]
     },
     "execution_count": 107,
     "metadata": {},
     "output_type": "execute_result"
    }
   ],
   "source": [
    "df=pd.read_excel(r\"C:\\Usersnloads\\\\yy\\Dowgroup4dataset.xlsx\")\n",
    "\n",
    "df.head(10)"
   ]
  },
  {
   "cell_type": "code",
   "execution_count": 108,
   "metadata": {},
   "outputs": [
    {
     "data": {
      "text/plain": [
       "(133, 2)"
      ]
     },
     "execution_count": 108,
     "metadata": {},
     "output_type": "execute_result"
    }
   ],
   "source": [
    "df.shape # returns the number of rows in dataset"
   ]
  },
  {
   "cell_type": "code",
   "execution_count": 109,
   "metadata": {},
   "outputs": [
    {
     "data": {
      "text/html": [
       "<div>\n",
       "<style scoped>\n",
       "    .dataframe tbody tr th:only-of-type {\n",
       "        vertical-align: middle;\n",
       "    }\n",
       "\n",
       "    .dataframe tbody tr th {\n",
       "        vertical-align: top;\n",
       "    }\n",
       "\n",
       "    .dataframe thead th {\n",
       "        text-align: right;\n",
       "    }\n",
       "</style>\n",
       "<table border=\"1\" class=\"dataframe\">\n",
       "  <thead>\n",
       "    <tr style=\"text-align: right;\">\n",
       "      <th></th>\n",
       "      <th>emails</th>\n",
       "      <th>template</th>\n",
       "    </tr>\n",
       "  </thead>\n",
       "  <tbody>\n",
       "    <tr>\n",
       "      <th>103</th>\n",
       "      <td>Subject: Jane Doe, Director of Marketing\\n\\nWe...</td>\n",
       "      <td>JOB PROMOTION ANNOUNCEMENT:Subject: Firstname ...</td>\n",
       "    </tr>\n",
       "    <tr>\n",
       "      <th>104</th>\n",
       "      <td>Subject: Michael Nolan - Customer Service Mana...</td>\n",
       "      <td>JOB PROMOTION ANNOUNCEMENT:Subject: Firstname ...</td>\n",
       "    </tr>\n",
       "    <tr>\n",
       "      <th>105</th>\n",
       "      <td>Subject: Joe Smith, Regional Manager\\n\\nWe are...</td>\n",
       "      <td>JOB PROMOTION ANNOUNCEMENT:Subject: Firstname ...</td>\n",
       "    </tr>\n",
       "    <tr>\n",
       "      <th>106</th>\n",
       "      <td>Email subject line: Welcoming [Employee’s name...</td>\n",
       "      <td>JOB PROMOTION ANNOUNCEMENT:Subject: Firstname ...</td>\n",
       "    </tr>\n",
       "    <tr>\n",
       "      <th>107</th>\n",
       "      <td>Hi all,\\n\\nI am very pleased to announce that ...</td>\n",
       "      <td>JOB PROMOTION ANNOUNCEMENT:Subject: Firstname ...</td>\n",
       "    </tr>\n",
       "    <tr>\n",
       "      <th>108</th>\n",
       "      <td>To: Engineering Department\\n\\nFrom: sheldondoy...</td>\n",
       "      <td>JOB PROMOTION ANNOUNCEMENT:Subject: Firstname ...</td>\n",
       "    </tr>\n",
       "    <tr>\n",
       "      <th>109</th>\n",
       "      <td>Subject: James Meyers, Director of Marketing\\n...</td>\n",
       "      <td>JOB PROMOTION ANNOUNCEMENT:Subject: Firstname ...</td>\n",
       "    </tr>\n",
       "    <tr>\n",
       "      <th>110</th>\n",
       "      <td>Dear Staff,\\n\\nSubject: Zoe Washburne, Directo...</td>\n",
       "      <td>JOB PROMOTION ANNOUNCEMENT:Subject: Firstname ...</td>\n",
       "    </tr>\n",
       "    <tr>\n",
       "      <th>111</th>\n",
       "      <td>Valued Employees,\\n\\nI am excited to announce ...</td>\n",
       "      <td>JOB PROMOTION ANNOUNCEMENT:Subject: Firstname ...</td>\n",
       "    </tr>\n",
       "    <tr>\n",
       "      <th>112</th>\n",
       "      <td>To: jenny@jackson.com, romy@jackson.com, Saman...</td>\n",
       "      <td>JOB PROMOTION ANNOUNCEMENT:Subject: Firstname ...</td>\n",
       "    </tr>\n",
       "    <tr>\n",
       "      <th>113</th>\n",
       "      <td>Promotion announcement email     [Subject line...</td>\n",
       "      <td>JOB PROMOTION ANNOUNCEMENT:Subject: Firstname ...</td>\n",
       "    </tr>\n",
       "    <tr>\n",
       "      <th>114</th>\n",
       "      <td>Hey everyone!\\n\\nPositive reviews from awesome...</td>\n",
       "      <td>REVIEW/FEEDBACK REQUEST:Hey [customer name],\\n...</td>\n",
       "    </tr>\n",
       "    <tr>\n",
       "      <th>115</th>\n",
       "      <td>Hey everyone,\\n\\nDid you know that the number ...</td>\n",
       "      <td>REVIEW/FEEDBACK REQUEST:Hey [customer name],\\n...</td>\n",
       "    </tr>\n",
       "    <tr>\n",
       "      <th>116</th>\n",
       "      <td>Dear [first name]\\n\\nThank you for your recent...</td>\n",
       "      <td>REVIEW/FEEDBACK REQUEST:Hey [customer name],\\n...</td>\n",
       "    </tr>\n",
       "    <tr>\n",
       "      <th>117</th>\n",
       "      <td>Dear [customer name],\\n\\nThanks for being our ...</td>\n",
       "      <td>REVIEW/FEEDBACK REQUEST:Hey [customer name],\\n...</td>\n",
       "    </tr>\n",
       "    <tr>\n",
       "      <th>118</th>\n",
       "      <td>How was our service today, [customer name]?\\n\\...</td>\n",
       "      <td>REVIEW/FEEDBACK REQUEST:Hey [customer name],\\n...</td>\n",
       "    </tr>\n",
       "    <tr>\n",
       "      <th>119</th>\n",
       "      <td>[Customer name], we were happy we could help y...</td>\n",
       "      <td>REVIEW/FEEDBACK REQUEST:Hey [customer name],\\n...</td>\n",
       "    </tr>\n",
       "    <tr>\n",
       "      <th>120</th>\n",
       "      <td>Help us improve, [customer name]!\\n\\nWe hope y...</td>\n",
       "      <td>REVIEW/FEEDBACK REQUEST:Hey [customer name],\\n...</td>\n",
       "    </tr>\n",
       "    <tr>\n",
       "      <th>121</th>\n",
       "      <td>Hi [First name],\\n\\nThanks for choosing us to ...</td>\n",
       "      <td>REVIEW/FEEDBACK REQUEST:Hey [customer name],\\n...</td>\n",
       "    </tr>\n",
       "    <tr>\n",
       "      <th>122</th>\n",
       "      <td>Email subject line: Was it as nice for you as ...</td>\n",
       "      <td>REVIEW/FEEDBACK REQUEST:Hey [customer name],\\n...</td>\n",
       "    </tr>\n",
       "    <tr>\n",
       "      <th>123</th>\n",
       "      <td>Email subject line: Tell us how we’re doing in...</td>\n",
       "      <td>REVIEW/FEEDBACK REQUEST:Hey [customer name],\\n...</td>\n",
       "    </tr>\n",
       "    <tr>\n",
       "      <th>124</th>\n",
       "      <td>Dear [Customer name],\\n\\nThank you for using A...</td>\n",
       "      <td>REVIEW/FEEDBACK REQUEST:Hey [customer name],\\n...</td>\n",
       "    </tr>\n",
       "    <tr>\n",
       "      <th>125</th>\n",
       "      <td>Dear [Customer name],\\n\\nYou recently spoke wi...</td>\n",
       "      <td>REVIEW/FEEDBACK REQUEST:Hey [customer name],\\n...</td>\n",
       "    </tr>\n",
       "    <tr>\n",
       "      <th>126</th>\n",
       "      <td>Dear [Customer name],\\n\\nThank you so much for...</td>\n",
       "      <td>REVIEW/FEEDBACK REQUEST:Hey [customer name],\\n...</td>\n",
       "    </tr>\n",
       "    <tr>\n",
       "      <th>127</th>\n",
       "      <td>Dear Steph, Thank you for shopping with Papier...</td>\n",
       "      <td>REVIEW/FEEDBACK REQUEST:Hey [customer name],\\n...</td>\n",
       "    </tr>\n",
       "    <tr>\n",
       "      <th>128</th>\n",
       "      <td>Review Request Email Subject line: Got one min...</td>\n",
       "      <td>REVIEW/FEEDBACK REQUEST:Hey [customer name],\\n...</td>\n",
       "    </tr>\n",
       "    <tr>\n",
       "      <th>129</th>\n",
       "      <td>Hi Jane,\\n\\nPositive reviews from awesome cust...</td>\n",
       "      <td>REVIEW/FEEDBACK REQUEST:Hey [customer name],\\n...</td>\n",
       "    </tr>\n",
       "    <tr>\n",
       "      <th>130</th>\n",
       "      <td>Hi Matthew, Thanks for using Airbnb. We really...</td>\n",
       "      <td>REVIEW/FEEDBACK REQUEST:Hey [customer name],\\n...</td>\n",
       "    </tr>\n",
       "    <tr>\n",
       "      <th>131</th>\n",
       "      <td>Hi Puri, We're curious to know how did you fee...</td>\n",
       "      <td>REVIEW/FEEDBACK REQUEST:Hey [customer name],\\n...</td>\n",
       "    </tr>\n",
       "    <tr>\n",
       "      <th>132</th>\n",
       "      <td>Feedback Survey Email  Subject line: Your feed...</td>\n",
       "      <td>REVIEW/FEEDBACK REQUEST:Hey [customer name],\\n...</td>\n",
       "    </tr>\n",
       "  </tbody>\n",
       "</table>\n",
       "</div>"
      ],
      "text/plain": [
       "                                                emails  \\\n",
       "103  Subject: Jane Doe, Director of Marketing\\n\\nWe...   \n",
       "104  Subject: Michael Nolan - Customer Service Mana...   \n",
       "105  Subject: Joe Smith, Regional Manager\\n\\nWe are...   \n",
       "106  Email subject line: Welcoming [Employee’s name...   \n",
       "107  Hi all,\\n\\nI am very pleased to announce that ...   \n",
       "108  To: Engineering Department\\n\\nFrom: sheldondoy...   \n",
       "109  Subject: James Meyers, Director of Marketing\\n...   \n",
       "110  Dear Staff,\\n\\nSubject: Zoe Washburne, Directo...   \n",
       "111  Valued Employees,\\n\\nI am excited to announce ...   \n",
       "112  To: jenny@jackson.com, romy@jackson.com, Saman...   \n",
       "113  Promotion announcement email     [Subject line...   \n",
       "114  Hey everyone!\\n\\nPositive reviews from awesome...   \n",
       "115  Hey everyone,\\n\\nDid you know that the number ...   \n",
       "116  Dear [first name]\\n\\nThank you for your recent...   \n",
       "117  Dear [customer name],\\n\\nThanks for being our ...   \n",
       "118  How was our service today, [customer name]?\\n\\...   \n",
       "119  [Customer name], we were happy we could help y...   \n",
       "120  Help us improve, [customer name]!\\n\\nWe hope y...   \n",
       "121  Hi [First name],\\n\\nThanks for choosing us to ...   \n",
       "122  Email subject line: Was it as nice for you as ...   \n",
       "123  Email subject line: Tell us how we’re doing in...   \n",
       "124  Dear [Customer name],\\n\\nThank you for using A...   \n",
       "125  Dear [Customer name],\\n\\nYou recently spoke wi...   \n",
       "126  Dear [Customer name],\\n\\nThank you so much for...   \n",
       "127  Dear Steph, Thank you for shopping with Papier...   \n",
       "128  Review Request Email Subject line: Got one min...   \n",
       "129  Hi Jane,\\n\\nPositive reviews from awesome cust...   \n",
       "130  Hi Matthew, Thanks for using Airbnb. We really...   \n",
       "131  Hi Puri, We're curious to know how did you fee...   \n",
       "132  Feedback Survey Email  Subject line: Your feed...   \n",
       "\n",
       "                                              template  \n",
       "103  JOB PROMOTION ANNOUNCEMENT:Subject: Firstname ...  \n",
       "104  JOB PROMOTION ANNOUNCEMENT:Subject: Firstname ...  \n",
       "105  JOB PROMOTION ANNOUNCEMENT:Subject: Firstname ...  \n",
       "106  JOB PROMOTION ANNOUNCEMENT:Subject: Firstname ...  \n",
       "107  JOB PROMOTION ANNOUNCEMENT:Subject: Firstname ...  \n",
       "108  JOB PROMOTION ANNOUNCEMENT:Subject: Firstname ...  \n",
       "109  JOB PROMOTION ANNOUNCEMENT:Subject: Firstname ...  \n",
       "110  JOB PROMOTION ANNOUNCEMENT:Subject: Firstname ...  \n",
       "111  JOB PROMOTION ANNOUNCEMENT:Subject: Firstname ...  \n",
       "112  JOB PROMOTION ANNOUNCEMENT:Subject: Firstname ...  \n",
       "113  JOB PROMOTION ANNOUNCEMENT:Subject: Firstname ...  \n",
       "114  REVIEW/FEEDBACK REQUEST:Hey [customer name],\\n...  \n",
       "115  REVIEW/FEEDBACK REQUEST:Hey [customer name],\\n...  \n",
       "116  REVIEW/FEEDBACK REQUEST:Hey [customer name],\\n...  \n",
       "117  REVIEW/FEEDBACK REQUEST:Hey [customer name],\\n...  \n",
       "118  REVIEW/FEEDBACK REQUEST:Hey [customer name],\\n...  \n",
       "119  REVIEW/FEEDBACK REQUEST:Hey [customer name],\\n...  \n",
       "120  REVIEW/FEEDBACK REQUEST:Hey [customer name],\\n...  \n",
       "121  REVIEW/FEEDBACK REQUEST:Hey [customer name],\\n...  \n",
       "122  REVIEW/FEEDBACK REQUEST:Hey [customer name],\\n...  \n",
       "123  REVIEW/FEEDBACK REQUEST:Hey [customer name],\\n...  \n",
       "124  REVIEW/FEEDBACK REQUEST:Hey [customer name],\\n...  \n",
       "125  REVIEW/FEEDBACK REQUEST:Hey [customer name],\\n...  \n",
       "126  REVIEW/FEEDBACK REQUEST:Hey [customer name],\\n...  \n",
       "127  REVIEW/FEEDBACK REQUEST:Hey [customer name],\\n...  \n",
       "128  REVIEW/FEEDBACK REQUEST:Hey [customer name],\\n...  \n",
       "129  REVIEW/FEEDBACK REQUEST:Hey [customer name],\\n...  \n",
       "130  REVIEW/FEEDBACK REQUEST:Hey [customer name],\\n...  \n",
       "131  REVIEW/FEEDBACK REQUEST:Hey [customer name],\\n...  \n",
       "132  REVIEW/FEEDBACK REQUEST:Hey [customer name],\\n...  "
      ]
     },
     "execution_count": 109,
     "metadata": {},
     "output_type": "execute_result"
    }
   ],
   "source": [
    "df.ffill(axis = 0,inplace=True) # fills the null value with the previous value.\n",
    "df.tail(30)"
   ]
  },
  {
   "cell_type": "code",
   "execution_count": 110,
   "metadata": {},
   "outputs": [],
   "source": [
    "df1=df.head(10) # copy of first ten rows of dataset"
   ]
  },
  {
   "cell_type": "code",
   "execution_count": 111,
   "metadata": {},
   "outputs": [],
   "source": [
    "# function that converts text into lower case and removes special characters\n",
    "\n",
    "def step1(x):\n",
    "    for i in x:\n",
    "        a=str(i).lower()\n",
    "        p=re.sub(r'[^a-z0-9]',' ',a)\n",
    "        print(p)"
   ]
  },
  {
   "cell_type": "code",
   "execution_count": 112,
   "metadata": {},
   "outputs": [
    {
     "name": "stdout",
     "output_type": "stream",
     "text": [
      "thanks for your email here  i d firstly like to offer my sincerest apologies here for this huge inconvenience and burden as a result of my mistake  normally  when an rrsp withdrawal is cancelled  it needs to be reinitiated right away to ensure the funds that were raised are not reinvested automatically the next business day  upon noticing that the withdrawal was not reinitiated  and at the risk of the funds being invested again  i had taken the liberty of reinitiating it myself with the hbp form provided  however  as you noted and confirmed  it looks like i had opted in for the wrong default banking which cascaded to your precarious situation  though i am glad that you were able to complete the home purchase  i fully understand your concerns  i ve raised this to my team here  and i ve put forth a request for compensation as a result of my error  once more  my sincerest apologies for the additional stress and headache  i ll circle back to you on that end in 2 business days with an update  let me know if you have any further questions about this and i d be happy to help \n",
      "dear awesome member   you may have recently received a  back in stock  notification for a product that was  in fact  not back in stock  our bad  we ve been having ongoing technical problems with our stock notifications   our crack technical team is on the case   but sadly no whiskey was involved  so we can t even blame that for our mistake   we ask for forgiveness using monetary incentives  because apologies with a dollar sign attached are always better   thank you for sticking with us  even when our hands are slippery \n",
      "dear  customer name   thank you for contacting us about your defective  product name   we are truly sorry that it did not work as promised  we also apologize for any inconvenience that this has caused for you  our products go through several quality control checks before they are delivered to customers  however  this one regrettably slipped past those checks and failed to live up to our standards  to make up for this error  we have shipped you a new  product name   which should arrive within 2 5 days  we ve also included a pre labeled box for you to return the defective product once you ve received the replacement  we re also sending a  20 coupon for your next purchase to make up for the inconvenience  we are truly sorry that your original purchase did not live up to your expectations  but we look forward to providing a better experience for you going forward  thanks again for bringing this issue to our attention  and please don t hesitate to contact me directly with any other concerns you may have  sincerely   name   title \n",
      "dear  customer name    we are very sorry that you did not receive your  product name  in a timely manner  the demand for this product truly exceeded our expectations  leaving our stock depleted   we just received a new shipment of  product name  and expedited the shipping of your order  we know that you expect to receive your orders on time  and we re very sorry for our misjudgment and any inconvenience it has caused you   along with your order  we re also including a coupon for  10 off your next order  you can also find a tracking number for your order at the bottom of this email to track your current order  again  we re so sorry for this delay and the inconvenience  please let me know if you have any other concerns or questions   sincerely   name   title \n",
      "dear  customer name    thank you for contacting us regarding your recent billing issue  we are very sorry that you double charged for a single service   we ve investigated the error and found that it was due to a computer glitch in our billing software  we ve since updated to the latest version of this program and put a quality control check in place to ensure that this doesn t happen again   additionally  we have refunded you the errant charges  which should be back in your account within three business days  we re sorry for any inconvenience that our error caused you  thank you for bringing this to our attention and helping us resolve the issue quickly  please don t hesitate to reach out to me directly if you have any other questions or concerns   sincerely   name   title \n",
      "dear  customer name    i am very sorry to inform you that your service appointment for this friday at 10 30 am has been cancelled due to a family emergency that has affected one of our team members   because we are a small team  we are unable to keep up a full slate of appointments if one of our technicians is unexpectedly available for an extended period of time  i am sorry for any inconvenience that this cancellation may cause   at  company name  quality care for our customers is our number one concern  so we want to make the rescheduling process as easy as possible for you  please contact me directly to let me know the next day and time you re available for service  and we ll do our best to meet your scheduling concerns  we re also issuing a full refund of the deposit you put down when making your appointment   again  we are very sorry for the inconvenience  please let us know if you have any other questions or concerns regarding your appointment   sincerely   name   title \n",
      "dear  vendor name    i am very sorry that you have not yet received my payment for this month s service  a recent error in my account prevented me from accessing the necessary funds to cover the expense   my bank has since corrected the error and the money should be restored to my account by the end of the week  at which point i will expedite payment to you  the bank has also assured me that the circumstances surrounding the error were rare and shouldn t impact my account going forward   i truly value our business relationship and this late payment is not a reflection of that  i m very sorry and will do everything in my power to make sure that it doesn t happen again   sincerely   name   title \n",
      "hi  customer name    i want to apologize for  briefly state mistake   our team tries to offer the best service  but we failed this time  i realize we  state briefly the impact your mistake had on the customer  and i m very sorry   this was likely caused by  add brief explanation   but  regardless  we should have handled this better   we re all aware of what happened and will take extra care in future  as an additional apology  we re sending you  offering   while we know it can t exactly make up for the inconvenience we caused  we hope it ll go some way towards making amends   thank you for your patience  let me know if i can help in any way  your name \n",
      "hi  customer name    i m sorry to say we kind of screwed up   we realized we  briefly state mistake   oops   sorry for this  we re blaming the weather and our horoscopes    as an apology  you can enjoy  offering    have a great day    your name \n",
      "hi  customer name    i want to apologize for  briefly state mistake   our team tries to offer the best service  but we failed this time  i realize we caused  generic issues that impacted customers  and i m very sorry   this was likely caused by  add brief explanation   but  regardless  we should have handled this better   we re all aware of what happened and will take extra care in future  as an additional apology  anyone who was affected by this will be able to  explain offering    thank you for your patience  we ll make sure we grow and learn from this    your name \n",
      "hi  customer name    we blew it   you may have seen that  explain mistake    this was an annoying slip up on our part   we re sorry   as a way to ask for your forgiveness  we re offering  offering    we promise to be more careful and eat all our vegetables from now on    your name \n",
      "hi mr  briggs   i want to apologize for our extended downtime yesterday  as stated in our slas  our team guarantees 99  uptime every day  and it was one of the few cases we failed to uphold our standard  i realize we caused operational problems to you and i m very sorry   this was likely caused by a malfunction in our own servers  so we re actively trying to minimize the possibility of this happening again   in any case  we ll do our best to make sure this doesn t happen again  as an additional apology  you can use our add on features for a month for free  let me know if you d like any help or more information   thank you for your patience  we ll make sure we grow and learn from this   eva jones  director of operations\n",
      "hi suzie   we blew it   you may have noticed that the links in our latest newsletter don t work   this was an annoying slip up on our part  sorry   if you want to see our newsletter  properly this time   click  here    we promise to be more careful and eat all our vegetables from now on   zoe from marketing\n",
      "hi ms  short   i want to apologize for not being able to solve your issue yesterday  our team tries to offer high quality customer service  but we failed this time  i realize it s frustrating to wait for your order a whole month and then not get any help in tracking it  i m very sorry   this was likely caused by changes in the software we use to track orders  my team will work to better integrate and learn the new system  on that point  i was able to track your order after our call and you ll have it in two days time   we ll do our best to ensure this doesn t happen again  as an additional apology  we re sending you a 20  discount for your next order  you can use this code  dfgrvhr49678  thank you for your patience  let me know if i can help in any way  \n",
      "hi duncan   i want to apologize for the mixup with our call this morning  i realize this caused issues in your schedule and i m very sorry  i promise it won t happen again   if you would still like to talk  would you be available tomorrow morning at 9am    thank you for your patience and hope to speak to you soon   nala\n",
      "hi diana   on behalf of our company  i want to apologize for sending you a defective item  our team tries to implement effective quality control for our products  but we failed this time  i realize it was frustrating for you and i m very sorry   as a way to make amends  we ll be reimbursing you for the full amount you paid  including delivery costs  if you d still like to purchase the item from our site  let me know so i can place an order for you with a 20  discount   thank you for your patience and i apologize again    jade\n",
      "hi blake   i want to apologize for my colleague s behavior in your call yesterday  our team tries to offer high quality customer service  but we failed this time  you were right to be angry and i m very sorry   after talking with him  i realize his dismissive attitude was likely caused by his inexperience with handling complex issues  i take my share of responsibility for not preparing him properly on this front  here at acme  we believe in growth and second chances  so i ll work with my team on providing better training and coaching   regarding your issue  my other colleague told me he was able to resolve it for you  should you need anything else  i d be happy to help you   as an additional apology  here s a   15 amazon coupon     thank you for your patience   lily\n",
      "hi troy   i want to apologize for my colleague s behavior in your call yesterday  here at acme  we don t tolerate this kind of behavior  but we failed to protect you this time  you had every right to be angry and i m very sorry you had to go through this experience   i d like to mention my colleague has been let go  it was the only thing that made sense after we listened to your recorded call  i know this doesn t make up for your rightful frustration  but we promise to do anything possible to keep these situations from happening in the future   regarding your issue  i d be happy to resolve it for you  please let me know if we should hop on a call at your convenience    thank you for your patience and i sincerely apologize again   bob\n",
      " subject line   dear  mr  ms  last name    i am writing to schedule a meeting to  write what the purpose of your meeting is   if the time works for you  i would like to meet at  time  on  date  at  place    please confirm whether that works for you or if another time and place is better  i look forward to our meeting   thank you   your name \n",
      "dear  first name    i m so glad we had a chance to meet at  event     i understand from  mutual connection  that you  identify their pain point   over the past year  we ve worked with  name two or three similar companies  and have helped them achieve  identify your number one benefit   i know we could help  recipient s company name  too   if this is on your agenda at the moment then i d love to schedule a brief 10 minute phone call to discuss how we can help you  i m free  x  y and z times   do any of these work for you   if this isn t something you d be interested in at the moment  then i completely understand  thank you for taking the time to read this  and again  i enjoyed meeting you   regards    your name \n",
      "subject  it technician application dear mr  arno  my name is lydia renata  and i greatly admire the work in new software applications that bright technology is doing  i am reaching out to you today because i saw your email address listed as the contact person for an open it technician position posted online  i have attached my resume and a cover letter to this email  and i hope you will consider me for this role   thank you for your consideration and time   sincerely  lydia renata lrenata email com  452  893 2314 lydiarenata professionalprofile com\n",
      "subject  history teacher position inquiry dear ms  perez   i saw the recent article in the herald about your work with low income students  and i want to congratulate you on your success as principal of mount crystal high school  my name is mark santini  and i am interested in the open history teacher position listed on your website   i am reaching out to ask for more information regarding this position  is it full or part time  and which courses are part of the curriculum  i would appreciate it if you could respond to this email or call me at the number below   thank you for your time  sincerely  mark santini santini mark email com  452  893 2314\n",
      "subject  market research interview  dear ms  fournier   i read the recent profile on your success as a realtor  congratulations   my name is annie arcatto  and i am a graduate student performing a survey of real estate market trends  i am reaching out to you because i hope to interview you for my project to gain more information about your job and its relation to market research  i am happy to meet at a time and place that is convenient for you   thank you for your time  and i hope to hear from you soon   sincerely  annie arcatto aarcatto email com  452  893 2314\n",
      "hi roberta   i m thomas  i just joined the quality assurance department and will be your point of contact for any inquiries regarding the qa process   i m excited to work with you   i can be reached on slack  at this email address  or at  888  405 6789   all the best   thomas aquinas  quality assurance  philosophical theology\n",
      "hi everyone   i m matthew  a new junior accounting associate  and i m excited to join the team  i can t wait to get to know you all  a few things about me   i studied in u c  berkeley  graduated with honors  and have worked for abc corp for two years specializing in tax accounting  i m looking forward to getting my cpa this year and growing with the team  let me know if there s anything that i can help with \n",
      "hi there savannah   i m mary and i m going to be your new point of contact at xyz corp  i m really excited to talk to you about some of the new deals and promotions we re working on  when is a good time to talk   thanks so much   mary\n",
      "greetings tom   i m mark and i m going to be taking over for thomas as your point of contact at xyz corp  i ve talked with thomas extensively about your company and your needs  but i d love to hear from you about any interests or concerns you have  right now at xyz corp  we ve got a variety of deals and promotions going on that i d like to loop you into  i can also give you more information about our upcoming products and services   i can t wait to connect with you and talk more about your business needs   sincerely   mark\n",
      " subject line   dear  mr  ms  last name    my name is  full name   and i am writing to you because  explain why you want to set up a meeting  if you have a common acquaintance who referred you  this is a good time to mention that name    i would love to meet for  breakfast coffee lunch in your office in my office somewhere else  some time  name a period of time  such as  next week    if that works for you   please let me know when and where you would prefer to meet  i look forward to speaking to you in person   sincerely   your name \n",
      "dear mr  snyder   i am an employee in the food service department here at mercy hospital  i have recently been put in charge of organizing our department s annual staff christmas party  as our manager is on maternity leave   i would like to meet with you so i can get an understanding of my budget  the number of guests and who our usual vendors are for such an event  my work shift begins at 11 a m  and i take a lunch break at 2 p m   so i would be available to meet at 10 a m  or 2 p m  on any weekday next week  i would be happy to come up to your office  but please let me know if you prefer to meet elsewhere    thank you very much   sincerely  aleisha johnson\n",
      "dear mr  wood   i am writing on behalf of house representative jesse walton to set up a meeting with you to discuss the water restrictions in temple terrace  he is available to meet at either 10 30 a m   11 a m  or 4 30 p m  next tuesday  august 15 at his office  3278 w  14th street  tampa   please confirm a meeting time at your earliest convenience    thank you  shailene cobb assistant to h r  jesse walton\n",
      "dear therese mcmahon   my name is essie high  and i am a realtor in jacksonville  i met your friend brian wallace at a town hall meeting last night  and he informed me that i might be able to help you relocate your office  i have successfully found new homes for several local businesses with complicated needs  including a brewery and a nonprofit children s preschool  so i am confident that i can assist you    i would love to meet you over lunch one day next week  perhaps at straub s steakhouse near your present office  i am available any day monday through thursday   thank you for your consideration  i look forward to hearing from you \n",
      "dear  name of recipient    i m  name   working as  position  at  company name   here  we specialize in  activities related to your recipient   and we ve helped  relevant examples of clients and pain points  obtain  relevant examples of your work    since you re a  position  at  receipient s company   i believe we could collaborate to achieve  main goal of the meeting     i d like to invite you to our office at  address  for a meeting to discuss this further  would either  two choices of date and time  work for you   please let me know if you d like to meet at a different time   kind regards    your name \n",
      "hi  recipient    i m  name    job title  at  company name   let me get right to the point   i specialize in  activities related to your recipient  and i m looking for new clients dealing with  pain points  to  value you provide   in my company  we ve helped  relevant examples of your clients and pain points  obtain  relevant examples of your work    i d like to invite you over to our offices at  address  to talk more about how we can help you achieve  main purpose of the meeting  over some coffee and donuts   would either  two choices of date and time  work for you   looking forward to meeting with you    your name \n",
      "dear  mr  ms  last name    i hope this email finds you well  i m writing this email to schedule a meeting concerning  main topic of your meeting   if it s convenient  i would suggest meeting at  location  time and place    kindly confirm your availability and preference if you d like to change the time or location   kind regards    your name \n",
      "dear  recipient s name    i m  name    title  at  company name   let me get right to the point   i m looking for clients who are leaders in their industry and currently experiencing  main pain points   at  your company s name   we ve helped clients like  notable clients  achieve  value you provide    let me know if either  two choices of date and time  work for you  i also want to confirm you re the right decision maker in this area at  recipient s company   kind regards    your name \n",
      "from  alana beck  subject  project kick off meeting  friday 1 29  hi team   i m happy to welcome you all to our department s social media outreach project  we ve got a great team set up  and i m looking forward to seeing what we accomplish together   please join me on friday  january 29  for a kick off meeting at 10 a m  we ll meet in the third floor conference room for about two hours  water and light refreshments will be provided   come prepared with any questions you might have about the project  we ll discuss overall strategy  goals and timelines  and everyone will receive their initial assignments   so that we have an accurate headcount  please click on this calendly link and accept your invitation to the meeting  i scheduled the meeting based on everyone s availability in calendly  but if anything has changed  let me know by wednesday at the latest    can t wait to get this project off the ground   thank you all   alana\n",
      "from  connor murphy  subject  happy home insurance upcoming agm  dear shareholders    as the time for happy home insurance s annual general meeting approaches  we d like to thank you for your ongoing support  we hope you will attend this year s meeting  which we have scheduled to take place on march 3  2021  at 11 a m  on zoom  you ll find the link here    we ve attached a meeting agenda to this email so you know what to expect  as you ll see  the meeting will cover the following key topics   elections to fill this year s board openings  votes on shareholder proposals  annual financial reports  new developments  we expect that the meeting will last between two and 2 5 hours  please let us know if you can attend by clicking this link  we ask you to reply by february 15  as we need a quorum to hold the meeting as scheduled   thank you for your time  and we hope to see you on march 3   kind regards    connor murphy  business development manager\n",
      "subject  meeting invitation for monday  march 29th at 9 00 am cst 10 00 am est  health insurance options  text of message  thank you for contacting our office about your health insurance options  i will be coming to your office to review the results of my analyses of your particular needs  if any of the information you gave to my team changes  please let me know  otherwise  i look forward to seeing you at our meeting  scheduled for the below   date  monday  march 29  2021 time  9 00 am   10 00 am cst 10 00 am   11 00 am est location  your office  if you have any questions  please contact me at  555  555 5555 or tmartin abcinsurance com   best regards  terry\n",
      "subject  meeting invitation for monday  march 29th at 9 00 am cst 10 00 am est  abc software product demo  text of message  thank you for your interest in abc software  i will be coming to your office to do a demonstration of our software and answer any questions you may have  if you would like to discuss anything in advance of our meeting  please contact me at  555  555 5555 or cjones abcsoftware com  here are the details of our meeting   date  monday  march 29  2021 time  9 00 am   10 00 am cst 10 00 am   11 00 am est location  your office  i look forward to meeting you and showing you the powerful functionality of abc software   best regards  chris\n",
      "subject  meeting invitation for monday  march 29th at 9 00 am cst 10 00 am est  town hall meeting  text of message  please attend this meeting to hear about how we are doing  our initiatives for the near and medium term  and for a q a session  a light breakfast  orange juice and coffee will be provided   date  monday  march 29  2021 time  9 00 am   10 00 am cst 10 00 am   11 00 am est location  second floor conference room  we value your thoughts and input  and hope you arrive early to get a good seat  if you have any questions  please contact maggie barnett at  555  555 5555 or mbarnett xyzconsulting com   see you there   marty\n",
      "good day   our company has recently launched a new product  in conjunction with the release  i would like to schedule a conference call  which will also be broadcast live over the internet that day at 8 30 a m  eastern time   what               product overview  when              tuesday  november 12  2019  at 8 30 a m  eastern time  where             via phone  by dialing  1 111 111 1111 and asking for the  your company name  call  or via webcast  insert link    please confirm if you be able to join the call   best regards   your name \n",
      "dear all   please be invited to join our online meeting to discuss our new project   migration to a new crm platform   the milestones of the project will be the following   1  collect data 2  migration 3  testing 4  go live  during our brainstorm  we re going to discuss all these steps and we re going to distribut  the tasks between us   see you all in a couple of days   sincerely   your name \n",
      "subject  explore our new platform  dear partners   we are pleased to invite you to join our virtual seminar on our new platform  within 30   40 minutes  we will show you how to use this new platform and we will tell you about its main functionalities and the benefits it will provide to your organization  you can expect an email with a link to the meeting invitation soon   date  november 12  2020 time  14 00   14 30  sincerely   your name \n",
      "hey  client name    hope you ve been well since  event  place and or time you previously met    just wanted to follow up to see if you were still interested in learning more about  your company  and how we can help with  pain point   are you still looking for someone to help you with  your service    if so  i d love to talk  we can grab a coffee or hop on a quick call to discuss further   whatever works for you works for me   thanks and have a great one    signature \n",
      "hi janet   my colleague  john hughes  recommended you as a standout graphic designer  my company works with graphic designers and other creatives to help them better market their services  and i d love to talk with you about your work and see if i might be able to help drive some business your way   would you be available for a quick coffee meeting at 9 a m  on monday  my treat   let me know by friday if that will work for you   talk soon  laura\n",
      "hi ben   it s karl from appcues   it was great to speak with you about   topic from last communication     i m getting in touch because i m aware that you recently   something that they or their company is doing     i have some ideas about how you could implement   helpful related topic or resource    and i think that i might be able to help you out   do you have time next week to set up a call or grab a coffee together   i promise not to take too much of your time  i really appreciate you taking your time to hear me out on this   karl\n",
      "hi mike   my name is kyle  and i m the director of sales for career services inc  i noticed you have several positions to fill in your company  and i d love to set up a meeting with you to see if a potential collaboration might benefit us both  would you be able to meet at your office or ours next thursday at 11 a m    i look forward to hearing from you  please feel free to suggest another location or time if the above doesn t work for you   regards  kyle\n",
      "dear  recipient name  my name is      and i am contacting you on behalf of  company name   which is  describe company activities   i would like to request for a meeting with someone from the  management marketing department etc   to discuss  topic or topics   anytime between  date and time 1  and  date and time 2  would be great but i am more willing to adjust to another convenient date and time of your choice  thank you very much for your time  i look forward to hearing from you  best regards\n",
      "dear  recipient name  my name is     from  company name   which is a  company description   i am trying to locate someone from the  marketing department  accounting department  etc   to meet and discuss  topic or topics   i appreciate if you could point me in the right direction by providing the name and contact details of the most suitable person  thank you very much for your time  best regards\n",
      "dear  government official name    my name is  your name  and i contacting you on behalf of  agency name     background paragraph on what you do and why you want to meet the government official    i was wondering if i could take a few minutes from your busy to schedule to ask you few questions about  some topic   please indicate a convenient date and time and i shall make all the necessary arrangements   thank you very much in advance  looking forward to your affirmative response   sincerely \n",
      "dear  recipient name    i was wondering whether you received my meeting request that i sent on february 3rd   in case you didn t  then please accept my request to meet you on a date and time that are convenient for you in order to discuss  some important matter    i really appreciate that you acknowledge my request and i really hope that we can meet soon   best regards\n",
      "dear  manager name    i was wondering if we can meet at your earliest convenient time to discuss  some topic   i apologize for the short notice but this is kind of an urgent matter  would sunday  15 june 3 pm suit you   thank you very much for your time   best regards\n",
      "hi  recipient    i hope you re doing well  it s time for us to meet to discuss  topic   i looked at everyone s availability on calendly  and it looks like  date  at  time  will work best for everyone  let s meet at on  location platform   we should need about  length of meeting   in that time  we should be able to cover    topic 1    topic 2    topic 3   please click this link to let me know whether you ll be able to make it  if you can t  let me know what other time might work  i look forward to seeing you all   best    your name \n",
      "hi there  attendee name    it s that time again  for this  week month quarter  s meeting  we ll be discussing  x  and  y  and deciding on  z   here s a quick rundown of our agenda    talking point   action item   meeting goal     if you have any questions or concerns in the meantime  be sure to shoot me an email  see you soon    signature \n",
      "hi  attendee name    looking forward to talking in depth about  subject  and likewise answering any questions you may have  just as a quick recap  we ll be discussing  x  with the end goal of deciding on  y     prior to meeting  please make sure that you  action item  and review  information     looking forward to it and talk soon    signature \n",
      "hi  attendees    on  date    attendee  will be conducting a virtual presentation on  subject   the purpose of this presentation is to  goal   there s a lot to cover  so here s a quick rundown of our agenda    talking point  1   x mins   talking point  2   x mins   talking point  3   x mins   action item   meeting goal     if you have any questions or comments about the schedule  please let me know asap   thanks    signature \n",
      "hi  attendees    the goal of this meeting is to make a decision regarding  x   prior to this meeting  please make sure that you review  information  and be prepared to talk at length about    talking point  1   talking point  2   talking point  3     regards    signature \n",
      "hey team   long time  no see    this meeting will be focused on  subject   while also discussing  x  and  goal   we ll have a chance to talk for  time   during which we ll cover    talking point   action item   meeting goal     looking forward to it    signature \n",
      "subject line  there s no time like the present  headspace s promotional email is one of our favorite examples  the hero image conveys friendly  positive vibes that help reinforce the benefit that the recipient will receive from headspace  it makes a subtle and very engaging combination   the further narrative gives you a few serious reasons to start meditating  there s never too much positivity  compassion or new people in your life  after all   headspace uses the email subject line to offer a clear incentive and follow up with a bold cta to prompt action  supported by a clear benefit that life will be better when they join headspace   headspace incorporates an offer end date to introduce scarcity and prompt the recipient to take action quickly \n",
      "the holiday season is fast approaching  let me help you save time shopping for gifts   i carry an absolutely unique gift line that is both historical and beautiful  i have hundreds of specimens of dominican amber with insects  additionally  i carry dominican blue amber with and without insects   many of my customers also purchase a loupe to get a closer view at those insects in the amber  when you buy amber from me  i will discount the loupe 25    here are some of the things people are saying about my amber     list testimonials   a full display of photographs and pricing can be found on my web site  list web address   or you can call me at 555 5555  i ll be happy to answer your questions \n",
      "we are offering all doe customers a chance to save up to 45  on computer software this saturday  march 15  from 8 00 a m  to 9 00 p m   at our main street store  receive discounts on all the latest software packages by bringing canned food for the homeless  the more food you bring  the more you save  plan to be there \n",
      "great news  next week  on january 25  doe fine cosmetics will extend an incredible offer  buy  15 worth of your favorite cosmetics and you will receive a handy carrying case  lipstick in berrypink  lip liner in rock mauve  and our famous age defying moisturizing cream  don t be left out  mark your calendar now  this unique offer is available for one day only   as a long time user of doe cosmetics  you are no doubt aware of their hypoallergenic ingredients and color that stays true  but did you know they are made of only the finest natural ingredients  which makes them gentle to your skin and environmentally friendly  and doe never tests its products on animals   approximately two days before the sale you should receive a coupon in the mail reminding you of this fantastic offer  redeem it for your special gift at the nearest fine department store with a  15 doe cosmetic purchase \n",
      "for a limited time doe flooring will install your new hardwood floor for 10  off their already low prices when you present this coupon to any doe flooring center  many new styles and colors are in stock  and professional decorators will help you choose the finest flooring to match your decor  the first 20 customers will also receive a gallon of floor revive  our patented dressing for protecting and preserving fine wood floors  but hurry  this offer can t last forever  come in now to see our fantastic selection \n",
      "dear  this is to announce our 10  special discount offer that we are making on all orders for the following items for the month of  month  only this 10  discount is available on any order set for delivery from  date  through  date    and is our way of saying thank you for being such a valued customer   we hope you will take advantage of this offer and will send us your purchase order today  we will look forward to hearing from you \n",
      "subject line  don t forget your 10  off   moo s promotion lures you in with 10  off for their great quality print products  the brand again builds up trust with a promise  if your order s not exactly how you pictured it  we ll reprint it for free   that efficiently eases anxiety about making a purchase   sounds like a bulletproof sales offer \n",
      "subject line  enjoy  15 off every  60 spent  this is a great promotional email example  space nk uses everything from a money off incentive  scarcity    limited time only   social proof to personalization   also  space nk uses social proof which gives you some  top rated  shopping ideas and 5 star reviews from other customers  this eases customer anxieties about whether the brand is reputable and can be trusted   space nk uses specific user account information to personalize their emails with relevant product recommendations and account usage summary   although there are many  small  shop now  ctas sprinkled across this email template  the primary cta is clear and stands out from other content \n",
      "hello  name    thank you for being joining our subscription list   we re thrilled to offer you a special discount on our  products    please use the code below at the checkout to activate your x  discount    code   the discount offer is valid until  date     have a great day   name of the company employee \n",
      "dear  name   we are happy to be your loyal customer for the last 5 years and during this time we have always been pleased with the quality of  product  service  you supply and the level of customer service you provide  nonetheless  as our firms have done business together for so many years  and since we are currently experiencing certain financial difficulties  we would like to request a discount on future orders  looking forward to hearing your positive response  thank you in advance  sincerely   your signature \n",
      "hi  name   thank you for contacting us  i am very sorry  but we won t be able to honor your discount request   unfortunately  our promo ended over a month ago  so the 50  off coupon code you provided has already expired and is no longer active in our system   our coupons are typically valid for 30 days after they are issued  however  you can find our future promotions on our website at  link    you are also welcome to join our mailing list to receive latest deals and special offers  please  let me know if you would like me to add your email to our list  best regards   your signature \n",
      "6  dear  name    it s your birthday today  celebrate with a little extra something on us   as a small birthday treat  we are giving you 50  off your next purchase for the rest of the month  make sure to enter your unique code below at checkout  but hurry   it s only valid till the end of the month  discount code  best wishes from all of us at  company    your signature \n",
      "hi jimmy   thank you so much for chatting with me today  it was such a pleasure to learn more about the marketing manager role  and i m very excited about the opportunity to join news crew and help your team bring a new readership to your amazing content   i look forward to hearing from you about next steps  but please don t hesitate to contact me if i can provide any additional information   all the best  liz\n",
      "hi ms  bernard   i just wanted to thank you for inviting me to your office today  it was great to hear about 4apps  goals for streamlining your software and placing an emphasis on quality ux design  and how you see the engineering department playing a role in these initiatives  4apps seems like a wonderful place to work and not just because you mentioned some great summer outings  i really admire the mission that drives your business  and look forward to the opportunity to work with your team to implement some of the ideas i mentioned around redesigning the homepage   please let me know if there s anything else you need from me to move the process forward   have a great rest of your week  kyle triston\n",
      "subject line  thank you for the interview  dear dr  chen   thank you for taking the time to speak with me about the marketing manager position this morning  it was inspiring to have such an insightful conversation about marketing metrics  and it was a pleasure to learn more about your insight into the industry   the details you shared about the position and future goals for the marketing team convinced me that the role would be an ideal match for my qualifications  i believe that my master of science in marketing from edison university and seven years of experience as a marketing specialist would allow me to make a valuable contribution to the department   thank you   hannah lee hannah lee email com 222 555 7777\n",
      "subject line of the message  thank you assistant account executive interview  dear ms  jenkins   i enjoyed speaking with you today about the assistant account executive position at the smith agency  the job seems to be an excellent match for my skills and interests   the creative approach to account management that you described confirmed my desire to work with you   in addition to my enthusiasm  i will bring to the position strong writing skills  assertiveness  and the ability to encourage others to work cooperatively with the department   i appreciate the time you took to interview me  i am very interested in working for you and look forward to hearing from you regarding this position   sincerely   marjorie campbell\n",
      "hi daniel   thank you for your time yesterday  i enjoyed the interview and it was interesting to hear about how the team is expanding and the new types of customers you re trying to attract   i m confident that i can take what i ve learned at  current employer s name  and step into your role and be successful  so i m eager to hear your feedback when you have a chance   don t hesitate to contact me in the meantime if you have any questions or concerns   best regards  biron clark\n",
      "dear   contact name     thank you  again  for the time you spent with me today  i really enjoyed meeting you and exploring how i might be able to assist   organization   as the new   job title     after our conversations  i am even more confident that this position is a job i would enjoy  as well as one where i can be successful and make a valuable contribution   i am particularly excited about   aspect of job  particular challenge discussed  or note about the organization       add a personal note that is specific to the conversation or share a promised resource     you mentioned that the decision on this position will be made in   time frame provided by employer    in the meantime  if there is any additional information you need from me please let me know and i ll get it over to you   again  i appreciate the chance to interview with   organization   and am grateful for the time you spent with me   sincerely     your name     your linkedin url     \n",
      "dear   contact name     i appreciate having the opportunity to speak with you today about the   job title   position at   company name    after our conversation  i m very excited about this opportunity  i believe my skills and interests are a perfect match for this role   i am particularly interested in   aspect of job or hiring organization       add personal note  specific to the conversation or share a link to something you mentioned in conversation  like your personal website     i appreciate the time you took to interview me today  and i look forward to having the opportunity to meet you in person   if you need any additional information from me  please feel free to contact me at any time   again  thank you for your time and consideration   sincerely     your name     your linkedin url  \n",
      "subject line  thank you  interviewer s name       hello  interviewer s name       thank you so much for taking the time to meet with me and talk about the position of the  position name  yesterday  it was a pleasure to learn more about your business approach      our conversation made me even more excited to join the  company name   what interested me in particular was  something specific you discussed during the interview       i was thinking about what you said on  the upcoming challenge your interviewers mentioned   in my current previous role as  your current position  i found that  a quick explanation of how you tackled a similar problem       i m sure my experience can translate into similar success as your new  the name of the position you re applying for    if you need any additional information from me at this point  please feel free to contact me  looking forward to hearing back from you on  the specific date established during the interview       thanks again for your time      sincerely       your sign off \n",
      "subject  great to speak with you today   dear  interviewer s name    thank you for taking the time to speak with me today regarding the position of  name the position     company name  has a wonderful strategy and business model   i enjoyed learning about  company insight from the interview    your insight in the interview has convinced me that this is a position  i would enjoy and one where i could be a valuable asset to your team   my skills and experience in  speak about skills and experiences that would be beneficial to your employer   could be very helpful to  company name    i thought about what you said regarding  company issue discussed in the interview   and in my experience   i found that  solution   i base this on my experience my previous role as  previous role    if hired  this is the insight and experience i would use to benefit your company   last  i have attached details of some projects discussed during our interview   feel free to contact me if you have any questions or need any more information   i appreciate your time and thank you for your consideration   sincerely    signature \n",
      "subject line  appreciate your time and advice  mr  ms   interviewer s last name      dear mr  ms   interviewer s last name       i want to take a moment to thank you for taking the time to talk to me about the position of   the position you re applying for  with  company name  yesterday   it was truly inspiring to have such a meaningful conversation with someone who shares my approach to   the type of business activities you discussed  and to learn about your industry insights      the information you shared about your future projects convinced me that this job is a perfect fit  for my professional and personal interests and one where i could make a valuable contribution   i particularly enjoyed learning about  specific information about the job the interviewer shared with you  since   the reason you found it interesting       i was also thinking about what you said on  the upcoming challenge your interviewers mentioned    in my current previous role as  your current position  i found that  a quick explanation of how you tackled a similar  problem       finally  please find attached the details of some of my projects we discussed and an exact documentation  of their business impact      should you need any additional information from me that could assist with the decision making process   feel free to contact me  i look forward to our call next week as discussed      thank you once again      best regards       your sign off \n",
      "subject line  thank you for the opportunity   dear  interviewer s name       it was a pleasure to come and chat for the second time  thank you for this opportunity   now i m even more certain that i will be able to help deliver great results working as   the name of the position  with  company name   what s most exciting for me is   a detail you discussed that makes you most eager to join the company       as regards the project we discussed  i started to think about what is necessary for us to make it successful   please have a look at the attached presentation where i outlined my preliminary ideas  if you have any questions   please let me know   i ll be happy to elaborate on the details      thank you again for your time  i look forward to hearing from you on  the established date  as discussed \n",
      "hi  person s name    it was such a pleasure to meet you today to discuss  role you applied for  at  company name   the position sounds like exactly the type of job i m looking for  and i believe my experience in with  accounts receivable java programming managing a team  would help me thrive in the position   if there are any additional questions i can answer  please let me know  thanks again for meeting with me to speak about this exciting opportunity   best regards    your name  5  dear  insert name    thank you for connecting with me today to discuss the job opportunity at  insert company name    i am very interested in the role and believe my skills would be an excellent match for the position as you described it  with more than  three seven fifteen  years of  management financial accounting investment banking  experience  i could immediately begin to contribute to your firm as it  transitions expands seeks new clients    on a personal note  i really enjoyed talking to you about  our alma mater love of basketball interest in cooking    i look forward to hearing from you soon  please don t hesitate to ask if there are any other questions i can answer about my work experience and how i might contribute to your company   best regards    your name \n",
      "hey  name    we are excited to announce the release of our new app   name of app     1 liner introduction about your app and its function   in the last few months  we have been tirelessly working to improve our product service and we believe that  name of app  will help you enjoy your experience with  company name  even more   so what is  name of app  all about    explain the purpose of your app with visuals and in further depth  focusing on the features    you can download our app directly from the app store and google play   add cta button to download the app \n",
      "hi  first name    exciting news  i m reaching out to let you know that  company name  has just launched our new  product name   this feature will  list one or two major benefits or features    if you ve been struggling with  issue this product solves   i think  product name  would be a big help  if you re interested in learning more about it  feel free to reach out to me to set up some time to chat  you can also learn more about it on our website here     insert link    let me know if you have any questions or want to talk more   thanks   your name \n",
      "hey  name   our new  updated version of  product  is finally live   we made sure to  give a short intro about what makes the updated version different     ready to download the updated version   click on the button below to get started    add cta \n",
      "hey  name    the big day has finally come  we just finished  the product  e g  finished writing our latest book  and waiting for the editor to go through it    before we release the book on  your website  and amazon  we d like to reward all our loyal supporters by allowing you to pre order the book  before anyone else    add an element of scarcity  e g  there will be only 2000 books printed in this printing round  so be fast     add cta  e g  pre order now \n",
      "hi  name    we are super excited to announce our new  name of a digital product service     1 liner description about the product and its function   during the past few months  we have been working really hard to improve our  product service   and we believe that  name of the offering  will help you enjoy your experience with  company  even more   so what is  offering  all about    explain the purpose of your product or service  focusing on the features  add visuals     if applicable  you can download our app directly from the app store or the  google play store    cta button   happy testing  best   your name  amp  company  8217 s name \n",
      "dear  name    the new  product name  is finally available   what makes the  product name  different is  give an intro to the product and say why your audience need it   you can order your  product  directly from our store or find it  name of a platform     add if applicable  the first 100 people that place an order will receive  an extra product discount free shipping unique feature     cta button   best   your name  amp  company  8217 s name \n",
      "hello  name    we couldn  8217 t be happier to welcome  product or service  into the  company  family    but what is  a product  actually  it  8217 s a  short description of a product   you may have heard about such solutions before  but we assure you that  product  is one of a kind    bold statement  just look at this list of benefits that  product name  brings   benefit 1 benefit 2 benefit 3    pretty convincing  huh  you have to test our  product service  to learn about its full potential     cta button   enjoy   best   your name  amp  company  8217 s name \n",
      "hi  name    what  8217 s your  1 challenge right now  please think about it for a second   and now let me guess   8211  it  8217 s  a problem that your product service solves   right    no need to worry  our  product service  is available and ready to make your life easier   now you  8217 d like to ask how you can get it  correct  got you covered  you just need to click the link below and place your order  yep  right there  this small  color  button    cta button   have fun exploring  and let us know what you think   best   your name  amp  company  8217 s name \n",
      "hello  name    our new  updated version of  product service  is finally up and running   we made sure to  briefly explain what makes the updated version better than the previous one     ready to test the updated version   click on the button below to get started    cta button   best   your name  amp  company  8217 s name \n",
      "hi  name    we re excited to announce the launch of one of our most requested features    feature name    it s now easy to  do whatever the feature allows users to do   here s a quick overview of how you can use it    benefit  1   benefit  2   benefit  3   to learn more about this feature  check out this support article   as always  let us know if there s anything we can do to make your experience better   your feedback is always appreciated   thanks for using  product name    your signature \n",
      "we ve been hard at work these past few weeks  months  adding  improving features  to help make  product   even more valuable for you  we re super excited to tell you all about these new features  improvements and we hope you enjoy them as much as we do     update  1   update  2   update  3   update  4   update  5   in the meantime  we d love to hear any feedback you have on  product  and what we can do to make it even better   cheers   your signature \n",
      "trouble signing in   resetting your password is easy    just press the button below and follow the instructions  we  8217 ll have you up and running in no time   buton   if you did not make this request then please ignore this email \n",
      "need to reset your password    use your secret code    code    click on the button below and enter the secret code above   button   if you did not forget your password  you can ignore this email \n",
      "it seems like you forgot your password for  customer portal   if this is true  click the link below to reset your password   reset my password  link   if you did not forget your password  please disregard this email \n",
      "hello  name    somebody requested a new password for the  customer portal  account associated with  email    no changes have been made to your account yet   you can reset your password by clicking the link below   if you did not request a new password  please let us know immediately by replying to this email   yours  the  company  team\n",
      "hi  name    you recently requested to reset the password for your  customer portal  account  click the button below to proceed    button   if you did not request a password reset  please ignore this email or reply to let us know  this password reset link is only valid for the next 30 minutes   thanks  the  customer portal  team\n",
      "please use the following link to reset your password   link   if you did not request a password change  please feel free to ignore this message   if you have any comments or questions don  8217 t hesitate to reach us at  email to customer portal support team   please feel free to respond to this email  it was sent from a monitored email address  and we would love to hear from you \n",
      "hey there   someone requested a new password for your  customer portal  account    button   if you didn  8217 t make this request  then you can ignore this email   \n",
      "classic crockery store   20th bridge kennedy   mumbai   dated  december 22th  2017  to   arjun reddy   sales manager  sales tax department      mumbai   subject  request for resetting password to login on sales department website  respected sir   i  henry rodgers from classic crockery store  want to submit my sales tax online at the website  my company has been regular in submitting sales tax to the government  now  i am logging after a year to pay the previous year s sales tax that has amounted to 10000 rupees at 12  per year  but  there seems to be a problem with the login system  even after repeated tries  i have failed to login to my account on the website of sales tax department  the reason behind such an issue is that i have forgotten the exact password to login  so  it is a kind request to the sales tax department to revert me with the link to reset the password   as the last day for submission of sales tax is approaching  it is a humble request to process my email as soon as possible because i want to submit the sales tax well on time  our crockery store has been paying sales tax without any delay and wish to do the same  this year  i shall be highly obliged to you   thanks   anup jalota   classic crockery store\n",
      "i am writing to request for a password reset for the sfdc portal  my name is ajay singh and my jananayak id is 01234  i work at the civil lines center  and my login id is ajsingh  i would request you to please reset the password of my sfdc portal account  and confirm me once done \n",
      "password reset request email           dear sir  i want to inform you that i have forgotten my internet banking password and thus cannot access into my transaction details  the particulars of my current internet banking account are as follows  user id                         \n",
      "subject  jane doe  director of marketing  we are thrilled to announce the promotion of jane doe to director of marketing in the corporate communications department  jane joined the company five years ago and has advanced through progressively more responsible positions in both the advertising and sales departments  where she has played a key role during our transition to our newly acquired digital sales and marketing technology   jane thus brings a wealth of experience to the corporate communications department  and we are excited about her new role at the company   please join us in welcoming jane to corporate communications and congratulating her on her promotion   best regards   marian smith executive director  corporate communications\n",
      "subject  michael nolan   customer service manager  i am pleased to announce michael nolan has earned a well deserved promotion to customer service manager effective october 1   michael brings extensive experience in customer service  customer solutions  and communications to his position  along with several years of experience with our company   i would appreciate you welcoming him on board as he transitions to this new role   if you have any questions moving forward  please don t hesitate to ask   sandra tollhouse hr manager\n",
      "subject  joe smith  regional manager  we are pleased to announce the promotion of joe smith to regional manager of our northeast operations  joe has been with xyz company for eight years  during which time he has held positions in sales and management  proving himself to be a committed company advocate   joe came to xyz from another retailer and brought with him energy and enthusiasm that he has continued to use while leading his employees to consistently improve their sales numbers   his background in business gives him an overall understanding of how to improve customer satisfaction  and his ability to motivate his team has led to his continued success in connecticut   while the connecticut offices will miss him  please join us in welcoming joe to boston  and in congratulating him on his new position   regards   mary o hara director  xyz company\n",
      "email subject line  welcoming  employee s name  to  team   department   hi all   i m very pleased to announce that  employee s name  is  moving to marketing to work as our new social media analyst   being promoted to senior account manager    in the past  2 years    employee s name  has achieved great things in  previous team department  helping us  maintain a fully functional website   provide excellent customer support   now   he she they  will bring  his her their  knowledge and experience to  build new mobile apps   expand our customer base through new marketing channels    please join me in congratulating  employee s name  and wishing  him her them  best luck in  his her their  new role   best   your name   your email signature \n",
      "hi all   i am very pleased to announce that stan is transferring to the marketing department to work as our new social media analyst   in the past 3 years  stan has achieved great things with the sales team helping us to maintain a fully functional website by bridging the gap between the sales and marketing departments  he has put in extra hours and taken on more responsibility  his record with our customers and coworkers is impressive by far  now  he will bring his deep knowledge and experience to expand our customer base through the use of new marketing channels   if you have any queries about what stan s new position might mean for your new working relationship  don t hesitate to direct any questions to me   please join me in sending stan a big congratulations and wishing him the best of luck in his new role   best   hulk hogan  team leader   \n",
      "to  engineering department  from  sheldondoyle greenfarm com  subject  marylyn marlon  manufacturing supervisor  i am honored to announce that marylyn marlon has been promoted to the role of manufacturing supervisor  effective 11 december 2030  this job promotion coincides with the launch of the solar power solutions project  which will be spearheaded by mrs  marlon   in the 12 years that mrs  marlon has worked with green farm technologies  she has launched  led  and assisted in over 200 engineering projects and 60 save the environment campaigns  most recently  she won the humanitarian award for her service to the environment   besides her stellar achievements in the workplace  mrs  marlon is also a beloved and dedicated employee  she is a team player  an avid worker  and a problem solver  the department will benefit immensely from her leadership   once again  it is my pleasure to announce this promotion  i welcome you to send your congratulations to mrs  marlon  i am also available to answer any questions regarding this matter over email   regards   sheldon doyle  human resources manager  green farm technologies\n",
      "subject  james meyers  director of marketing  dear all      i am excited to announce the promotion of james meyers from marketing associate to director of marketing  james has been with smith design for more than six years and has contributed greatly to his role as marketing associate by developing new business opportunities for smith  particularly in the tourism and retail segments      james has more than 10 years of marketing experience in the print advertising industry  evidenced by his ability to consistently exceed the expectations of our customers  we have no doubt he will continue to brilliantly represent smith and shine as our director of marketing      james will oversee the marketing teams and all smith marketing initiatives going forward  he will report to me  directly    let us all take a moment to congratulate james on his new promotion and wish him luck for the future      sincerely   sarah gonsalves  president of smith marketing firm   \n",
      "dear staff   subject  zoe washburne  director of customer relations  we are thrilled to announce the promotion of zoe washburne to director of product marketing   zoe has been with serenity valley products from the very beginning and has played a key role in its success   because of this experience  zoe brings a wealth of talent and knowledge to her new department and we are excited about her more hands on role in the company   please join us in congratulating zoe on her promotion and wishing her well in her new role   best   malcolm reynolds\n",
      "valued employees   i am excited to announce that jay cobb has earned a well deserved promotion to head of customer relations effective may 5   jay brings extensive experience in customer relations  solutions  and communication   from a previous role in another company and eight years at serenity valley products   to his position as head of the department   i would appreciate your taking the time to welcome him on board as he transitions to his new role   if you have any questions  please feel free to contact me   malcolm reynolds  ceo\n",
      "to  jenny jackson com  romy jackson com  samantha jackson com   peter jackson com sub  announcing promotion of jenny roy dear all  we are pleased to announce the promotion of jenny roy to the position of managing director of taxation department  jenny joined our company 4 years back as an assistant in taxation department  during this tenure  she was also serving the position of customer coordinator at our new york branch  when it comes to customer relations  decision makings  problems resolution and timely deliveries  jenny s performance was always influential for jackson company  in this new position  she would be looking after all the technical data  file works and website updates  she is a new team leader responsible for researching and developing market opportunities and promotional programmes  we are sure that jenny would bring a fruitful experience to her new role and prove us right for our decision to grant her the position of a managing director  please join us on 12th march to congratulate jenny on her promotion and welcoming her to the taxation department  warm regards  paul smith senior manager  jackson company \n",
      "promotion announcement email      subject line  first and last name of the promoted employee  the title of their new position    salutation       first paragraph  use this paragraph to introduce the promoted employee  include the title of their previous position as well as their new position title  use a sentence or two to detail the employee s time with the organization and your excitement regarding their promotion        second paragraph  describe what led to the promotion  the employee s contributions to the company and the new responsibilities the employee will gain as a result of the promotion  if the employee will report to a different manager  include that information as well        closing paragraph  congratulate the employee and encourage other employees to do the same        closing phrase    your name    your title \n",
      "hey everyone   positive reviews from awesome customers like you help others to feel confident about choosing  business name  too  could you take 60 seconds to go to  link to review platform  and share your happy experiences   we will be forever grateful  thank you in advance for helping us out \n",
      "hey everyone   did you know that the number of  business name  fans has doubled in this year alone  we must be doing something right  let us know what keeps you coming back for more  this enables us to continue providing the best experience possible for you  and helps others understand how   business name  can make their life easier \n",
      "dear  first name   thank you for your recent purchase  we hope you love it  if you do  would you consider posting an online review  this helps us to continue providing great products and helps potential buyers to make confident decisions   thank you in advance for your review and for being a preferred customer \n",
      "dear  customer name    thanks for being our customer  we d like to hear how your experience with  business name  went   do you mind taking just a few minutes to leave a review   you can leave your feedback by visiting this link    review funnel link \n",
      "how was our service today   customer name    if we exceeded your expectations  please consider leaving us a review    review funnel link \n",
      " customer name   we were happy we could help you out today  did we do a good job of  solving whatever problem drove them to your business in the first place    if so  could you take a few minutes to tell us about your experience   just click here to go right to our favorite review site    review funnel link \n",
      "help us improve   customer name    we hope you enjoyed your experience as our customer  but want to know for sure   tell us how you really feel right here    review funnel link \n",
      "hi  first name    thanks for choosing us to  service you provide   we appreciate your trust in us and value your business   if you were happy with our services  please take a moment to leave a review on  platform of your choice    it would mean the world to us   until next time    sender name \n",
      "email subject line  was it as nice for you as it was for us   hi  first name    of all the  business types  in  your location   you chose ours  that makes us feel pretty darn special   but we want to know  did we return the favor   leave a review on  preferred platform  and let us know how your  service type  experience with  company name  went   we read all of our feedback and take it to heart so that we can continue to improve on our  service type    stay well    sender name \n",
      "email subject line  tell us how we re doing in a brief survey  hi  first name    at  company name   we re always trying to improve our  list your type of product service   and we can t do it without your honest feedback   please take a moment to fill out our brief survey   i promise  it ll only take a minute   pull no punches  we want the good  the bad and the ugly   complete the survey   cheers    sender name \n",
      "dear  customer name    thank you for using acme  we d love to hear what you think of our  product service   your feedback will help us determine what features to add and how we can make the product better for you   if you have 3 minutes  please fill out our survey   when you complete it  your name will be entered in a draw to win one of 20  30 amazon vouchers    thanks again    take our survey    your name  \n",
      "dear  customer name    you recently spoke with our customer support team and we d like to hear about your experience  any feedback you have on how we can improve the speed and quality of our service would be  awesome most welcome    if you can  please take a moment to  answer a few quick questions    it shouldn t take more than 5 minutes   thanks    your name  \n",
      "dear  customer name    thank you so much for  using acme  shopping with acme   we hope you re enjoying  our product your order    we have a small favor to ask   if you re happy with our services  could you leave an online review on  yelp tripadvisor trustpilot capterra   it would mean the world to us     as a way of saying thank you  we re offering a   15 coupon 10  discount on your next purchase other    cheers    your name  \n",
      "dear steph  thank you for shopping with papier recently   we hope you were happy with your order  we d love to know how you found the experience of using papier so would like to invite you to rate us on review co uk   it will take only two ticks and will be invaluable to us  thank you so much  the papier team x\n",
      "review request email subject line  got one minute to review us   hi  name    positive reviews from awesome customers like you help other  your customer type  to feel confident about choosing  your business name  for their  your forte  needs  could you take 60 seconds to  review us on  platform of your choice  hyperlinked to the platform     we will be forever grateful  thank you in advance for helping us and our future customers    business name   business contact info \n",
      "hi jane   positive reviews from awesome customers like you help other homeowners to feel confident about choosing barrows brothers for their plumbing needs  could you take 60 seconds to review us on google   we will be forever grateful  thank you in advance for helping us and our future customers   barrows brothers plumbing  93 main st small town  ma 09876 555 123 4567   barrowsbrothers com\n",
      "hi matthew  thanks for using airbnb  we really appreciate you choosing airbnb for your travel plans  to help us improve  we d like to ask you a few questions about your experience so far  it ll only take 3 minutes  and your answers will help us make airbnb even better for you and other guests  thanks the airbnb team                take the survey\n",
      "hi puri  we re curious to know how did you feel about  vending machine  that you purchased a few months back from our store  more   how are you finding it  feel free to share your thoughts with us so we can improve   and keep up the work we re good at  give your feedback link              thanks in advance for your time  the more team\n",
      "feedback survey email  subject line  your feedback means a lot   dear  name    thank you for choosing  business name  to  what your business offers   how did everything go  your honest feedback helps me to continually improve  your core offering  for my clients  would you mind taking a minute to fill out this simple   x  question survey    take the one minute feedback survey  hyperlinked to survey    thank you in advance for helping me help you   best regards    name   headshot   contact info \n"
     ]
    }
   ],
   "source": [
    "step1(df['emails'])"
   ]
  },
  {
   "cell_type": "code",
   "execution_count": 113,
   "metadata": {},
   "outputs": [
    {
     "name": "stdout",
     "output_type": "stream",
     "text": [
      "['dear', 'customer', 'name', 'thank', 'you', 'for', 'contacting', 'us', 'about', 'your', 'defective', 'product', 'name', 'we', 'are', 'truly', 'sorry', 'that', 'it', 'did', 'not', 'work', 'as', 'promised', 'we', 'also', 'apologize', 'for', 'any', 'inconvenience', 'that', 'this', 'has', 'caused', 'for', 'you', 'our', 'products', 'go', 'through', 'several', 'quality', 'control', 'checks', 'before', 'they', 'are', 'delivered', 'to', 'customers', 'however', 'this', 'one', 'regrettably', 'slipped', 'past', 'those', 'checks', 'and', 'failed', 'to', 'live', 'up', 'to', 'our', 'standards', 'to', 'make', 'up', 'for', 'this', 'error', 'we', 'have', 'shipped', 'you', 'a', 'new', 'product', 'name', 'which', 'should', 'arrive', 'within', '2', '5', 'days', 'we', 've', 'also', 'included', 'a', 'pre', 'labeled', 'box', 'for', 'you', 'to', 'return', 'the', 'defective', 'product', 'once', 'you', 've', 'received', 'the', 'replacement', 'we', 're', 'also', 'sending', 'a', '20', 'coupon', 'for', 'your', 'next', 'purchase', 'to', 'make', 'up', 'for', 'the', 'inconvenience', 'we', 'are', 'truly', 'sorry', 'that', 'your', 'original', 'purchase', 'did', 'not', 'live', 'up', 'to', 'your', 'expectations', 'but', 'we', 'look', 'forward', 'to', 'providing', 'a', 'better', 'experience', 'for', 'you', 'going', 'forward', 'thanks', 'again', 'for', 'bringing', 'this', 'issue', 'to', 'our', 'attention', 'and', 'please', 'don', 't', 'hesitate', 'to', 'contact', 'me', 'directly', 'with', 'any', 'other', 'concerns', 'you', 'may', 'have', 'sincerely', 'name', 'title']\n"
     ]
    }
   ],
   "source": [
    " # word tokenizing\n",
    "    \n",
    "s='dear  customer name   thank you for contacting us about your defective  product name   we are truly sorry that it did not work as promised  we also apologize for any inconvenience that this has caused for you  our products go through several quality control checks before they are delivered to customers  however  this one regrettably slipped past those checks and failed to live up to our standards  to make up for this error  we have shipped you a new  product name   which should arrive within 2 5 days  we ve also included a pre labeled box for you to return the defective product once you ve received the replacement  we re also sending a  20 coupon for your next purchase to make up for the inconvenience  we are truly sorry that your original purchase did not live up to your expectations  but we look forward to providing a better experience for you going forward  thanks again for bringing this issue to our attention  and please don t hesitate to contact me directly with any other concerns you may have  sincerely   name   title '\n",
    "words=word_tokenize(s)\n",
    "print(words)"
   ]
  },
  {
   "cell_type": "code",
   "execution_count": 114,
   "metadata": {},
   "outputs": [
    {
     "data": {
      "text/plain": [
       "[('dear', 'JJ'),\n",
       " ('customer', 'NN'),\n",
       " ('name', 'NN'),\n",
       " ('thank', 'NN'),\n",
       " ('you', 'PRP'),\n",
       " ('for', 'IN'),\n",
       " ('contacting', 'VBG'),\n",
       " ('us', 'PRP'),\n",
       " ('about', 'IN'),\n",
       " ('your', 'PRP$'),\n",
       " ('defective', 'JJ'),\n",
       " ('product', 'NN'),\n",
       " ('name', 'NN'),\n",
       " ('we', 'PRP'),\n",
       " ('are', 'VBP'),\n",
       " ('truly', 'RB'),\n",
       " ('sorry', 'JJ'),\n",
       " ('that', 'IN'),\n",
       " ('it', 'PRP'),\n",
       " ('did', 'VBD'),\n",
       " ('not', 'RB'),\n",
       " ('work', 'VB'),\n",
       " ('as', 'RB'),\n",
       " ('promised', 'VBN'),\n",
       " ('we', 'PRP'),\n",
       " ('also', 'RB'),\n",
       " ('apologize', 'VBP'),\n",
       " ('for', 'IN'),\n",
       " ('any', 'DT'),\n",
       " ('inconvenience', 'NN'),\n",
       " ('that', 'IN'),\n",
       " ('this', 'DT'),\n",
       " ('has', 'VBZ'),\n",
       " ('caused', 'VBN'),\n",
       " ('for', 'IN'),\n",
       " ('you', 'PRP'),\n",
       " ('our', 'PRP$'),\n",
       " ('products', 'NNS'),\n",
       " ('go', 'VBP'),\n",
       " ('through', 'IN'),\n",
       " ('several', 'JJ'),\n",
       " ('quality', 'NN'),\n",
       " ('control', 'NN'),\n",
       " ('checks', 'NNS'),\n",
       " ('before', 'IN'),\n",
       " ('they', 'PRP'),\n",
       " ('are', 'VBP'),\n",
       " ('delivered', 'VBN'),\n",
       " ('to', 'TO'),\n",
       " ('customers', 'NNS'),\n",
       " ('however', 'RB'),\n",
       " ('this', 'DT'),\n",
       " ('one', 'CD'),\n",
       " ('regrettably', 'NN'),\n",
       " ('slipped', 'VBD'),\n",
       " ('past', 'IN'),\n",
       " ('those', 'DT'),\n",
       " ('checks', 'NNS'),\n",
       " ('and', 'CC'),\n",
       " ('failed', 'VBD'),\n",
       " ('to', 'TO'),\n",
       " ('live', 'VB'),\n",
       " ('up', 'RP'),\n",
       " ('to', 'TO'),\n",
       " ('our', 'PRP$'),\n",
       " ('standards', 'NNS'),\n",
       " ('to', 'TO'),\n",
       " ('make', 'VB'),\n",
       " ('up', 'RP'),\n",
       " ('for', 'IN'),\n",
       " ('this', 'DT'),\n",
       " ('error', 'NN'),\n",
       " ('we', 'PRP'),\n",
       " ('have', 'VBP'),\n",
       " ('shipped', 'VBN'),\n",
       " ('you', 'PRP'),\n",
       " ('a', 'DT'),\n",
       " ('new', 'JJ'),\n",
       " ('product', 'NN'),\n",
       " ('name', 'NN'),\n",
       " ('which', 'WDT'),\n",
       " ('should', 'MD'),\n",
       " ('arrive', 'VB'),\n",
       " ('within', 'IN'),\n",
       " ('2', 'CD'),\n",
       " ('5', 'CD'),\n",
       " ('days', 'NNS'),\n",
       " ('we', 'PRP'),\n",
       " ('ve', 'VBP'),\n",
       " ('also', 'RB'),\n",
       " ('included', 'VBN'),\n",
       " ('a', 'DT'),\n",
       " ('pre', 'NN'),\n",
       " ('labeled', 'VBN'),\n",
       " ('box', 'NN'),\n",
       " ('for', 'IN'),\n",
       " ('you', 'PRP'),\n",
       " ('to', 'TO'),\n",
       " ('return', 'VB'),\n",
       " ('the', 'DT'),\n",
       " ('defective', 'JJ'),\n",
       " ('product', 'NN'),\n",
       " ('once', 'RB'),\n",
       " ('you', 'PRP'),\n",
       " ('ve', 'VBP'),\n",
       " ('received', 'VBN'),\n",
       " ('the', 'DT'),\n",
       " ('replacement', 'NN'),\n",
       " ('we', 'PRP'),\n",
       " ('re', 'VBP'),\n",
       " ('also', 'RB'),\n",
       " ('sending', 'VBG'),\n",
       " ('a', 'DT'),\n",
       " ('20', 'CD'),\n",
       " ('coupon', 'NN'),\n",
       " ('for', 'IN'),\n",
       " ('your', 'PRP$'),\n",
       " ('next', 'JJ'),\n",
       " ('purchase', 'NN'),\n",
       " ('to', 'TO'),\n",
       " ('make', 'VB'),\n",
       " ('up', 'RP'),\n",
       " ('for', 'IN'),\n",
       " ('the', 'DT'),\n",
       " ('inconvenience', 'NN'),\n",
       " ('we', 'PRP'),\n",
       " ('are', 'VBP'),\n",
       " ('truly', 'RB'),\n",
       " ('sorry', 'JJ'),\n",
       " ('that', 'IN'),\n",
       " ('your', 'PRP$'),\n",
       " ('original', 'JJ'),\n",
       " ('purchase', 'NN'),\n",
       " ('did', 'VBD'),\n",
       " ('not', 'RB'),\n",
       " ('live', 'VB'),\n",
       " ('up', 'RP'),\n",
       " ('to', 'TO'),\n",
       " ('your', 'PRP$'),\n",
       " ('expectations', 'NNS'),\n",
       " ('but', 'CC'),\n",
       " ('we', 'PRP'),\n",
       " ('look', 'VBP'),\n",
       " ('forward', 'RB'),\n",
       " ('to', 'TO'),\n",
       " ('providing', 'VBG'),\n",
       " ('a', 'DT'),\n",
       " ('better', 'JJR'),\n",
       " ('experience', 'NN'),\n",
       " ('for', 'IN'),\n",
       " ('you', 'PRP'),\n",
       " ('going', 'VBG'),\n",
       " ('forward', 'RB'),\n",
       " ('thanks', 'NNS'),\n",
       " ('again', 'RB'),\n",
       " ('for', 'IN'),\n",
       " ('bringing', 'VBG'),\n",
       " ('this', 'DT'),\n",
       " ('issue', 'NN'),\n",
       " ('to', 'TO'),\n",
       " ('our', 'PRP$'),\n",
       " ('attention', 'NN'),\n",
       " ('and', 'CC'),\n",
       " ('please', 'VB'),\n",
       " ('don', 'JJ'),\n",
       " ('t', 'NN'),\n",
       " ('hesitate', 'NN'),\n",
       " ('to', 'TO'),\n",
       " ('contact', 'VB'),\n",
       " ('me', 'PRP'),\n",
       " ('directly', 'RB'),\n",
       " ('with', 'IN'),\n",
       " ('any', 'DT'),\n",
       " ('other', 'JJ'),\n",
       " ('concerns', 'NNS'),\n",
       " ('you', 'PRP'),\n",
       " ('may', 'MD'),\n",
       " ('have', 'VB'),\n",
       " ('sincerely', 'RB'),\n",
       " ('name', 'JJ'),\n",
       " ('title', 'NN')]"
      ]
     },
     "execution_count": 114,
     "metadata": {},
     "output_type": "execute_result"
    }
   ],
   "source": [
    "pos_tag(nltk.word_tokenize(s),tagset = None) # returns the parts of speech of every word"
   ]
  },
  {
   "cell_type": "code",
   "execution_count": 115,
   "metadata": {},
   "outputs": [],
   "source": [
    "# function that performs text normalization steps\n",
    "\n",
    "def text_normalization(text):\n",
    "    text=str(text).lower() # text to lower case\n",
    "    spl_char_text=re.sub(r'[^ a-z]','',text) # removing special characters\n",
    "    tokens=nltk.word_tokenize(spl_char_text) # word tokenizing\n",
    "    lema=wordnet.WordNetLemmatizer() # intializing lemmatization\n",
    "    tags_list=pos_tag(tokens,tagset=None) # parts of speech\n",
    "    lema_words=[]   # empty list \n",
    "    for token,pos_token in tags_list:\n",
    "        if pos_token.startswith('V'):  # Verb\n",
    "            pos_val='v'\n",
    "        elif pos_token.startswith('J'): # Adjective\n",
    "            pos_val='a'\n",
    "        elif pos_token.startswith('R'): # Adverb\n",
    "            pos_val='r'\n",
    "        else:\n",
    "            pos_val='n' # Noun\n",
    "        lema_token=lema.lemmatize(token,pos_val) # performing lemmatization\n",
    "        lema_words.append(lema_token) # appending the lemmatized token into a list\n",
    "    \n",
    "    return \" \".join(lema_words) # returns the lemmatized tokens as a sentence "
   ]
  },
  {
   "cell_type": "code",
   "execution_count": 116,
   "metadata": {},
   "outputs": [
    {
     "data": {
      "text/plain": [
       "'dear customer name thank you for contact u about your defective product name we be truly sorry that it do not work as promise we also apologize for any inconvenience that this have cause for you our product go through several quality control check before they be deliver to customer however this one regrettably slip past those check and fail to live up to our standard to make up for this error we have ship you a new product name which should arrive within day we ve also include a pre label box for you to return the defective product once you ve receive the replacement we re also send a coupon for your next purchase to make up for the inconvenience we be truly sorry that your original purchase do not live up to your expectation but we look forward to provide a good experience for you go forward thanks again for bring this issue to our attention and please don t hesitate to contact me directly with any other concern you may have sincerely name title'"
      ]
     },
     "execution_count": 116,
     "metadata": {},
     "output_type": "execute_result"
    }
   ],
   "source": [
    "text_normalization('dear  customer name   thank you for contacting us about your defective  product name   we are truly sorry that it did not work as promised  we also apologize for any inconvenience that this has caused for you  our products go through several quality control checks before they are delivered to customers  however  this one regrettably slipped past those checks and failed to live up to our standards  to make up for this error  we have shipped you a new  product name   which should arrive within 2 5 days  we ve also included a pre labeled box for you to return the defective product once you ve received the replacement  we re also sending a  20 coupon for your next purchase to make up for the inconvenience  we are truly sorry that your original purchase did not live up to your expectations  but we look forward to providing a better experience for you going forward  thanks again for bringing this issue to our attention  and please don t hesitate to contact me directly with any other concerns you may have  sincerely   name   title ')"
   ]
  },
  {
   "cell_type": "code",
   "execution_count": 117,
   "metadata": {},
   "outputs": [
    {
     "data": {
      "text/html": [
       "<div>\n",
       "<style scoped>\n",
       "    .dataframe tbody tr th:only-of-type {\n",
       "        vertical-align: middle;\n",
       "    }\n",
       "\n",
       "    .dataframe tbody tr th {\n",
       "        vertical-align: top;\n",
       "    }\n",
       "\n",
       "    .dataframe thead th {\n",
       "        text-align: right;\n",
       "    }\n",
       "</style>\n",
       "<table border=\"1\" class=\"dataframe\">\n",
       "  <thead>\n",
       "    <tr style=\"text-align: right;\">\n",
       "      <th></th>\n",
       "      <th>emails</th>\n",
       "      <th>template</th>\n",
       "      <th>lemmatized_text</th>\n",
       "    </tr>\n",
       "  </thead>\n",
       "  <tbody>\n",
       "    <tr>\n",
       "      <th>103</th>\n",
       "      <td>Subject: Jane Doe, Director of Marketing\\n\\nWe...</td>\n",
       "      <td>JOB PROMOTION ANNOUNCEMENT:Subject: Firstname ...</td>\n",
       "      <td>subject jane doe director of marketingwe be th...</td>\n",
       "    </tr>\n",
       "    <tr>\n",
       "      <th>104</th>\n",
       "      <td>Subject: Michael Nolan - Customer Service Mana...</td>\n",
       "      <td>JOB PROMOTION ANNOUNCEMENT:Subject: Firstname ...</td>\n",
       "      <td>subject michael nolan customer service manager...</td>\n",
       "    </tr>\n",
       "    <tr>\n",
       "      <th>105</th>\n",
       "      <td>Subject: Joe Smith, Regional Manager\\n\\nWe are...</td>\n",
       "      <td>JOB PROMOTION ANNOUNCEMENT:Subject: Firstname ...</td>\n",
       "      <td>subject joe smith regional managerwe be please...</td>\n",
       "    </tr>\n",
       "    <tr>\n",
       "      <th>106</th>\n",
       "      <td>Email subject line: Welcoming [Employee’s name...</td>\n",
       "      <td>JOB PROMOTION ANNOUNCEMENT:Subject: Firstname ...</td>\n",
       "      <td>email subject line welcome employee name to te...</td>\n",
       "    </tr>\n",
       "    <tr>\n",
       "      <th>107</th>\n",
       "      <td>Hi all,\\n\\nI am very pleased to announce that ...</td>\n",
       "      <td>JOB PROMOTION ANNOUNCEMENT:Subject: Firstname ...</td>\n",
       "      <td>hi alli be very pleased to announce that stan ...</td>\n",
       "    </tr>\n",
       "    <tr>\n",
       "      <th>108</th>\n",
       "      <td>To: Engineering Department\\n\\nFrom: sheldondoy...</td>\n",
       "      <td>JOB PROMOTION ANNOUNCEMENT:Subject: Firstname ...</td>\n",
       "      <td>to engineering departmentfrom sheldondoylegree...</td>\n",
       "    </tr>\n",
       "    <tr>\n",
       "      <th>109</th>\n",
       "      <td>Subject: James Meyers, Director of Marketing\\n...</td>\n",
       "      <td>JOB PROMOTION ANNOUNCEMENT:Subject: Firstname ...</td>\n",
       "      <td>subject jam meyers director of marketingdear a...</td>\n",
       "    </tr>\n",
       "    <tr>\n",
       "      <th>110</th>\n",
       "      <td>Dear Staff,\\n\\nSubject: Zoe Washburne, Directo...</td>\n",
       "      <td>JOB PROMOTION ANNOUNCEMENT:Subject: Firstname ...</td>\n",
       "      <td>dear staffsubject zoe washburne director of cu...</td>\n",
       "    </tr>\n",
       "    <tr>\n",
       "      <th>111</th>\n",
       "      <td>Valued Employees,\\n\\nI am excited to announce ...</td>\n",
       "      <td>JOB PROMOTION ANNOUNCEMENT:Subject: Firstname ...</td>\n",
       "      <td>value employeesi be excite to announce that ja...</td>\n",
       "    </tr>\n",
       "    <tr>\n",
       "      <th>112</th>\n",
       "      <td>To: jenny@jackson.com, romy@jackson.com, Saman...</td>\n",
       "      <td>JOB PROMOTION ANNOUNCEMENT:Subject: Firstname ...</td>\n",
       "      <td>to jennyjacksoncom romyjacksoncom samanthajack...</td>\n",
       "    </tr>\n",
       "    <tr>\n",
       "      <th>113</th>\n",
       "      <td>Promotion announcement email     [Subject line...</td>\n",
       "      <td>JOB PROMOTION ANNOUNCEMENT:Subject: Firstname ...</td>\n",
       "      <td>promotion announcement email subject line firs...</td>\n",
       "    </tr>\n",
       "    <tr>\n",
       "      <th>114</th>\n",
       "      <td>Hey everyone!\\n\\nPositive reviews from awesome...</td>\n",
       "      <td>REVIEW/FEEDBACK REQUEST:Hey [customer name],\\n...</td>\n",
       "      <td>hey everyonepositive review from awesome custo...</td>\n",
       "    </tr>\n",
       "    <tr>\n",
       "      <th>115</th>\n",
       "      <td>Hey everyone,\\n\\nDid you know that the number ...</td>\n",
       "      <td>REVIEW/FEEDBACK REQUEST:Hey [customer name],\\n...</td>\n",
       "      <td>hey everyonedid you know that the number of bu...</td>\n",
       "    </tr>\n",
       "    <tr>\n",
       "      <th>116</th>\n",
       "      <td>Dear [first name]\\n\\nThank you for your recent...</td>\n",
       "      <td>REVIEW/FEEDBACK REQUEST:Hey [customer name],\\n...</td>\n",
       "      <td>dear first namethank you for your recent purch...</td>\n",
       "    </tr>\n",
       "    <tr>\n",
       "      <th>117</th>\n",
       "      <td>Dear [customer name],\\n\\nThanks for being our ...</td>\n",
       "      <td>REVIEW/FEEDBACK REQUEST:Hey [customer name],\\n...</td>\n",
       "      <td>dear customer namethanks for be our customer w...</td>\n",
       "    </tr>\n",
       "    <tr>\n",
       "      <th>118</th>\n",
       "      <td>How was our service today, [customer name]?\\n\\...</td>\n",
       "      <td>REVIEW/FEEDBACK REQUEST:Hey [customer name],\\n...</td>\n",
       "      <td>how be our service today customer nameif we ex...</td>\n",
       "    </tr>\n",
       "    <tr>\n",
       "      <th>119</th>\n",
       "      <td>[Customer name], we were happy we could help y...</td>\n",
       "      <td>REVIEW/FEEDBACK REQUEST:Hey [customer name],\\n...</td>\n",
       "      <td>customer name we be happy we could help you ou...</td>\n",
       "    </tr>\n",
       "    <tr>\n",
       "      <th>120</th>\n",
       "      <td>Help us improve, [customer name]!\\n\\nWe hope y...</td>\n",
       "      <td>REVIEW/FEEDBACK REQUEST:Hey [customer name],\\n...</td>\n",
       "      <td>help u improve customer namewe hope you enjoy ...</td>\n",
       "    </tr>\n",
       "    <tr>\n",
       "      <th>121</th>\n",
       "      <td>Hi [First name],\\n\\nThanks for choosing us to ...</td>\n",
       "      <td>REVIEW/FEEDBACK REQUEST:Hey [customer name],\\n...</td>\n",
       "      <td>hi first namethanks for choose u to service yo...</td>\n",
       "    </tr>\n",
       "    <tr>\n",
       "      <th>122</th>\n",
       "      <td>Email subject line: Was it as nice for you as ...</td>\n",
       "      <td>REVIEW/FEEDBACK REQUEST:Hey [customer name],\\n...</td>\n",
       "      <td>email subject line be it a nice for you a it b...</td>\n",
       "    </tr>\n",
       "    <tr>\n",
       "      <th>123</th>\n",
       "      <td>Email subject line: Tell us how we’re doing in...</td>\n",
       "      <td>REVIEW/FEEDBACK REQUEST:Hey [customer name],\\n...</td>\n",
       "      <td>email subject line tell u how be do in a brief...</td>\n",
       "    </tr>\n",
       "    <tr>\n",
       "      <th>124</th>\n",
       "      <td>Dear [Customer name],\\n\\nThank you for using A...</td>\n",
       "      <td>REVIEW/FEEDBACK REQUEST:Hey [customer name],\\n...</td>\n",
       "      <td>dear customer namethank you for use acme wed l...</td>\n",
       "    </tr>\n",
       "    <tr>\n",
       "      <th>125</th>\n",
       "      <td>Dear [Customer name],\\n\\nYou recently spoke wi...</td>\n",
       "      <td>REVIEW/FEEDBACK REQUEST:Hey [customer name],\\n...</td>\n",
       "      <td>dear customer nameyou recently speak with our ...</td>\n",
       "    </tr>\n",
       "    <tr>\n",
       "      <th>126</th>\n",
       "      <td>Dear [Customer name],\\n\\nThank you so much for...</td>\n",
       "      <td>REVIEW/FEEDBACK REQUEST:Hey [customer name],\\n...</td>\n",
       "      <td>dear customer namethank you so much for use ac...</td>\n",
       "    </tr>\n",
       "    <tr>\n",
       "      <th>127</th>\n",
       "      <td>Dear Steph, Thank you for shopping with Papier...</td>\n",
       "      <td>REVIEW/FEEDBACK REQUEST:Hey [customer name],\\n...</td>\n",
       "      <td>dear steph thank you for shop with papier rece...</td>\n",
       "    </tr>\n",
       "    <tr>\n",
       "      <th>128</th>\n",
       "      <td>Review Request Email Subject line: Got one min...</td>\n",
       "      <td>REVIEW/FEEDBACK REQUEST:Hey [customer name],\\n...</td>\n",
       "      <td>review request email subject line get one minu...</td>\n",
       "    </tr>\n",
       "    <tr>\n",
       "      <th>129</th>\n",
       "      <td>Hi Jane,\\n\\nPositive reviews from awesome cust...</td>\n",
       "      <td>REVIEW/FEEDBACK REQUEST:Hey [customer name],\\n...</td>\n",
       "      <td>hi janepositive review from awesome customer l...</td>\n",
       "    </tr>\n",
       "    <tr>\n",
       "      <th>130</th>\n",
       "      <td>Hi Matthew, Thanks for using Airbnb. We really...</td>\n",
       "      <td>REVIEW/FEEDBACK REQUEST:Hey [customer name],\\n...</td>\n",
       "      <td>hi matthew thanks for use airbnb we really app...</td>\n",
       "    </tr>\n",
       "    <tr>\n",
       "      <th>131</th>\n",
       "      <td>Hi Puri, We're curious to know how did you fee...</td>\n",
       "      <td>REVIEW/FEEDBACK REQUEST:Hey [customer name],\\n...</td>\n",
       "      <td>hi puri be curious to know how do you feel abo...</td>\n",
       "    </tr>\n",
       "    <tr>\n",
       "      <th>132</th>\n",
       "      <td>Feedback Survey Email  Subject line: Your feed...</td>\n",
       "      <td>REVIEW/FEEDBACK REQUEST:Hey [customer name],\\n...</td>\n",
       "      <td>feedback survey email subject line your feedba...</td>\n",
       "    </tr>\n",
       "  </tbody>\n",
       "</table>\n",
       "</div>"
      ],
      "text/plain": [
       "                                                emails  \\\n",
       "103  Subject: Jane Doe, Director of Marketing\\n\\nWe...   \n",
       "104  Subject: Michael Nolan - Customer Service Mana...   \n",
       "105  Subject: Joe Smith, Regional Manager\\n\\nWe are...   \n",
       "106  Email subject line: Welcoming [Employee’s name...   \n",
       "107  Hi all,\\n\\nI am very pleased to announce that ...   \n",
       "108  To: Engineering Department\\n\\nFrom: sheldondoy...   \n",
       "109  Subject: James Meyers, Director of Marketing\\n...   \n",
       "110  Dear Staff,\\n\\nSubject: Zoe Washburne, Directo...   \n",
       "111  Valued Employees,\\n\\nI am excited to announce ...   \n",
       "112  To: jenny@jackson.com, romy@jackson.com, Saman...   \n",
       "113  Promotion announcement email     [Subject line...   \n",
       "114  Hey everyone!\\n\\nPositive reviews from awesome...   \n",
       "115  Hey everyone,\\n\\nDid you know that the number ...   \n",
       "116  Dear [first name]\\n\\nThank you for your recent...   \n",
       "117  Dear [customer name],\\n\\nThanks for being our ...   \n",
       "118  How was our service today, [customer name]?\\n\\...   \n",
       "119  [Customer name], we were happy we could help y...   \n",
       "120  Help us improve, [customer name]!\\n\\nWe hope y...   \n",
       "121  Hi [First name],\\n\\nThanks for choosing us to ...   \n",
       "122  Email subject line: Was it as nice for you as ...   \n",
       "123  Email subject line: Tell us how we’re doing in...   \n",
       "124  Dear [Customer name],\\n\\nThank you for using A...   \n",
       "125  Dear [Customer name],\\n\\nYou recently spoke wi...   \n",
       "126  Dear [Customer name],\\n\\nThank you so much for...   \n",
       "127  Dear Steph, Thank you for shopping with Papier...   \n",
       "128  Review Request Email Subject line: Got one min...   \n",
       "129  Hi Jane,\\n\\nPositive reviews from awesome cust...   \n",
       "130  Hi Matthew, Thanks for using Airbnb. We really...   \n",
       "131  Hi Puri, We're curious to know how did you fee...   \n",
       "132  Feedback Survey Email  Subject line: Your feed...   \n",
       "\n",
       "                                              template  \\\n",
       "103  JOB PROMOTION ANNOUNCEMENT:Subject: Firstname ...   \n",
       "104  JOB PROMOTION ANNOUNCEMENT:Subject: Firstname ...   \n",
       "105  JOB PROMOTION ANNOUNCEMENT:Subject: Firstname ...   \n",
       "106  JOB PROMOTION ANNOUNCEMENT:Subject: Firstname ...   \n",
       "107  JOB PROMOTION ANNOUNCEMENT:Subject: Firstname ...   \n",
       "108  JOB PROMOTION ANNOUNCEMENT:Subject: Firstname ...   \n",
       "109  JOB PROMOTION ANNOUNCEMENT:Subject: Firstname ...   \n",
       "110  JOB PROMOTION ANNOUNCEMENT:Subject: Firstname ...   \n",
       "111  JOB PROMOTION ANNOUNCEMENT:Subject: Firstname ...   \n",
       "112  JOB PROMOTION ANNOUNCEMENT:Subject: Firstname ...   \n",
       "113  JOB PROMOTION ANNOUNCEMENT:Subject: Firstname ...   \n",
       "114  REVIEW/FEEDBACK REQUEST:Hey [customer name],\\n...   \n",
       "115  REVIEW/FEEDBACK REQUEST:Hey [customer name],\\n...   \n",
       "116  REVIEW/FEEDBACK REQUEST:Hey [customer name],\\n...   \n",
       "117  REVIEW/FEEDBACK REQUEST:Hey [customer name],\\n...   \n",
       "118  REVIEW/FEEDBACK REQUEST:Hey [customer name],\\n...   \n",
       "119  REVIEW/FEEDBACK REQUEST:Hey [customer name],\\n...   \n",
       "120  REVIEW/FEEDBACK REQUEST:Hey [customer name],\\n...   \n",
       "121  REVIEW/FEEDBACK REQUEST:Hey [customer name],\\n...   \n",
       "122  REVIEW/FEEDBACK REQUEST:Hey [customer name],\\n...   \n",
       "123  REVIEW/FEEDBACK REQUEST:Hey [customer name],\\n...   \n",
       "124  REVIEW/FEEDBACK REQUEST:Hey [customer name],\\n...   \n",
       "125  REVIEW/FEEDBACK REQUEST:Hey [customer name],\\n...   \n",
       "126  REVIEW/FEEDBACK REQUEST:Hey [customer name],\\n...   \n",
       "127  REVIEW/FEEDBACK REQUEST:Hey [customer name],\\n...   \n",
       "128  REVIEW/FEEDBACK REQUEST:Hey [customer name],\\n...   \n",
       "129  REVIEW/FEEDBACK REQUEST:Hey [customer name],\\n...   \n",
       "130  REVIEW/FEEDBACK REQUEST:Hey [customer name],\\n...   \n",
       "131  REVIEW/FEEDBACK REQUEST:Hey [customer name],\\n...   \n",
       "132  REVIEW/FEEDBACK REQUEST:Hey [customer name],\\n...   \n",
       "\n",
       "                                       lemmatized_text  \n",
       "103  subject jane doe director of marketingwe be th...  \n",
       "104  subject michael nolan customer service manager...  \n",
       "105  subject joe smith regional managerwe be please...  \n",
       "106  email subject line welcome employee name to te...  \n",
       "107  hi alli be very pleased to announce that stan ...  \n",
       "108  to engineering departmentfrom sheldondoylegree...  \n",
       "109  subject jam meyers director of marketingdear a...  \n",
       "110  dear staffsubject zoe washburne director of cu...  \n",
       "111  value employeesi be excite to announce that ja...  \n",
       "112  to jennyjacksoncom romyjacksoncom samanthajack...  \n",
       "113  promotion announcement email subject line firs...  \n",
       "114  hey everyonepositive review from awesome custo...  \n",
       "115  hey everyonedid you know that the number of bu...  \n",
       "116  dear first namethank you for your recent purch...  \n",
       "117  dear customer namethanks for be our customer w...  \n",
       "118  how be our service today customer nameif we ex...  \n",
       "119  customer name we be happy we could help you ou...  \n",
       "120  help u improve customer namewe hope you enjoy ...  \n",
       "121  hi first namethanks for choose u to service yo...  \n",
       "122  email subject line be it a nice for you a it b...  \n",
       "123  email subject line tell u how be do in a brief...  \n",
       "124  dear customer namethank you for use acme wed l...  \n",
       "125  dear customer nameyou recently speak with our ...  \n",
       "126  dear customer namethank you so much for use ac...  \n",
       "127  dear steph thank you for shop with papier rece...  \n",
       "128  review request email subject line get one minu...  \n",
       "129  hi janepositive review from awesome customer l...  \n",
       "130  hi matthew thanks for use airbnb we really app...  \n",
       "131  hi puri be curious to know how do you feel abo...  \n",
       "132  feedback survey email subject line your feedba...  "
      ]
     },
     "execution_count": 117,
     "metadata": {},
     "output_type": "execute_result"
    }
   ],
   "source": [
    "df['lemmatized_text']=df['emails'].apply(text_normalization) # applying the fuction to the dataset to get clean text\n",
    "df.tail(30)"
   ]
  },
  {
   "cell_type": "code",
   "execution_count": 118,
   "metadata": {
    "scrolled": true
   },
   "outputs": [
    {
     "name": "stdout",
     "output_type": "stream",
     "text": [
      "['i', 'me', 'my', 'myself', 'we', 'our', 'ours', 'ourselves', 'you', \"you're\", \"you've\", \"you'll\", \"you'd\", 'your', 'yours', 'yourself', 'yourselves', 'he', 'him', 'his', 'himself', 'she', \"she's\", 'her', 'hers', 'herself', 'it', \"it's\", 'its', 'itself', 'they', 'them', 'their', 'theirs', 'themselves', 'what', 'which', 'who', 'whom', 'this', 'that', \"that'll\", 'these', 'those', 'am', 'is', 'are', 'was', 'were', 'be', 'been', 'being', 'have', 'has', 'had', 'having', 'do', 'does', 'did', 'doing', 'a', 'an', 'the', 'and', 'but', 'if', 'or', 'because', 'as', 'until', 'while', 'of', 'at', 'by', 'for', 'with', 'about', 'against', 'between', 'into', 'through', 'during', 'before', 'after', 'above', 'below', 'to', 'from', 'up', 'down', 'in', 'out', 'on', 'off', 'over', 'under', 'again', 'further', 'then', 'once', 'here', 'there', 'when', 'where', 'why', 'how', 'all', 'any', 'both', 'each', 'few', 'more', 'most', 'other', 'some', 'such', 'no', 'nor', 'not', 'only', 'own', 'same', 'so', 'than', 'too', 'very', 's', 't', 'can', 'will', 'just', 'don', \"don't\", 'should', \"should've\", 'now', 'd', 'll', 'm', 'o', 're', 've', 'y', 'ain', 'aren', \"aren't\", 'couldn', \"couldn't\", 'didn', \"didn't\", 'doesn', \"doesn't\", 'hadn', \"hadn't\", 'hasn', \"hasn't\", 'haven', \"haven't\", 'isn', \"isn't\", 'ma', 'mightn', \"mightn't\", 'mustn', \"mustn't\", 'needn', \"needn't\", 'shan', \"shan't\", 'shouldn', \"shouldn't\", 'wasn', \"wasn't\", 'weren', \"weren't\", 'won', \"won't\", 'wouldn', \"wouldn't\"]\n"
     ]
    }
   ],
   "source": [
    "# all the stop words we have \n",
    "\n",
    "stop = stopwords.words('english')\n",
    "print(stop)"
   ]
  },
  {
   "cell_type": "code",
   "execution_count": 119,
   "metadata": {
    "scrolled": true
   },
   "outputs": [
    {
     "data": {
      "text/plain": [
       "pandas.core.frame.DataFrame"
      ]
     },
     "execution_count": 119,
     "metadata": {},
     "output_type": "execute_result"
    }
   ],
   "source": [
    "# Term frequencies\n",
    "# find the most frequent words in the data, extracting information about its content and topics.\n",
    "\n",
    "from sklearn.feature_extraction.text import CountVectorizer\n",
    "from nltk.corpus import stopwords\n",
    "\n",
    "stops =  set(stopwords.words('english')+['com'])\n",
    "co = CountVectorizer(stop_words=stops)\n",
    "counts = co.fit_transform(df.lemmatized_text)\n",
    "most_freq_terms=pd.DataFrame(counts.sum(axis=0),columns=co.get_feature_names()).T.sort_values(0,ascending=False).head(10)\n",
    "type(most_freq_terms)"
   ]
  },
  {
   "cell_type": "code",
   "execution_count": 120,
   "metadata": {},
   "outputs": [
    {
     "data": {
      "text/plain": [
       "<AxesSubplot:title={'center':'most frequent terms & their frequency'}>"
      ]
     },
     "execution_count": 120,
     "metadata": {},
     "output_type": "execute_result"
    },
    {
     "data": {
      "image/png": "[encoded data removed]",
      "text/plain": [
       "<Figure size 432x288 with 1 Axes>"
      ]
     },
     "metadata": {
      "needs_background": "light"
     },
     "output_type": "display_data"
    }
   ],
   "source": [
    "most_freq_terms.plot(kind='bar',title='most frequent terms & their frequency')"
   ]
  },
  {
   "cell_type": "code",
   "execution_count": 121,
   "metadata": {},
   "outputs": [
    {
     "data": {
      "text/html": [
       "<div>\n",
       "<style scoped>\n",
       "    .dataframe tbody tr th:only-of-type {\n",
       "        vertical-align: middle;\n",
       "    }\n",
       "\n",
       "    .dataframe tbody tr th {\n",
       "        vertical-align: top;\n",
       "    }\n",
       "\n",
       "    .dataframe thead th {\n",
       "        text-align: right;\n",
       "    }\n",
       "</style>\n",
       "<table border=\"1\" class=\"dataframe\">\n",
       "  <thead>\n",
       "    <tr style=\"text-align: right;\">\n",
       "      <th></th>\n",
       "      <th>0</th>\n",
       "    </tr>\n",
       "  </thead>\n",
       "  <tbody>\n",
       "    <tr>\n",
       "      <th>let know</th>\n",
       "      <td>31</td>\n",
       "    </tr>\n",
       "    <tr>\n",
       "      <th>company name</th>\n",
       "      <td>24</td>\n",
       "    </tr>\n",
       "    <tr>\n",
       "      <th>look forward</th>\n",
       "      <td>22</td>\n",
       "    </tr>\n",
       "    <tr>\n",
       "      <th>subject line</th>\n",
       "      <td>15</td>\n",
       "    </tr>\n",
       "    <tr>\n",
       "      <th>please let</th>\n",
       "      <td>12</td>\n",
       "    </tr>\n",
       "    <tr>\n",
       "      <th>feel free</th>\n",
       "      <td>10</td>\n",
       "    </tr>\n",
       "    <tr>\n",
       "      <th>product name</th>\n",
       "      <td>9</td>\n",
       "    </tr>\n",
       "    <tr>\n",
       "      <th>forward hear</th>\n",
       "      <td>9</td>\n",
       "    </tr>\n",
       "    <tr>\n",
       "      <th>date time</th>\n",
       "      <td>9</td>\n",
       "    </tr>\n",
       "    <tr>\n",
       "      <th>would like</th>\n",
       "      <td>8</td>\n",
       "    </tr>\n",
       "  </tbody>\n",
       "</table>\n",
       "</div>"
      ],
      "text/plain": [
       "               0\n",
       "let know      31\n",
       "company name  24\n",
       "look forward  22\n",
       "subject line  15\n",
       "please let    12\n",
       "feel free     10\n",
       "product name   9\n",
       "forward hear   9\n",
       "date time      9\n",
       "would like     8"
      ]
     },
     "execution_count": 121,
     "metadata": {},
     "output_type": "execute_result"
    }
   ],
   "source": [
    "# Now we can check for frequent bi-grams:\n",
    "co = CountVectorizer(ngram_range=(2,2),stop_words=stops)\n",
    "counts1 = co.fit_transform(df.lemmatized_text)\n",
    "bi_grams=pd.DataFrame(counts1.sum(axis=0),columns=co.get_feature_names()).T.sort_values(0,ascending=False).head(10)\n",
    "bi_grams"
   ]
  },
  {
   "cell_type": "code",
   "execution_count": 122,
   "metadata": {},
   "outputs": [
    {
     "data": {
      "text/plain": [
       "<AxesSubplot:title={'center':'bi-grams'}>"
      ]
     },
     "execution_count": 122,
     "metadata": {},
     "output_type": "execute_result"
    },
    {
     "data": {
      "image/png": "[encoded data removed]",
      "text/plain": [
       "<Figure size 432x288 with 1 Axes>"
      ]
     },
     "metadata": {
      "needs_background": "light"
     },
     "output_type": "display_data"
    }
   ],
   "source": [
    "bi_grams.plot(kind='bar',title='bi-grams')"
   ]
  },
  {
   "cell_type": "code",
   "execution_count": 123,
   "metadata": {
    "scrolled": true
   },
   "outputs": [
    {
     "data": {
      "text/html": [
       "<div>\n",
       "<style scoped>\n",
       "    .dataframe tbody tr th:only-of-type {\n",
       "        vertical-align: middle;\n",
       "    }\n",
       "\n",
       "    .dataframe tbody tr th {\n",
       "        vertical-align: top;\n",
       "    }\n",
       "\n",
       "    .dataframe thead th {\n",
       "        text-align: right;\n",
       "    }\n",
       "</style>\n",
       "<table border=\"1\" class=\"dataframe\">\n",
       "  <thead>\n",
       "    <tr style=\"text-align: right;\">\n",
       "      <th></th>\n",
       "      <th>0</th>\n",
       "    </tr>\n",
       "  </thead>\n",
       "  <tbody>\n",
       "    <tr>\n",
       "      <th>please let know</th>\n",
       "      <td>12</td>\n",
       "    </tr>\n",
       "    <tr>\n",
       "      <th>look forward hear</th>\n",
       "      <td>8</td>\n",
       "    </tr>\n",
       "    <tr>\n",
       "      <th>email subject line</th>\n",
       "      <td>7</td>\n",
       "    </tr>\n",
       "    <tr>\n",
       "      <th>please dont hesitate</th>\n",
       "      <td>5</td>\n",
       "    </tr>\n",
       "    <tr>\n",
       "      <th>name amp company</th>\n",
       "      <td>5</td>\n",
       "    </tr>\n",
       "    <tr>\n",
       "      <th>feel free contact</th>\n",
       "      <td>5</td>\n",
       "    </tr>\n",
       "    <tr>\n",
       "      <th>amp company name</th>\n",
       "      <td>5</td>\n",
       "    </tr>\n",
       "    <tr>\n",
       "      <th>please feel free</th>\n",
       "      <td>5</td>\n",
       "    </tr>\n",
       "    <tr>\n",
       "      <th>team try offer</th>\n",
       "      <td>4</td>\n",
       "    </tr>\n",
       "    <tr>\n",
       "      <th>fail time realize</th>\n",
       "      <td>4</td>\n",
       "    </tr>\n",
       "  </tbody>\n",
       "</table>\n",
       "</div>"
      ],
      "text/plain": [
       "                       0\n",
       "please let know       12\n",
       "look forward hear      8\n",
       "email subject line     7\n",
       "please dont hesitate   5\n",
       "name amp company       5\n",
       "feel free contact      5\n",
       "amp company name       5\n",
       "please feel free       5\n",
       "team try offer         4\n",
       "fail time realize      4"
      ]
     },
     "execution_count": 123,
     "metadata": {},
     "output_type": "execute_result"
    }
   ],
   "source": [
    "# Now we can check for frequent tri-grams:\n",
    "co = CountVectorizer(ngram_range=(3,3),stop_words=stops)\n",
    "counts1 = co.fit_transform(df.lemmatized_text)\n",
    "tri_grams=pd.DataFrame(counts1.sum(axis=0),columns=co.get_feature_names()).T.sort_values(0,ascending=False).head(10)\n",
    "tri_grams"
   ]
  },
  {
   "cell_type": "code",
   "execution_count": 124,
   "metadata": {
    "scrolled": true
   },
   "outputs": [
    {
     "data": {
      "text/plain": [
       "<AxesSubplot:title={'center':'tri-grams'}>"
      ]
     },
     "execution_count": 124,
     "metadata": {},
     "output_type": "execute_result"
    },
    {
     "data": {
      "image/png": "[encoded data removed]",
      "text/plain": [
       "<Figure size 432x288 with 1 Axes>"
      ]
     },
     "metadata": {
      "needs_background": "light"
     },
     "output_type": "display_data"
    }
   ],
   "source": [
    "bi_grams.plot(kind='bar',title='tri-grams')"
   ]
  },
  {
   "cell_type": "code",
   "execution_count": 125,
   "metadata": {
    "scrolled": true
   },
   "outputs": [
    {
     "data": {
      "image/png": "[encoded data removed]",
      "text/plain": [
       "<Figure size 432x288 with 1 Axes>"
      ]
     },
     "metadata": {
      "needs_background": "light"
     },
     "output_type": "display_data"
    }
   ],
   "source": [
    "import numpy as np\n",
    "import pandas as pd\n",
    "from os import path\n",
    "from PIL import Image\n",
    "from wordcloud import WordCloud, STOPWORDS, ImageColorGenerator\n",
    "\n",
    "import matplotlib.pyplot as plt\n",
    "%matplotlib inline\n",
    "text = df.emails[9]\n",
    "\n",
    "wordcloud = WordCloud(max_font_size=50, max_words=100, background_color=\"white\").generate(text)\n",
    "plt.figure()\n",
    "plt.imshow(wordcloud, interpolation=\"bilinear\")\n",
    "plt.axis(\"off\")\n",
    "plt.show()"
   ]
  },
  {
   "cell_type": "markdown",
   "metadata": {},
   "source": [
    "# bag of words"
   ]
  },
  {
   "cell_type": "code",
   "execution_count": 126,
   "metadata": {},
   "outputs": [],
   "source": [
    "cv = CountVectorizer() # intializing the count vectorizer\n",
    "X = cv.fit_transform(df['lemmatized_text']).toarray()\n"
   ]
  },
  {
   "cell_type": "code",
   "execution_count": 127,
   "metadata": {
    "scrolled": false
   },
   "outputs": [
    {
     "data": {
      "text/html": [
       "<div>\n",
       "<style scoped>\n",
       "    .dataframe tbody tr th:only-of-type {\n",
       "        vertical-align: middle;\n",
       "    }\n",
       "\n",
       "    .dataframe tbody tr th {\n",
       "        vertical-align: top;\n",
       "    }\n",
       "\n",
       "    .dataframe thead th {\n",
       "        text-align: right;\n",
       "    }\n",
       "</style>\n",
       "<table border=\"1\" class=\"dataframe\">\n",
       "  <thead>\n",
       "    <tr style=\"text-align: right;\">\n",
       "      <th></th>\n",
       "      <th>abc</th>\n",
       "      <th>ability</th>\n",
       "      <th>able</th>\n",
       "      <th>about</th>\n",
       "      <th>aboutexplain</th>\n",
       "      <th>abouttalking</th>\n",
       "      <th>above</th>\n",
       "      <th>abovebuttonif</th>\n",
       "      <th>absolutely</th>\n",
       "      <th>accept</th>\n",
       "      <th>...</th>\n",
       "      <th>youregardskyle</th>\n",
       "      <th>youregardsyour</th>\n",
       "      <th>youshailene</th>\n",
       "      <th>youtalk</th>\n",
       "      <th>youthank</th>\n",
       "      <th>youthanksanup</th>\n",
       "      <th>youve</th>\n",
       "      <th>youyour</th>\n",
       "      <th>zoe</th>\n",
       "      <th>zoom</th>\n",
       "    </tr>\n",
       "  </thead>\n",
       "  <tbody>\n",
       "    <tr>\n",
       "      <th>0</th>\n",
       "      <td>0</td>\n",
       "      <td>0</td>\n",
       "      <td>1</td>\n",
       "      <td>1</td>\n",
       "      <td>0</td>\n",
       "      <td>0</td>\n",
       "      <td>0</td>\n",
       "      <td>0</td>\n",
       "      <td>0</td>\n",
       "      <td>0</td>\n",
       "      <td>...</td>\n",
       "      <td>0</td>\n",
       "      <td>0</td>\n",
       "      <td>0</td>\n",
       "      <td>0</td>\n",
       "      <td>0</td>\n",
       "      <td>0</td>\n",
       "      <td>0</td>\n",
       "      <td>0</td>\n",
       "      <td>0</td>\n",
       "      <td>0</td>\n",
       "    </tr>\n",
       "    <tr>\n",
       "      <th>1</th>\n",
       "      <td>0</td>\n",
       "      <td>0</td>\n",
       "      <td>0</td>\n",
       "      <td>0</td>\n",
       "      <td>0</td>\n",
       "      <td>0</td>\n",
       "      <td>0</td>\n",
       "      <td>0</td>\n",
       "      <td>0</td>\n",
       "      <td>0</td>\n",
       "      <td>...</td>\n",
       "      <td>0</td>\n",
       "      <td>0</td>\n",
       "      <td>0</td>\n",
       "      <td>0</td>\n",
       "      <td>0</td>\n",
       "      <td>0</td>\n",
       "      <td>0</td>\n",
       "      <td>0</td>\n",
       "      <td>0</td>\n",
       "      <td>0</td>\n",
       "    </tr>\n",
       "    <tr>\n",
       "      <th>2</th>\n",
       "      <td>0</td>\n",
       "      <td>0</td>\n",
       "      <td>0</td>\n",
       "      <td>1</td>\n",
       "      <td>0</td>\n",
       "      <td>0</td>\n",
       "      <td>0</td>\n",
       "      <td>0</td>\n",
       "      <td>0</td>\n",
       "      <td>0</td>\n",
       "      <td>...</td>\n",
       "      <td>0</td>\n",
       "      <td>0</td>\n",
       "      <td>0</td>\n",
       "      <td>0</td>\n",
       "      <td>0</td>\n",
       "      <td>0</td>\n",
       "      <td>1</td>\n",
       "      <td>0</td>\n",
       "      <td>0</td>\n",
       "      <td>0</td>\n",
       "    </tr>\n",
       "    <tr>\n",
       "      <th>3</th>\n",
       "      <td>0</td>\n",
       "      <td>0</td>\n",
       "      <td>0</td>\n",
       "      <td>0</td>\n",
       "      <td>0</td>\n",
       "      <td>0</td>\n",
       "      <td>0</td>\n",
       "      <td>0</td>\n",
       "      <td>0</td>\n",
       "      <td>0</td>\n",
       "      <td>...</td>\n",
       "      <td>0</td>\n",
       "      <td>0</td>\n",
       "      <td>0</td>\n",
       "      <td>0</td>\n",
       "      <td>0</td>\n",
       "      <td>0</td>\n",
       "      <td>0</td>\n",
       "      <td>0</td>\n",
       "      <td>0</td>\n",
       "      <td>0</td>\n",
       "    </tr>\n",
       "    <tr>\n",
       "      <th>4</th>\n",
       "      <td>0</td>\n",
       "      <td>0</td>\n",
       "      <td>0</td>\n",
       "      <td>0</td>\n",
       "      <td>0</td>\n",
       "      <td>0</td>\n",
       "      <td>0</td>\n",
       "      <td>0</td>\n",
       "      <td>0</td>\n",
       "      <td>0</td>\n",
       "      <td>...</td>\n",
       "      <td>0</td>\n",
       "      <td>0</td>\n",
       "      <td>0</td>\n",
       "      <td>0</td>\n",
       "      <td>0</td>\n",
       "      <td>0</td>\n",
       "      <td>0</td>\n",
       "      <td>0</td>\n",
       "      <td>0</td>\n",
       "      <td>0</td>\n",
       "    </tr>\n",
       "  </tbody>\n",
       "</table>\n",
       "<p>5 rows × 2000 columns</p>\n",
       "</div>"
      ],
      "text/plain": [
       "   abc  ability  able  about  aboutexplain  abouttalking  above  \\\n",
       "0    0        0     1      1             0             0      0   \n",
       "1    0        0     0      0             0             0      0   \n",
       "2    0        0     0      1             0             0      0   \n",
       "3    0        0     0      0             0             0      0   \n",
       "4    0        0     0      0             0             0      0   \n",
       "\n",
       "   abovebuttonif  absolutely  accept  ...  youregardskyle  youregardsyour  \\\n",
       "0              0           0       0  ...               0               0   \n",
       "1              0           0       0  ...               0               0   \n",
       "2              0           0       0  ...               0               0   \n",
       "3              0           0       0  ...               0               0   \n",
       "4              0           0       0  ...               0               0   \n",
       "\n",
       "   youshailene  youtalk  youthank  youthanksanup  youve  youyour  zoe  zoom  \n",
       "0            0        0         0              0      0        0    0     0  \n",
       "1            0        0         0              0      0        0    0     0  \n",
       "2            0        0         0              0      1        0    0     0  \n",
       "3            0        0         0              0      0        0    0     0  \n",
       "4            0        0         0              0      0        0    0     0  \n",
       "\n",
       "[5 rows x 2000 columns]"
      ]
     },
     "execution_count": 127,
     "metadata": {},
     "output_type": "execute_result"
    }
   ],
   "source": [
    "# returns all the unique word from data \n",
    "\n",
    "features = cv.get_feature_names()\n",
    "df_bow = pd.DataFrame(X, columns = features)\n",
    "df_bow.head()"
   ]
  },
  {
   "cell_type": "code",
   "execution_count": 128,
   "metadata": {},
   "outputs": [],
   "source": [
    "email ='dear  customer name   thank you for contacting us about your defective  product name   we are truly sorry that it did not work as promised  we also apologize for any inconvenience that this has caused for you  our products go through several quality control checks before they are delivered to customers  however  this one regrettably slipped past those checks and failed to live up to our standards  to make up for this error  we have shipped you a new  product name   which should arrive within 2 5 days  we ve also included a pre labeled box for you to return the defective product once you ve received the replacement  we re also sending a  20 coupon for your next purchase to make up for the inconvenience  we are truly sorry that your original purchase did not live up to your expectations  but we look forward to providing a better experience for you going forward  thanks again for bringing this issue to our attention  and please don t hesitate to contact me directly with any other concerns you may have  sincerely   name   title ' # considering an example query"
   ]
  },
  {
   "cell_type": "code",
   "execution_count": 129,
   "metadata": {},
   "outputs": [],
   "source": [
    "# checking for stop words\n",
    "\n",
    "Q=[]\n",
    "a=email.split()\n",
    "for i in a:\n",
    "    if i in stop:\n",
    "        continue\n",
    "    else:\n",
    "        Q.append(i)\n",
    "    b=\" \".join(Q) "
   ]
  },
  {
   "cell_type": "code",
   "execution_count": 130,
   "metadata": {},
   "outputs": [],
   "source": [
    "email_lemma = text_normalization(b) # applying the function that we created for text normalizing\n",
    "email_bow = cv.transform([email_lemma]).toarray() # applying bow"
   ]
  },
  {
   "cell_type": "code",
   "execution_count": 131,
   "metadata": {},
   "outputs": [
    {
     "data": {
      "text/plain": [
       "<function __main__.text_normalization(text)>"
      ]
     },
     "execution_count": 131,
     "metadata": {},
     "output_type": "execute_result"
    }
   ],
   "source": [
    "text_normalization"
   ]
  },
  {
   "cell_type": "code",
   "execution_count": 132,
   "metadata": {},
   "outputs": [
    {
     "data": {
      "text/plain": [
       "array([[0, 0, 0, ..., 0, 0, 0]], dtype=int64)"
      ]
     },
     "execution_count": 132,
     "metadata": {},
     "output_type": "execute_result"
    }
   ],
   "source": [
    "email_bow"
   ]
  },
  {
   "cell_type": "markdown",
   "metadata": {},
   "source": [
    "# similarity"
   ]
  },
  {
   "cell_type": "code",
   "execution_count": 133,
   "metadata": {
    "scrolled": true
   },
   "outputs": [
    {
     "data": {
      "text/plain": [
       "array([[0.04359977],\n",
       "       [0.04563579],\n",
       "       [0.50194732],\n",
       "       [0.25485482],\n",
       "       [0.15078012],\n",
       "       [0.16900343],\n",
       "       [0.09390763],\n",
       "       [0.13029662],\n",
       "       [0.10585122],\n",
       "       [0.1090974 ],\n",
       "       [0.09422857],\n",
       "       [0.0603849 ],\n",
       "       [0.03010859],\n",
       "       [0.05834876],\n",
       "       [0.05335072],\n",
       "       [0.10805473],\n",
       "       [0.06684018],\n",
       "       [0.0827396 ],\n",
       "       [0.07876575],\n",
       "       [0.10181284],\n",
       "       [0.0631509 ],\n",
       "       [0.03094211],\n",
       "       [0.02570872],\n",
       "       [0.02355714],\n",
       "       [0.04015579],\n",
       "       [0.06381534],\n",
       "       [0.07627393],\n",
       "       [0.13509396],\n",
       "       [0.02684914],\n",
       "       [0.02625525],\n",
       "       [0.09750956],\n",
       "       [0.11788742],\n",
       "       [0.11216127],\n",
       "       [0.061494  ],\n",
       "       [0.1902606 ],\n",
       "       [0.02557687],\n",
       "       [0.00876317],\n",
       "       [0.05110997],\n",
       "       [0.05977555],\n",
       "       [0.03135305],\n",
       "       [0.19622098],\n",
       "       [0.08795779],\n",
       "       [0.07639154],\n",
       "       [0.02121745],\n",
       "       [0.03131121],\n",
       "       [0.01292719],\n",
       "       [0.08058662],\n",
       "       [0.09234539],\n",
       "       [0.14002801],\n",
       "       [0.125     ],\n",
       "       [0.03198465],\n",
       "       [0.02425356],\n",
       "       [0.09074852],\n",
       "       [0.01177857],\n",
       "       [0.09358766],\n",
       "       [0.0100362 ],\n",
       "       [0.05445086],\n",
       "       [0.07845987],\n",
       "       [0.0361998 ],\n",
       "       [0.03966531],\n",
       "       [0.04287465],\n",
       "       [0.08444449],\n",
       "       [0.06569518],\n",
       "       [0.04565412],\n",
       "       [0.08783258],\n",
       "       [0.0527688 ],\n",
       "       [0.05317945],\n",
       "       [0.11458731],\n",
       "       [0.07498558],\n",
       "       [0.03720327],\n",
       "       [0.09076352],\n",
       "       [0.03166502],\n",
       "       [0.02160679],\n",
       "       [0.040008  ],\n",
       "       [0.07352941],\n",
       "       [0.05371292],\n",
       "       [0.07856958],\n",
       "       [0.13930683],\n",
       "       [0.06888921],\n",
       "       [0.09736976],\n",
       "       [0.11987811],\n",
       "       [0.08306172],\n",
       "       [0.10782024],\n",
       "       [0.21670562],\n",
       "       [0.10047246],\n",
       "       [0.0539036 ],\n",
       "       [0.18432865],\n",
       "       [0.34030695],\n",
       "       [0.24838317],\n",
       "       [0.07727341],\n",
       "       [0.14247196],\n",
       "       [0.10448925],\n",
       "       [0.1090974 ],\n",
       "       [0.03878158],\n",
       "       [0.        ],\n",
       "       [0.03533571],\n",
       "       [0.0733316 ],\n",
       "       [0.05453644],\n",
       "       [0.04547543],\n",
       "       [0.0825123 ],\n",
       "       [0.00840841],\n",
       "       [0.04793531],\n",
       "       [0.01212678],\n",
       "       [0.01598461],\n",
       "       [0.12834667],\n",
       "       [0.02719195],\n",
       "       [0.18638826],\n",
       "       [0.07657694],\n",
       "       [0.03442907],\n",
       "       [0.04716211],\n",
       "       [0.09331361],\n",
       "       [0.10610934],\n",
       "       [0.0684905 ],\n",
       "       [0.0496545 ],\n",
       "       [0.09428349],\n",
       "       [0.12043435],\n",
       "       [0.1116098 ],\n",
       "       [0.1278275 ],\n",
       "       [0.08318903],\n",
       "       [0.08911328],\n",
       "       [0.07961622],\n",
       "       [0.0774913 ],\n",
       "       [0.09240617],\n",
       "       [0.12316769],\n",
       "       [0.1621151 ],\n",
       "       [0.12387602],\n",
       "       [0.09836118],\n",
       "       [0.03315879],\n",
       "       [0.09595395],\n",
       "       [0.03096901],\n",
       "       [0.04445894],\n",
       "       [0.04570453],\n",
       "       [0.04565412]])"
      ]
     },
     "execution_count": 133,
     "metadata": {},
     "output_type": "execute_result"
    }
   ],
   "source": [
    "# cosine similarity for the above question we considered.\n",
    "\n",
    "cosine_value = 1- pairwise_distances(df_bow, email_bow, metric = 'cosine' )\n",
    "(cosine_value)"
   ]
  },
  {
   "cell_type": "code",
   "execution_count": 29,
   "metadata": {},
   "outputs": [],
   "source": [
    "df['similarity_bow']=cosine_value # creating a new column "
   ]
  },
  {
   "cell_type": "code",
   "execution_count": 134,
   "metadata": {},
   "outputs": [
    {
     "data": {
      "text/html": [
       "<div>\n",
       "<style scoped>\n",
       "    .dataframe tbody tr th:only-of-type {\n",
       "        vertical-align: middle;\n",
       "    }\n",
       "\n",
       "    .dataframe tbody tr th {\n",
       "        vertical-align: top;\n",
       "    }\n",
       "\n",
       "    .dataframe thead th {\n",
       "        text-align: right;\n",
       "    }\n",
       "</style>\n",
       "<table border=\"1\" class=\"dataframe\">\n",
       "  <thead>\n",
       "    <tr style=\"text-align: right;\">\n",
       "      <th></th>\n",
       "      <th>template</th>\n",
       "      <th>similarity_bow</th>\n",
       "    </tr>\n",
       "  </thead>\n",
       "  <tbody>\n",
       "    <tr>\n",
       "      <th>0</th>\n",
       "      <td>APOLOGY TO CUSTOMERS:Hi [Customer name],\\nI wa...</td>\n",
       "      <td>NaN</td>\n",
       "    </tr>\n",
       "    <tr>\n",
       "      <th>1</th>\n",
       "      <td>APOLOGY TO CUSTOMERS:Hi [Customer name],\\nI wa...</td>\n",
       "      <td>NaN</td>\n",
       "    </tr>\n",
       "    <tr>\n",
       "      <th>2</th>\n",
       "      <td>APOLOGY TO CUSTOMERS:Hi [Customer name],\\nI wa...</td>\n",
       "      <td>NaN</td>\n",
       "    </tr>\n",
       "    <tr>\n",
       "      <th>3</th>\n",
       "      <td>APOLOGY TO CUSTOMERS:Hi [Customer name],\\nI wa...</td>\n",
       "      <td>NaN</td>\n",
       "    </tr>\n",
       "    <tr>\n",
       "      <th>4</th>\n",
       "      <td>APOLOGY TO CUSTOMERS:Hi [Customer name],\\nI wa...</td>\n",
       "      <td>NaN</td>\n",
       "    </tr>\n",
       "    <tr>\n",
       "      <th>...</th>\n",
       "      <td>...</td>\n",
       "      <td>...</td>\n",
       "    </tr>\n",
       "    <tr>\n",
       "      <th>128</th>\n",
       "      <td>REVIEW/FEEDBACK REQUEST:Hey [customer name],\\n...</td>\n",
       "      <td>NaN</td>\n",
       "    </tr>\n",
       "    <tr>\n",
       "      <th>129</th>\n",
       "      <td>REVIEW/FEEDBACK REQUEST:Hey [customer name],\\n...</td>\n",
       "      <td>NaN</td>\n",
       "    </tr>\n",
       "    <tr>\n",
       "      <th>130</th>\n",
       "      <td>REVIEW/FEEDBACK REQUEST:Hey [customer name],\\n...</td>\n",
       "      <td>NaN</td>\n",
       "    </tr>\n",
       "    <tr>\n",
       "      <th>131</th>\n",
       "      <td>REVIEW/FEEDBACK REQUEST:Hey [customer name],\\n...</td>\n",
       "      <td>NaN</td>\n",
       "    </tr>\n",
       "    <tr>\n",
       "      <th>132</th>\n",
       "      <td>REVIEW/FEEDBACK REQUEST:Hey [customer name],\\n...</td>\n",
       "      <td>NaN</td>\n",
       "    </tr>\n",
       "  </tbody>\n",
       "</table>\n",
       "<p>133 rows × 2 columns</p>\n",
       "</div>"
      ],
      "text/plain": [
       "                                              template  similarity_bow\n",
       "0    APOLOGY TO CUSTOMERS:Hi [Customer name],\\nI wa...             NaN\n",
       "1    APOLOGY TO CUSTOMERS:Hi [Customer name],\\nI wa...             NaN\n",
       "2    APOLOGY TO CUSTOMERS:Hi [Customer name],\\nI wa...             NaN\n",
       "3    APOLOGY TO CUSTOMERS:Hi [Customer name],\\nI wa...             NaN\n",
       "4    APOLOGY TO CUSTOMERS:Hi [Customer name],\\nI wa...             NaN\n",
       "..                                                 ...             ...\n",
       "128  REVIEW/FEEDBACK REQUEST:Hey [customer name],\\n...             NaN\n",
       "129  REVIEW/FEEDBACK REQUEST:Hey [customer name],\\n...             NaN\n",
       "130  REVIEW/FEEDBACK REQUEST:Hey [customer name],\\n...             NaN\n",
       "131  REVIEW/FEEDBACK REQUEST:Hey [customer name],\\n...             NaN\n",
       "132  REVIEW/FEEDBACK REQUEST:Hey [customer name],\\n...             NaN\n",
       "\n",
       "[133 rows x 2 columns]"
      ]
     },
     "execution_count": 134,
     "metadata": {},
     "output_type": "execute_result"
    }
   ],
   "source": [
    "df_simi = pd.DataFrame(df, columns=['template','similarity_bow']) # taking similarity value of responses for the question we took\n",
    "df_simi "
   ]
  },
  {
   "cell_type": "code",
   "execution_count": 135,
   "metadata": {},
   "outputs": [
    {
     "data": {
      "text/html": [
       "<div>\n",
       "<style scoped>\n",
       "    .dataframe tbody tr th:only-of-type {\n",
       "        vertical-align: middle;\n",
       "    }\n",
       "\n",
       "    .dataframe tbody tr th {\n",
       "        vertical-align: top;\n",
       "    }\n",
       "\n",
       "    .dataframe thead th {\n",
       "        text-align: right;\n",
       "    }\n",
       "</style>\n",
       "<table border=\"1\" class=\"dataframe\">\n",
       "  <thead>\n",
       "    <tr style=\"text-align: right;\">\n",
       "      <th></th>\n",
       "      <th>template</th>\n",
       "      <th>similarity_bow</th>\n",
       "    </tr>\n",
       "  </thead>\n",
       "  <tbody>\n",
       "    <tr>\n",
       "      <th>0</th>\n",
       "      <td>APOLOGY TO CUSTOMERS:Hi [Customer name],\\nI wa...</td>\n",
       "      <td>NaN</td>\n",
       "    </tr>\n",
       "    <tr>\n",
       "      <th>1</th>\n",
       "      <td>APOLOGY TO CUSTOMERS:Hi [Customer name],\\nI wa...</td>\n",
       "      <td>NaN</td>\n",
       "    </tr>\n",
       "    <tr>\n",
       "      <th>2</th>\n",
       "      <td>APOLOGY TO CUSTOMERS:Hi [Customer name],\\nI wa...</td>\n",
       "      <td>NaN</td>\n",
       "    </tr>\n",
       "    <tr>\n",
       "      <th>3</th>\n",
       "      <td>APOLOGY TO CUSTOMERS:Hi [Customer name],\\nI wa...</td>\n",
       "      <td>NaN</td>\n",
       "    </tr>\n",
       "    <tr>\n",
       "      <th>4</th>\n",
       "      <td>APOLOGY TO CUSTOMERS:Hi [Customer name],\\nI wa...</td>\n",
       "      <td>NaN</td>\n",
       "    </tr>\n",
       "  </tbody>\n",
       "</table>\n",
       "</div>"
      ],
      "text/plain": [
       "                                            template  similarity_bow\n",
       "0  APOLOGY TO CUSTOMERS:Hi [Customer name],\\nI wa...             NaN\n",
       "1  APOLOGY TO CUSTOMERS:Hi [Customer name],\\nI wa...             NaN\n",
       "2  APOLOGY TO CUSTOMERS:Hi [Customer name],\\nI wa...             NaN\n",
       "3  APOLOGY TO CUSTOMERS:Hi [Customer name],\\nI wa...             NaN\n",
       "4  APOLOGY TO CUSTOMERS:Hi [Customer name],\\nI wa...             NaN"
      ]
     },
     "execution_count": 135,
     "metadata": {},
     "output_type": "execute_result"
    }
   ],
   "source": [
    "df_simi_sort = df_simi.sort_values(by='similarity_bow', ascending=False) # sorting the values\n",
    "df_simi_sort.head()"
   ]
  },
  {
   "cell_type": "code",
   "execution_count": 136,
   "metadata": {},
   "outputs": [
    {
     "data": {
      "text/html": [
       "<div>\n",
       "<style scoped>\n",
       "    .dataframe tbody tr th:only-of-type {\n",
       "        vertical-align: middle;\n",
       "    }\n",
       "\n",
       "    .dataframe tbody tr th {\n",
       "        vertical-align: top;\n",
       "    }\n",
       "\n",
       "    .dataframe thead th {\n",
       "        text-align: right;\n",
       "    }\n",
       "</style>\n",
       "<table border=\"1\" class=\"dataframe\">\n",
       "  <thead>\n",
       "    <tr style=\"text-align: right;\">\n",
       "      <th></th>\n",
       "      <th>template</th>\n",
       "      <th>similarity_bow</th>\n",
       "    </tr>\n",
       "  </thead>\n",
       "  <tbody>\n",
       "  </tbody>\n",
       "</table>\n",
       "</div>"
      ],
      "text/plain": [
       "Empty DataFrame\n",
       "Columns: [template, similarity_bow]\n",
       "Index: []"
      ]
     },
     "execution_count": 136,
     "metadata": {},
     "output_type": "execute_result"
    }
   ],
   "source": [
    "threshold = 0.2 # considering the value of p=smiliarity to be greater than 0.2\n",
    "df_threshold = df_simi_sort[df_simi_sort['similarity_bow'] > threshold] \n",
    "df_threshold"
   ]
  },
  {
   "cell_type": "code",
   "execution_count": 137,
   "metadata": {},
   "outputs": [
    {
     "data": {
      "text/plain": [
       "2"
      ]
     },
     "execution_count": 137,
     "metadata": {},
     "output_type": "execute_result"
    }
   ],
   "source": [
    "index_value = cosine_value.argmax() # returns the index number of highest value\n",
    "index_value "
   ]
  },
  {
   "cell_type": "code",
   "execution_count": 138,
   "metadata": {},
   "outputs": [
    {
     "data": {
      "text/plain": [
       "'dear  customer name   thank you for contacting us about your defective  product name   we are truly sorry that it did not work as promised  we also apologize for any inconvenience that this has caused for you  our products go through several quality control checks before they are delivered to customers  however  this one regrettably slipped past those checks and failed to live up to our standards  to make up for this error  we have shipped you a new  product name   which should arrive within 2 5 days  we ve also included a pre labeled box for you to return the defective product once you ve received the replacement  we re also sending a  20 coupon for your next purchase to make up for the inconvenience  we are truly sorry that your original purchase did not live up to your expectations  but we look forward to providing a better experience for you going forward  thanks again for bringing this issue to our attention  and please don t hesitate to contact me directly with any other concerns you may have  sincerely   name   title '"
      ]
     },
     "execution_count": 138,
     "metadata": {},
     "output_type": "execute_result"
    }
   ],
   "source": [
    "(email)"
   ]
  },
  {
   "cell_type": "code",
   "execution_count": 139,
   "metadata": {},
   "outputs": [
    {
     "data": {
      "text/plain": [
       "'APOLOGY TO CUSTOMERS:Hi [Customer name],\\nI want to apologize for [briefly state mistake]. Our team tries to offer the best service, but we failed this time. I realize we [state briefly the impact your mistake had on the customer] and I’m very sorry. This was likely caused by [add brief explanation], but, regardless, we should have handled this better. We’re all aware of what happened and will take extra care in future. As an additional apology, we’re sending you [offering]. While we know it can’t exactly make up for the inconvenience we caused, we hope it’ll go some way towards making amends.\\nThank you for your patience. Let me know if I can help in any way.\\n[Your name]'"
      ]
     },
     "execution_count": 139,
     "metadata": {},
     "output_type": "execute_result"
    }
   ],
   "source": [
    "df['template'].loc[index_value] # The text at the above index becomes the response for the question"
   ]
  },
  {
   "cell_type": "markdown",
   "metadata": {},
   "source": [
    "# tf-idf"
   ]
  },
  {
   "cell_type": "code",
   "execution_count": 140,
   "metadata": {},
   "outputs": [],
   "source": [
    "email1 =\"dear  customer name   thank you for contacting us about your defective  product name   we are truly sorry that it did not work as promised  we also apologize for any inconvenience that this has caused for you  our products go through several quality control checks before they are delivered to customers  however  this one regrettably slipped past those checks and failed to live up to our standards  to make up for this error  we have shipped you a new  product name   which should arrive within 2 5 days  we ve also included a pre labeled box for you to return the defective product once you ve received the replacement  we re also sending a  20 coupon for your next purchase to make up for the inconvenience  we are truly sorry that your original purchase did not live up to your expectations  but we look forward to providing a better experience for you going forward  thanks again for bringing this issue to our attention  and please don t hesitate to contact me directly with any other concerns you may have  sincerely   name   title\""
   ]
  },
  {
   "cell_type": "code",
   "execution_count": 141,
   "metadata": {},
   "outputs": [],
   "source": [
    "# using tf-idf\n",
    "\n",
    "tfidf=TfidfVectorizer() # intializing tf-id \n",
    "x_tfidf=tfidf.fit_transform(df['lemmatized_text']).toarray() # transforming the data into array"
   ]
  },
  {
   "cell_type": "code",
   "execution_count": 142,
   "metadata": {},
   "outputs": [],
   "source": [
    " email_lemma1 = text_normalization(email1)\n",
    "email_tfidf = tfidf.transform([email_lemma1]).toarray() # applying tf-idf"
   ]
  },
  {
   "cell_type": "code",
   "execution_count": 143,
   "metadata": {},
   "outputs": [
    {
     "data": {
      "text/html": [
       "<div>\n",
       "<style scoped>\n",
       "    .dataframe tbody tr th:only-of-type {\n",
       "        vertical-align: middle;\n",
       "    }\n",
       "\n",
       "    .dataframe tbody tr th {\n",
       "        vertical-align: top;\n",
       "    }\n",
       "\n",
       "    .dataframe thead th {\n",
       "        text-align: right;\n",
       "    }\n",
       "</style>\n",
       "<table border=\"1\" class=\"dataframe\">\n",
       "  <thead>\n",
       "    <tr style=\"text-align: right;\">\n",
       "      <th></th>\n",
       "      <th>abc</th>\n",
       "      <th>ability</th>\n",
       "      <th>able</th>\n",
       "      <th>about</th>\n",
       "      <th>aboutexplain</th>\n",
       "      <th>abouttalking</th>\n",
       "      <th>above</th>\n",
       "      <th>abovebuttonif</th>\n",
       "      <th>absolutely</th>\n",
       "      <th>accept</th>\n",
       "      <th>...</th>\n",
       "      <th>youregardskyle</th>\n",
       "      <th>youregardsyour</th>\n",
       "      <th>youshailene</th>\n",
       "      <th>youtalk</th>\n",
       "      <th>youthank</th>\n",
       "      <th>youthanksanup</th>\n",
       "      <th>youve</th>\n",
       "      <th>youyour</th>\n",
       "      <th>zoe</th>\n",
       "      <th>zoom</th>\n",
       "    </tr>\n",
       "  </thead>\n",
       "  <tbody>\n",
       "    <tr>\n",
       "      <th>0</th>\n",
       "      <td>0.0</td>\n",
       "      <td>0.0</td>\n",
       "      <td>0.058554</td>\n",
       "      <td>0.034635</td>\n",
       "      <td>0.0</td>\n",
       "      <td>0.0</td>\n",
       "      <td>0.0</td>\n",
       "      <td>0.0</td>\n",
       "      <td>0.0</td>\n",
       "      <td>0.0</td>\n",
       "      <td>...</td>\n",
       "      <td>0.0</td>\n",
       "      <td>0.0</td>\n",
       "      <td>0.0</td>\n",
       "      <td>0.0</td>\n",
       "      <td>0.0</td>\n",
       "      <td>0.0</td>\n",
       "      <td>0.000000</td>\n",
       "      <td>0.0</td>\n",
       "      <td>0.0</td>\n",
       "      <td>0.0</td>\n",
       "    </tr>\n",
       "    <tr>\n",
       "      <th>1</th>\n",
       "      <td>0.0</td>\n",
       "      <td>0.0</td>\n",
       "      <td>0.000000</td>\n",
       "      <td>0.000000</td>\n",
       "      <td>0.0</td>\n",
       "      <td>0.0</td>\n",
       "      <td>0.0</td>\n",
       "      <td>0.0</td>\n",
       "      <td>0.0</td>\n",
       "      <td>0.0</td>\n",
       "      <td>...</td>\n",
       "      <td>0.0</td>\n",
       "      <td>0.0</td>\n",
       "      <td>0.0</td>\n",
       "      <td>0.0</td>\n",
       "      <td>0.0</td>\n",
       "      <td>0.0</td>\n",
       "      <td>0.000000</td>\n",
       "      <td>0.0</td>\n",
       "      <td>0.0</td>\n",
       "      <td>0.0</td>\n",
       "    </tr>\n",
       "    <tr>\n",
       "      <th>2</th>\n",
       "      <td>0.0</td>\n",
       "      <td>0.0</td>\n",
       "      <td>0.000000</td>\n",
       "      <td>0.037741</td>\n",
       "      <td>0.0</td>\n",
       "      <td>0.0</td>\n",
       "      <td>0.0</td>\n",
       "      <td>0.0</td>\n",
       "      <td>0.0</td>\n",
       "      <td>0.0</td>\n",
       "      <td>...</td>\n",
       "      <td>0.0</td>\n",
       "      <td>0.0</td>\n",
       "      <td>0.0</td>\n",
       "      <td>0.0</td>\n",
       "      <td>0.0</td>\n",
       "      <td>0.0</td>\n",
       "      <td>0.088335</td>\n",
       "      <td>0.0</td>\n",
       "      <td>0.0</td>\n",
       "      <td>0.0</td>\n",
       "    </tr>\n",
       "    <tr>\n",
       "      <th>3</th>\n",
       "      <td>0.0</td>\n",
       "      <td>0.0</td>\n",
       "      <td>0.000000</td>\n",
       "      <td>0.000000</td>\n",
       "      <td>0.0</td>\n",
       "      <td>0.0</td>\n",
       "      <td>0.0</td>\n",
       "      <td>0.0</td>\n",
       "      <td>0.0</td>\n",
       "      <td>0.0</td>\n",
       "      <td>...</td>\n",
       "      <td>0.0</td>\n",
       "      <td>0.0</td>\n",
       "      <td>0.0</td>\n",
       "      <td>0.0</td>\n",
       "      <td>0.0</td>\n",
       "      <td>0.0</td>\n",
       "      <td>0.000000</td>\n",
       "      <td>0.0</td>\n",
       "      <td>0.0</td>\n",
       "      <td>0.0</td>\n",
       "    </tr>\n",
       "    <tr>\n",
       "      <th>4</th>\n",
       "      <td>0.0</td>\n",
       "      <td>0.0</td>\n",
       "      <td>0.000000</td>\n",
       "      <td>0.000000</td>\n",
       "      <td>0.0</td>\n",
       "      <td>0.0</td>\n",
       "      <td>0.0</td>\n",
       "      <td>0.0</td>\n",
       "      <td>0.0</td>\n",
       "      <td>0.0</td>\n",
       "      <td>...</td>\n",
       "      <td>0.0</td>\n",
       "      <td>0.0</td>\n",
       "      <td>0.0</td>\n",
       "      <td>0.0</td>\n",
       "      <td>0.0</td>\n",
       "      <td>0.0</td>\n",
       "      <td>0.000000</td>\n",
       "      <td>0.0</td>\n",
       "      <td>0.0</td>\n",
       "      <td>0.0</td>\n",
       "    </tr>\n",
       "  </tbody>\n",
       "</table>\n",
       "<p>5 rows × 2000 columns</p>\n",
       "</div>"
      ],
      "text/plain": [
       "   abc  ability      able     about  aboutexplain  abouttalking  above  \\\n",
       "0  0.0      0.0  0.058554  0.034635           0.0           0.0    0.0   \n",
       "1  0.0      0.0  0.000000  0.000000           0.0           0.0    0.0   \n",
       "2  0.0      0.0  0.000000  0.037741           0.0           0.0    0.0   \n",
       "3  0.0      0.0  0.000000  0.000000           0.0           0.0    0.0   \n",
       "4  0.0      0.0  0.000000  0.000000           0.0           0.0    0.0   \n",
       "\n",
       "   abovebuttonif  absolutely  accept  ...  youregardskyle  youregardsyour  \\\n",
       "0            0.0         0.0     0.0  ...             0.0             0.0   \n",
       "1            0.0         0.0     0.0  ...             0.0             0.0   \n",
       "2            0.0         0.0     0.0  ...             0.0             0.0   \n",
       "3            0.0         0.0     0.0  ...             0.0             0.0   \n",
       "4            0.0         0.0     0.0  ...             0.0             0.0   \n",
       "\n",
       "   youshailene  youtalk  youthank  youthanksanup     youve  youyour  zoe  zoom  \n",
       "0          0.0      0.0       0.0            0.0  0.000000      0.0  0.0   0.0  \n",
       "1          0.0      0.0       0.0            0.0  0.000000      0.0  0.0   0.0  \n",
       "2          0.0      0.0       0.0            0.0  0.088335      0.0  0.0   0.0  \n",
       "3          0.0      0.0       0.0            0.0  0.000000      0.0  0.0   0.0  \n",
       "4          0.0      0.0       0.0            0.0  0.000000      0.0  0.0   0.0  \n",
       "\n",
       "[5 rows x 2000 columns]"
      ]
     },
     "execution_count": 143,
     "metadata": {},
     "output_type": "execute_result"
    }
   ],
   "source": [
    "# returns all the unique word from data with a score of that word\n",
    "\n",
    "df_tfidf=pd.DataFrame(x_tfidf,columns=tfidf.get_feature_names()) \n",
    "df_tfidf.head()"
   ]
  },
  {
   "cell_type": "markdown",
   "metadata": {},
   "source": [
    "# similarity"
   ]
  },
  {
   "cell_type": "code",
   "execution_count": 144,
   "metadata": {
    "scrolled": true
   },
   "outputs": [
    {
     "data": {
      "text/plain": [
       "array([[0.22562377],\n",
       "       [0.14536986],\n",
       "       [0.94564635],\n",
       "       [0.3992739 ],\n",
       "       [0.39406259],\n",
       "       [0.40102379],\n",
       "       [0.23183202],\n",
       "       [0.3007127 ],\n",
       "       [0.20667545],\n",
       "       [0.23418891],\n",
       "       [0.12947258],\n",
       "       [0.2362081 ],\n",
       "       [0.10755338],\n",
       "       [0.26324402],\n",
       "       [0.19147438],\n",
       "       [0.30990976],\n",
       "       [0.21796565],\n",
       "       [0.3446628 ],\n",
       "       [0.15134441],\n",
       "       [0.19520163],\n",
       "       [0.14637579],\n",
       "       [0.11885346],\n",
       "       [0.13235736],\n",
       "       [0.0812292 ],\n",
       "       [0.11595002],\n",
       "       [0.12594353],\n",
       "       [0.18257583],\n",
       "       [0.22085108],\n",
       "       [0.1288302 ],\n",
       "       [0.08370154],\n",
       "       [0.17728642],\n",
       "       [0.15366919],\n",
       "       [0.16835032],\n",
       "       [0.09133641],\n",
       "       [0.1446086 ],\n",
       "       [0.15618497],\n",
       "       [0.17181905],\n",
       "       [0.16090885],\n",
       "       [0.16113645],\n",
       "       [0.14919291],\n",
       "       [0.18044788],\n",
       "       [0.12251437],\n",
       "       [0.19313943],\n",
       "       [0.18774906],\n",
       "       [0.1121998 ],\n",
       "       [0.16551069],\n",
       "       [0.18649185],\n",
       "       [0.16063876],\n",
       "       [0.13584377],\n",
       "       [0.15299903],\n",
       "       [0.13230283],\n",
       "       [0.11969025],\n",
       "       [0.19474405],\n",
       "       [0.12076027],\n",
       "       [0.13811645],\n",
       "       [0.06252066],\n",
       "       [0.09058569],\n",
       "       [0.11449133],\n",
       "       [0.10861716],\n",
       "       [0.09868814],\n",
       "       [0.15607725],\n",
       "       [0.15383379],\n",
       "       [0.12229856],\n",
       "       [0.14161193],\n",
       "       [0.16855962],\n",
       "       [0.07435306],\n",
       "       [0.12021654],\n",
       "       [0.23544345],\n",
       "       [0.24066262],\n",
       "       [0.10429786],\n",
       "       [0.18908809],\n",
       "       [0.15241386],\n",
       "       [0.15098671],\n",
       "       [0.15054621],\n",
       "       [0.17370079],\n",
       "       [0.17703397],\n",
       "       [0.1917312 ],\n",
       "       [0.21400956],\n",
       "       [0.19188245],\n",
       "       [0.23531588],\n",
       "       [0.27290076],\n",
       "       [0.19784471],\n",
       "       [0.11665879],\n",
       "       [0.24395778],\n",
       "       [0.07916577],\n",
       "       [0.12668575],\n",
       "       [0.20480398],\n",
       "       [0.19211714],\n",
       "       [0.23561838],\n",
       "       [0.12982999],\n",
       "       [0.11488117],\n",
       "       [0.17960575],\n",
       "       [0.19344786],\n",
       "       [0.14134117],\n",
       "       [0.09401697],\n",
       "       [0.12635565],\n",
       "       [0.12116956],\n",
       "       [0.13117516],\n",
       "       [0.18700618],\n",
       "       [0.10668234],\n",
       "       [0.10566237],\n",
       "       [0.06737098],\n",
       "       [0.05596985],\n",
       "       [0.07299776],\n",
       "       [0.13166606],\n",
       "       [0.09020631],\n",
       "       [0.13310563],\n",
       "       [0.15317367],\n",
       "       [0.12051535],\n",
       "       [0.110264  ],\n",
       "       [0.1009367 ],\n",
       "       [0.12936444],\n",
       "       [0.11124839],\n",
       "       [0.11056101],\n",
       "       [0.13967057],\n",
       "       [0.1695795 ],\n",
       "       [0.24185183],\n",
       "       [0.12314654],\n",
       "       [0.10287591],\n",
       "       [0.19380876],\n",
       "       [0.11730407],\n",
       "       [0.15536188],\n",
       "       [0.20392915],\n",
       "       [0.16285752],\n",
       "       [0.20777433],\n",
       "       [0.16374175],\n",
       "       [0.14780309],\n",
       "       [0.13394858],\n",
       "       [0.15235041],\n",
       "       [0.08675592],\n",
       "       [0.13014702],\n",
       "       [0.21283614],\n",
       "       [0.12567416]])"
      ]
     },
     "execution_count": 144,
     "metadata": {},
     "output_type": "execute_result"
    }
   ],
   "source": [
    "cos=1-pairwise_distances(df_tfidf,email_tfidf,metric='cosine')  # applying cosine similarity\n",
    "cos"
   ]
  },
  {
   "cell_type": "code",
   "execution_count": 145,
   "metadata": {},
   "outputs": [
    {
     "data": {
      "text/html": [
       "<div>\n",
       "<style scoped>\n",
       "    .dataframe tbody tr th:only-of-type {\n",
       "        vertical-align: middle;\n",
       "    }\n",
       "\n",
       "    .dataframe tbody tr th {\n",
       "        vertical-align: top;\n",
       "    }\n",
       "\n",
       "    .dataframe thead th {\n",
       "        text-align: right;\n",
       "    }\n",
       "</style>\n",
       "<table border=\"1\" class=\"dataframe\">\n",
       "  <thead>\n",
       "    <tr style=\"text-align: right;\">\n",
       "      <th></th>\n",
       "      <th>template</th>\n",
       "      <th>similarity_tfidf</th>\n",
       "    </tr>\n",
       "  </thead>\n",
       "  <tbody>\n",
       "    <tr>\n",
       "      <th>0</th>\n",
       "      <td>APOLOGY TO CUSTOMERS:Hi [Customer name],\\nI wa...</td>\n",
       "      <td>0.225624</td>\n",
       "    </tr>\n",
       "    <tr>\n",
       "      <th>1</th>\n",
       "      <td>APOLOGY TO CUSTOMERS:Hi [Customer name],\\nI wa...</td>\n",
       "      <td>0.145370</td>\n",
       "    </tr>\n",
       "    <tr>\n",
       "      <th>2</th>\n",
       "      <td>APOLOGY TO CUSTOMERS:Hi [Customer name],\\nI wa...</td>\n",
       "      <td>0.945646</td>\n",
       "    </tr>\n",
       "    <tr>\n",
       "      <th>3</th>\n",
       "      <td>APOLOGY TO CUSTOMERS:Hi [Customer name],\\nI wa...</td>\n",
       "      <td>0.399274</td>\n",
       "    </tr>\n",
       "    <tr>\n",
       "      <th>4</th>\n",
       "      <td>APOLOGY TO CUSTOMERS:Hi [Customer name],\\nI wa...</td>\n",
       "      <td>0.394063</td>\n",
       "    </tr>\n",
       "    <tr>\n",
       "      <th>...</th>\n",
       "      <td>...</td>\n",
       "      <td>...</td>\n",
       "    </tr>\n",
       "    <tr>\n",
       "      <th>128</th>\n",
       "      <td>REVIEW/FEEDBACK REQUEST:Hey [customer name],\\n...</td>\n",
       "      <td>0.152350</td>\n",
       "    </tr>\n",
       "    <tr>\n",
       "      <th>129</th>\n",
       "      <td>REVIEW/FEEDBACK REQUEST:Hey [customer name],\\n...</td>\n",
       "      <td>0.086756</td>\n",
       "    </tr>\n",
       "    <tr>\n",
       "      <th>130</th>\n",
       "      <td>REVIEW/FEEDBACK REQUEST:Hey [customer name],\\n...</td>\n",
       "      <td>0.130147</td>\n",
       "    </tr>\n",
       "    <tr>\n",
       "      <th>131</th>\n",
       "      <td>REVIEW/FEEDBACK REQUEST:Hey [customer name],\\n...</td>\n",
       "      <td>0.212836</td>\n",
       "    </tr>\n",
       "    <tr>\n",
       "      <th>132</th>\n",
       "      <td>REVIEW/FEEDBACK REQUEST:Hey [customer name],\\n...</td>\n",
       "      <td>0.125674</td>\n",
       "    </tr>\n",
       "  </tbody>\n",
       "</table>\n",
       "<p>133 rows × 2 columns</p>\n",
       "</div>"
      ],
      "text/plain": [
       "                                              template  similarity_tfidf\n",
       "0    APOLOGY TO CUSTOMERS:Hi [Customer name],\\nI wa...          0.225624\n",
       "1    APOLOGY TO CUSTOMERS:Hi [Customer name],\\nI wa...          0.145370\n",
       "2    APOLOGY TO CUSTOMERS:Hi [Customer name],\\nI wa...          0.945646\n",
       "3    APOLOGY TO CUSTOMERS:Hi [Customer name],\\nI wa...          0.399274\n",
       "4    APOLOGY TO CUSTOMERS:Hi [Customer name],\\nI wa...          0.394063\n",
       "..                                                 ...               ...\n",
       "128  REVIEW/FEEDBACK REQUEST:Hey [customer name],\\n...          0.152350\n",
       "129  REVIEW/FEEDBACK REQUEST:Hey [customer name],\\n...          0.086756\n",
       "130  REVIEW/FEEDBACK REQUEST:Hey [customer name],\\n...          0.130147\n",
       "131  REVIEW/FEEDBACK REQUEST:Hey [customer name],\\n...          0.212836\n",
       "132  REVIEW/FEEDBACK REQUEST:Hey [customer name],\\n...          0.125674\n",
       "\n",
       "[133 rows x 2 columns]"
      ]
     },
     "execution_count": 145,
     "metadata": {},
     "output_type": "execute_result"
    }
   ],
   "source": [
    "df['similarity_tfidf']=cos # creating a new column \n",
    "df_simi_tfidf = pd.DataFrame(df, columns=['template','similarity_tfidf']) # taking similarity value of responses for the question we took\n",
    "df_simi_tfidf "
   ]
  },
  {
   "cell_type": "code",
   "execution_count": 146,
   "metadata": {},
   "outputs": [
    {
     "data": {
      "text/html": [
       "<div>\n",
       "<style scoped>\n",
       "    .dataframe tbody tr th:only-of-type {\n",
       "        vertical-align: middle;\n",
       "    }\n",
       "\n",
       "    .dataframe tbody tr th {\n",
       "        vertical-align: top;\n",
       "    }\n",
       "\n",
       "    .dataframe thead th {\n",
       "        text-align: right;\n",
       "    }\n",
       "</style>\n",
       "<table border=\"1\" class=\"dataframe\">\n",
       "  <thead>\n",
       "    <tr style=\"text-align: right;\">\n",
       "      <th></th>\n",
       "      <th>template</th>\n",
       "      <th>similarity_tfidf</th>\n",
       "    </tr>\n",
       "  </thead>\n",
       "  <tbody>\n",
       "    <tr>\n",
       "      <th>2</th>\n",
       "      <td>APOLOGY TO CUSTOMERS:Hi [Customer name],\\nI wa...</td>\n",
       "      <td>0.945646</td>\n",
       "    </tr>\n",
       "    <tr>\n",
       "      <th>5</th>\n",
       "      <td>APOLOGY TO CUSTOMERS:Hi [Customer name],\\nI wa...</td>\n",
       "      <td>0.401024</td>\n",
       "    </tr>\n",
       "    <tr>\n",
       "      <th>3</th>\n",
       "      <td>APOLOGY TO CUSTOMERS:Hi [Customer name],\\nI wa...</td>\n",
       "      <td>0.399274</td>\n",
       "    </tr>\n",
       "    <tr>\n",
       "      <th>4</th>\n",
       "      <td>APOLOGY TO CUSTOMERS:Hi [Customer name],\\nI wa...</td>\n",
       "      <td>0.394063</td>\n",
       "    </tr>\n",
       "    <tr>\n",
       "      <th>17</th>\n",
       "      <td>APOLOGY TO CUSTOMERS:Hi [Customer name],\\nI wa...</td>\n",
       "      <td>0.344663</td>\n",
       "    </tr>\n",
       "    <tr>\n",
       "      <th>15</th>\n",
       "      <td>APOLOGY TO CUSTOMERS:Hi [Customer name],\\nI wa...</td>\n",
       "      <td>0.309910</td>\n",
       "    </tr>\n",
       "    <tr>\n",
       "      <th>7</th>\n",
       "      <td>APOLOGY TO CUSTOMERS:Hi [Customer name],\\nI wa...</td>\n",
       "      <td>0.300713</td>\n",
       "    </tr>\n",
       "    <tr>\n",
       "      <th>80</th>\n",
       "      <td>POST INTERVIEW THANKS:Hi [Interviewer Name],\\n...</td>\n",
       "      <td>0.272901</td>\n",
       "    </tr>\n",
       "    <tr>\n",
       "      <th>13</th>\n",
       "      <td>APOLOGY TO CUSTOMERS:Hi [Customer name],\\nI wa...</td>\n",
       "      <td>0.263244</td>\n",
       "    </tr>\n",
       "    <tr>\n",
       "      <th>83</th>\n",
       "      <td>PRODUCT LAUNCH ANNOUNCEMENT:Dear [name]\\n\\nThe...</td>\n",
       "      <td>0.243958</td>\n",
       "    </tr>\n",
       "  </tbody>\n",
       "</table>\n",
       "</div>"
      ],
      "text/plain": [
       "                                             template  similarity_tfidf\n",
       "2   APOLOGY TO CUSTOMERS:Hi [Customer name],\\nI wa...          0.945646\n",
       "5   APOLOGY TO CUSTOMERS:Hi [Customer name],\\nI wa...          0.401024\n",
       "3   APOLOGY TO CUSTOMERS:Hi [Customer name],\\nI wa...          0.399274\n",
       "4   APOLOGY TO CUSTOMERS:Hi [Customer name],\\nI wa...          0.394063\n",
       "17  APOLOGY TO CUSTOMERS:Hi [Customer name],\\nI wa...          0.344663\n",
       "15  APOLOGY TO CUSTOMERS:Hi [Customer name],\\nI wa...          0.309910\n",
       "7   APOLOGY TO CUSTOMERS:Hi [Customer name],\\nI wa...          0.300713\n",
       "80  POST INTERVIEW THANKS:Hi [Interviewer Name],\\n...          0.272901\n",
       "13  APOLOGY TO CUSTOMERS:Hi [Customer name],\\nI wa...          0.263244\n",
       "83  PRODUCT LAUNCH ANNOUNCEMENT:Dear [name]\\n\\nThe...          0.243958"
      ]
     },
     "execution_count": 146,
     "metadata": {},
     "output_type": "execute_result"
    }
   ],
   "source": [
    "df_simi_tfidf_sort = df_simi_tfidf.sort_values(by='similarity_tfidf', ascending=False) # sorting the values\n",
    "df_simi_tfidf_sort.head(10)"
   ]
  },
  {
   "cell_type": "code",
   "execution_count": 147,
   "metadata": {},
   "outputs": [
    {
     "data": {
      "text/html": [
       "<div>\n",
       "<style scoped>\n",
       "    .dataframe tbody tr th:only-of-type {\n",
       "        vertical-align: middle;\n",
       "    }\n",
       "\n",
       "    .dataframe tbody tr th {\n",
       "        vertical-align: top;\n",
       "    }\n",
       "\n",
       "    .dataframe thead th {\n",
       "        text-align: right;\n",
       "    }\n",
       "</style>\n",
       "<table border=\"1\" class=\"dataframe\">\n",
       "  <thead>\n",
       "    <tr style=\"text-align: right;\">\n",
       "      <th></th>\n",
       "      <th>template</th>\n",
       "      <th>similarity_tfidf</th>\n",
       "    </tr>\n",
       "  </thead>\n",
       "  <tbody>\n",
       "    <tr>\n",
       "      <th>2</th>\n",
       "      <td>APOLOGY TO CUSTOMERS:Hi [Customer name],\\nI wa...</td>\n",
       "      <td>0.945646</td>\n",
       "    </tr>\n",
       "    <tr>\n",
       "      <th>5</th>\n",
       "      <td>APOLOGY TO CUSTOMERS:Hi [Customer name],\\nI wa...</td>\n",
       "      <td>0.401024</td>\n",
       "    </tr>\n",
       "    <tr>\n",
       "      <th>3</th>\n",
       "      <td>APOLOGY TO CUSTOMERS:Hi [Customer name],\\nI wa...</td>\n",
       "      <td>0.399274</td>\n",
       "    </tr>\n",
       "    <tr>\n",
       "      <th>4</th>\n",
       "      <td>APOLOGY TO CUSTOMERS:Hi [Customer name],\\nI wa...</td>\n",
       "      <td>0.394063</td>\n",
       "    </tr>\n",
       "    <tr>\n",
       "      <th>17</th>\n",
       "      <td>APOLOGY TO CUSTOMERS:Hi [Customer name],\\nI wa...</td>\n",
       "      <td>0.344663</td>\n",
       "    </tr>\n",
       "    <tr>\n",
       "      <th>15</th>\n",
       "      <td>APOLOGY TO CUSTOMERS:Hi [Customer name],\\nI wa...</td>\n",
       "      <td>0.309910</td>\n",
       "    </tr>\n",
       "    <tr>\n",
       "      <th>7</th>\n",
       "      <td>APOLOGY TO CUSTOMERS:Hi [Customer name],\\nI wa...</td>\n",
       "      <td>0.300713</td>\n",
       "    </tr>\n",
       "    <tr>\n",
       "      <th>80</th>\n",
       "      <td>POST INTERVIEW THANKS:Hi [Interviewer Name],\\n...</td>\n",
       "      <td>0.272901</td>\n",
       "    </tr>\n",
       "    <tr>\n",
       "      <th>13</th>\n",
       "      <td>APOLOGY TO CUSTOMERS:Hi [Customer name],\\nI wa...</td>\n",
       "      <td>0.263244</td>\n",
       "    </tr>\n",
       "    <tr>\n",
       "      <th>83</th>\n",
       "      <td>PRODUCT LAUNCH ANNOUNCEMENT:Dear [name]\\n\\nThe...</td>\n",
       "      <td>0.243958</td>\n",
       "    </tr>\n",
       "    <tr>\n",
       "      <th>116</th>\n",
       "      <td>REVIEW/FEEDBACK REQUEST:Hey [customer name],\\n...</td>\n",
       "      <td>0.241852</td>\n",
       "    </tr>\n",
       "    <tr>\n",
       "      <th>68</th>\n",
       "      <td>SALES/DISCOUNT OFFER:Hi [name],\\n\\nIt’s a grea...</td>\n",
       "      <td>0.240663</td>\n",
       "    </tr>\n",
       "    <tr>\n",
       "      <th>11</th>\n",
       "      <td>APOLOGY TO CUSTOMERS:Hi [Customer name],\\nI wa...</td>\n",
       "      <td>0.236208</td>\n",
       "    </tr>\n",
       "    <tr>\n",
       "      <th>88</th>\n",
       "      <td>PRODUCT LAUNCH ANNOUNCEMENT:Dear [name]\\n\\nThe...</td>\n",
       "      <td>0.235618</td>\n",
       "    </tr>\n",
       "    <tr>\n",
       "      <th>67</th>\n",
       "      <td>SALES/DISCOUNT OFFER:Hi [name],\\n\\nIt’s a grea...</td>\n",
       "      <td>0.235443</td>\n",
       "    </tr>\n",
       "    <tr>\n",
       "      <th>79</th>\n",
       "      <td>POST INTERVIEW THANKS:Hi [Interviewer Name],\\n...</td>\n",
       "      <td>0.235316</td>\n",
       "    </tr>\n",
       "    <tr>\n",
       "      <th>9</th>\n",
       "      <td>APOLOGY TO CUSTOMERS:Hi [Customer name],\\nI wa...</td>\n",
       "      <td>0.234189</td>\n",
       "    </tr>\n",
       "    <tr>\n",
       "      <th>6</th>\n",
       "      <td>APOLOGY TO CUSTOMERS:Hi [Customer name],\\nI wa...</td>\n",
       "      <td>0.231832</td>\n",
       "    </tr>\n",
       "    <tr>\n",
       "      <th>0</th>\n",
       "      <td>APOLOGY TO CUSTOMERS:Hi [Customer name],\\nI wa...</td>\n",
       "      <td>0.225624</td>\n",
       "    </tr>\n",
       "    <tr>\n",
       "      <th>27</th>\n",
       "      <td>REQUEST FOR MEETING:Dear [Recipient Name]\\nI a...</td>\n",
       "      <td>0.220851</td>\n",
       "    </tr>\n",
       "    <tr>\n",
       "      <th>16</th>\n",
       "      <td>APOLOGY TO CUSTOMERS:Hi [Customer name],\\nI wa...</td>\n",
       "      <td>0.217966</td>\n",
       "    </tr>\n",
       "    <tr>\n",
       "      <th>77</th>\n",
       "      <td>POST INTERVIEW THANKS:Hi [Interviewer Name],\\n...</td>\n",
       "      <td>0.214010</td>\n",
       "    </tr>\n",
       "    <tr>\n",
       "      <th>131</th>\n",
       "      <td>REVIEW/FEEDBACK REQUEST:Hey [customer name],\\n...</td>\n",
       "      <td>0.212836</td>\n",
       "    </tr>\n",
       "    <tr>\n",
       "      <th>124</th>\n",
       "      <td>REVIEW/FEEDBACK REQUEST:Hey [customer name],\\n...</td>\n",
       "      <td>0.207774</td>\n",
       "    </tr>\n",
       "    <tr>\n",
       "      <th>8</th>\n",
       "      <td>APOLOGY TO CUSTOMERS:Hi [Customer name],\\nI wa...</td>\n",
       "      <td>0.206675</td>\n",
       "    </tr>\n",
       "    <tr>\n",
       "      <th>86</th>\n",
       "      <td>PRODUCT LAUNCH ANNOUNCEMENT:Dear [name]\\n\\nThe...</td>\n",
       "      <td>0.204804</td>\n",
       "    </tr>\n",
       "    <tr>\n",
       "      <th>122</th>\n",
       "      <td>REVIEW/FEEDBACK REQUEST:Hey [customer name],\\n...</td>\n",
       "      <td>0.203929</td>\n",
       "    </tr>\n",
       "  </tbody>\n",
       "</table>\n",
       "</div>"
      ],
      "text/plain": [
       "                                              template  similarity_tfidf\n",
       "2    APOLOGY TO CUSTOMERS:Hi [Customer name],\\nI wa...          0.945646\n",
       "5    APOLOGY TO CUSTOMERS:Hi [Customer name],\\nI wa...          0.401024\n",
       "3    APOLOGY TO CUSTOMERS:Hi [Customer name],\\nI wa...          0.399274\n",
       "4    APOLOGY TO CUSTOMERS:Hi [Customer name],\\nI wa...          0.394063\n",
       "17   APOLOGY TO CUSTOMERS:Hi [Customer name],\\nI wa...          0.344663\n",
       "15   APOLOGY TO CUSTOMERS:Hi [Customer name],\\nI wa...          0.309910\n",
       "7    APOLOGY TO CUSTOMERS:Hi [Customer name],\\nI wa...          0.300713\n",
       "80   POST INTERVIEW THANKS:Hi [Interviewer Name],\\n...          0.272901\n",
       "13   APOLOGY TO CUSTOMERS:Hi [Customer name],\\nI wa...          0.263244\n",
       "83   PRODUCT LAUNCH ANNOUNCEMENT:Dear [name]\\n\\nThe...          0.243958\n",
       "116  REVIEW/FEEDBACK REQUEST:Hey [customer name],\\n...          0.241852\n",
       "68   SALES/DISCOUNT OFFER:Hi [name],\\n\\nIt’s a grea...          0.240663\n",
       "11   APOLOGY TO CUSTOMERS:Hi [Customer name],\\nI wa...          0.236208\n",
       "88   PRODUCT LAUNCH ANNOUNCEMENT:Dear [name]\\n\\nThe...          0.235618\n",
       "67   SALES/DISCOUNT OFFER:Hi [name],\\n\\nIt’s a grea...          0.235443\n",
       "79   POST INTERVIEW THANKS:Hi [Interviewer Name],\\n...          0.235316\n",
       "9    APOLOGY TO CUSTOMERS:Hi [Customer name],\\nI wa...          0.234189\n",
       "6    APOLOGY TO CUSTOMERS:Hi [Customer name],\\nI wa...          0.231832\n",
       "0    APOLOGY TO CUSTOMERS:Hi [Customer name],\\nI wa...          0.225624\n",
       "27   REQUEST FOR MEETING:Dear [Recipient Name]\\nI a...          0.220851\n",
       "16   APOLOGY TO CUSTOMERS:Hi [Customer name],\\nI wa...          0.217966\n",
       "77   POST INTERVIEW THANKS:Hi [Interviewer Name],\\n...          0.214010\n",
       "131  REVIEW/FEEDBACK REQUEST:Hey [customer name],\\n...          0.212836\n",
       "124  REVIEW/FEEDBACK REQUEST:Hey [customer name],\\n...          0.207774\n",
       "8    APOLOGY TO CUSTOMERS:Hi [Customer name],\\nI wa...          0.206675\n",
       "86   PRODUCT LAUNCH ANNOUNCEMENT:Dear [name]\\n\\nThe...          0.204804\n",
       "122  REVIEW/FEEDBACK REQUEST:Hey [customer name],\\n...          0.203929"
      ]
     },
     "execution_count": 147,
     "metadata": {},
     "output_type": "execute_result"
    }
   ],
   "source": [
    "threshold = 0.2 # considering the value of p=smiliarity to be greater than 0.2\n",
    "df_threshold = df_simi_tfidf_sort[df_simi_tfidf_sort['similarity_tfidf'] > threshold] \n",
    "df_threshold"
   ]
  },
  {
   "cell_type": "code",
   "execution_count": 148,
   "metadata": {},
   "outputs": [
    {
     "data": {
      "text/plain": [
       "2"
      ]
     },
     "execution_count": 148,
     "metadata": {},
     "output_type": "execute_result"
    }
   ],
   "source": [
    "index_value1 = cos.argmax() # returns the index number of highest value\n",
    "index_value1"
   ]
  },
  {
   "cell_type": "code",
   "execution_count": 149,
   "metadata": {},
   "outputs": [
    {
     "data": {
      "text/plain": [
       "'dear  customer name   thank you for contacting us about your defective  product name   we are truly sorry that it did not work as promised  we also apologize for any inconvenience that this has caused for you  our products go through several quality control checks before they are delivered to customers  however  this one regrettably slipped past those checks and failed to live up to our standards  to make up for this error  we have shipped you a new  product name   which should arrive within 2 5 days  we ve also included a pre labeled box for you to return the defective product once you ve received the replacement  we re also sending a  20 coupon for your next purchase to make up for the inconvenience  we are truly sorry that your original purchase did not live up to your expectations  but we look forward to providing a better experience for you going forward  thanks again for bringing this issue to our attention  and please don t hesitate to contact me directly with any other concerns you may have  sincerely   name   title'"
      ]
     },
     "execution_count": 149,
     "metadata": {},
     "output_type": "execute_result"
    }
   ],
   "source": [
    "email1"
   ]
  },
  {
   "cell_type": "code",
   "execution_count": 150,
   "metadata": {},
   "outputs": [
    {
     "data": {
      "text/plain": [
       "'APOLOGY TO CUSTOMERS:Hi [Customer name],\\nI want to apologize for [briefly state mistake]. Our team tries to offer the best service, but we failed this time. I realize we [state briefly the impact your mistake had on the customer] and I’m very sorry. This was likely caused by [add brief explanation], but, regardless, we should have handled this better. We’re all aware of what happened and will take extra care in future. As an additional apology, we’re sending you [offering]. While we know it can’t exactly make up for the inconvenience we caused, we hope it’ll go some way towards making amends.\\nThank you for your patience. Let me know if I can help in any way.\\n[Your name]'"
      ]
     },
     "execution_count": 150,
     "metadata": {},
     "output_type": "execute_result"
    }
   ],
   "source": [
    "df['template'].loc[index_value1]  # returns the text at that index"
   ]
  },
  {
   "cell_type": "markdown",
   "metadata": {},
   "source": [
    "# Model Using Bag of Words"
   ]
  },
  {
   "cell_type": "code",
   "execution_count": 151,
   "metadata": {},
   "outputs": [],
   "source": [
    "# Function that removes stop words and process the text\n",
    "\n",
    "def stopword_(text):   \n",
    "    tag_list=pos_tag(nltk.word_tokenize(text),tagset=None)\n",
    "    stop=stopwords.words('english')\n",
    "    lema=wordnet.WordNetLemmatizer()\n",
    "    lema_word=[]\n",
    "    for token,pos_token in tag_list:\n",
    "        if token in stop:\n",
    "            continue\n",
    "        if pos_token.startswith('V'):\n",
    "            pos_val='v'\n",
    "        elif pos_token.startswith('J'):\n",
    "            pos_val='a'\n",
    "        elif pos_token.startswith('R'):\n",
    "            pos_val='r'\n",
    "        else:\n",
    "            pos_val='n'\n",
    "        lema_token=lema.lemmatize(token,pos_val)\n",
    "        lema_word.append(lema_token)\n",
    "    return \" \".join(lema_word) "
   ]
  },
  {
   "cell_type": "code",
   "execution_count": 152,
   "metadata": {},
   "outputs": [],
   "source": [
    "# defining a function that returns response to query using bow\n",
    "\n",
    "def email_bow(text):\n",
    "    s=stopword_(text)\n",
    "    lemma=text_normalization(s) # calling the function to perform text normalization\n",
    "    bow=cv.transform([lemma]).toarray() # applying bow\n",
    "    cosine_value = 1- pairwise_distances(df_bow,bow, metric = 'cosine' )\n",
    "    index_value=cosine_value.argmax() # getting index value \n",
    "    return df['template'].loc[index_value]"
   ]
  },
  {
   "cell_type": "code",
   "execution_count": 153,
   "metadata": {},
   "outputs": [
    {
     "data": {
      "text/plain": [
       "'SALES/DISCOUNT OFFER:Hi [name],\\n\\nIt’s a great time for shopping! \\n\\n[time frame: e.g., Today only, Until July 24th], all items in the store are X% off!\\n\\nDon’t hesitate – the best deals are selling out fast!\\n\\nJust use the discount code below at checkout:\\n\\n[code]\\n\\nHappy shopping,\\n[company name]'"
      ]
     },
     "execution_count": 153,
     "metadata": {},
     "output_type": "execute_result"
    }
   ],
   "source": [
    "email_bow(\"discount\")"
   ]
  },
  {
   "cell_type": "code",
   "execution_count": 154,
   "metadata": {},
   "outputs": [
    {
     "data": {
      "text/plain": [
       "'REQUEST FOR MEETING:Dear [Recipient Name]\\nI am writing to request a meeting with you to discuss [topic/topics to discuss]. Please tell me your available dates and timings and I will adjust accordingly.\\nI appreciate your consideration and hope to meet you soon. Thank you for your time.\\nBest Regards'"
      ]
     },
     "execution_count": 154,
     "metadata": {},
     "output_type": "execute_result"
    }
   ],
   "source": [
    "email_bow('meeting invitation')"
   ]
  },
  {
   "cell_type": "code",
   "execution_count": 155,
   "metadata": {
    "scrolled": true
   },
   "outputs": [
    {
     "data": {
      "text/plain": [
       "'PASSWORD RESET:Hi [name],\\n\\nThere was a request to change your password!\\n\\nIf you did not make this request then please ignore this email.\\n\\nOtherwise, please click this link to change your password: [link]'"
      ]
     },
     "execution_count": 155,
     "metadata": {},
     "output_type": "execute_result"
    }
   ],
   "source": [
    "email_bow('password reset')"
   ]
  },
  {
   "cell_type": "code",
   "execution_count": 156,
   "metadata": {},
   "outputs": [
    {
     "data": {
      "text/plain": [
       "'INVITATION TO MEETING:Hello <invitee group>,\\n\\nI hope this email finds you well. I’m writing to invite you to a meeting on <day and date> at <time> to discuss <topic>. \\n\\nThe meeting will take place at/on <location/videoconference platform> and will last approximately <number> hours. An agenda for the meeting is attached. The most important topics for discussion include:                   <agenda item 1>\\n\\n<agenda item 2>\\n\\n<agenda item 3>                                                                                                   Please click this link to confirm whether or not you will be able to attend. We ask that you reply no later than <date and time> so we can plan effectively. \\n\\nRegards,\\n\\n<Your name>\\n\\n<Your role and contact info>\\n\\n<Company name>'"
      ]
     },
     "execution_count": 156,
     "metadata": {},
     "output_type": "execute_result"
    }
   ],
   "source": [
    "email_bow('coffee')"
   ]
  },
  {
   "cell_type": "code",
   "execution_count": 157,
   "metadata": {},
   "outputs": [
    {
     "data": {
      "text/plain": [
       "'POST INTERVIEW THANKS:Hi [Interviewer Name],\\n\\nThank you so much for meeting with me today. It was such a pleasure to learn more about the team and position, and I’m very excited about the opportunity to join [Company Name] and help [bring in new clients/develop world-class content/anything else awesome you would be doing] with your team.\\n\\nI look forward to hearing from you about the next steps in the hiring process, and please do not hesitate to contact me if I can provide additional information.\\n\\nBest regards,\\n[Your Name]'"
      ]
     },
     "execution_count": 157,
     "metadata": {},
     "output_type": "execute_result"
    }
   ],
   "source": [
    "email_bow('post interview thanks')"
   ]
  },
  {
   "cell_type": "code",
   "execution_count": 158,
   "metadata": {},
   "outputs": [
    {
     "data": {
      "text/plain": [
       "'JOB PROMOTION ANNOUNCEMENT:Subject: Firstname Lastname - New Position\\n\\nI am pleased to announce the promotion of [Firstname Lastname] from [Old Position] to [New Position]. [Firstname] has been with [Name of Company] for [X years] and has worked in [insert Names of Departments/Positions]. S/he will be gaining these new responsibilities [list].\\n\\n[Firstname] attended [Name of University] and came to [Name of Company] after graduation.\\n\\nDuring her/his tenure here, [Firstname] has implemented protocols which have improved efficiency in the [Name of departments] and has frequently been recognized for outstanding achievement.\\n\\nPlease join me in congratulating [Firstname] on [her/his] promotion and welcoming her/him to the New Department/Position.\\n\\nWarm Regards,\\n\\nYour Name\\n\\nTitle'"
      ]
     },
     "execution_count": 158,
     "metadata": {},
     "output_type": "execute_result"
    }
   ],
   "source": [
    "email_bow('promotion')"
   ]
  },
  {
   "cell_type": "code",
   "execution_count": 159,
   "metadata": {},
   "outputs": [
    {
     "data": {
      "text/plain": [
       "'PRODUCT LAUNCH ANNOUNCEMENT:Dear [name]\\n\\nThe new [product name] is finally here!\\n\\nWhat makes the [product name] different is [give an introduction to the product and why people may want to buy it]\\n\\nYou can order your [product name] directly from our webstore or find it on Amazon.\\n\\n[Only add offer if needed] The first 100 people that make an order will receive free shipping.\\n\\n[Add CTA button]'"
      ]
     },
     "execution_count": 159,
     "metadata": {},
     "output_type": "execute_result"
    }
   ],
   "source": [
    "email_bow('product')"
   ]
  },
  {
   "cell_type": "markdown",
   "metadata": {},
   "source": [
    "# Model Using tf-idf"
   ]
  },
  {
   "cell_type": "code",
   "execution_count": 160,
   "metadata": {},
   "outputs": [],
   "source": [
    "# defining a function that returns response to query using tf-idf\n",
    "\n",
    "def email_tfidf(text):\n",
    "    lemma=text_normalization(text) # calling the function to perform text normalization\n",
    "    tf=tfidf.transform([lemma]).toarray() # applying tf-idf\n",
    "    cos=1-pairwise_distances(df_tfidf,tf,metric='cosine') # applying cosine similarity\n",
    "    index_value=cos.argmax() # getting index value \n",
    "    return df['template'].loc[index_value]"
   ]
  },
  {
   "cell_type": "code",
   "execution_count": 161,
   "metadata": {},
   "outputs": [
    {
     "data": {
      "text/plain": [
       "'SALES/DISCOUNT OFFER:Hi [name],\\n\\nIt’s a great time for shopping! \\n\\n[time frame: e.g., Today only, Until July 24th], all items in the store are X% off!\\n\\nDon’t hesitate – the best deals are selling out fast!\\n\\nJust use the discount code below at checkout:\\n\\n[code]\\n\\nHappy shopping,\\n[company name]'"
      ]
     },
     "execution_count": 161,
     "metadata": {},
     "output_type": "execute_result"
    }
   ],
   "source": [
    "email_tfidf('discount')"
   ]
  },
  {
   "cell_type": "code",
   "execution_count": 162,
   "metadata": {},
   "outputs": [
    {
     "data": {
      "text/plain": [
       "'JOB PROMOTION ANNOUNCEMENT:Subject: Firstname Lastname - New Position\\n\\nI am pleased to announce the promotion of [Firstname Lastname] from [Old Position] to [New Position]. [Firstname] has been with [Name of Company] for [X years] and has worked in [insert Names of Departments/Positions]. S/he will be gaining these new responsibilities [list].\\n\\n[Firstname] attended [Name of University] and came to [Name of Company] after graduation.\\n\\nDuring her/his tenure here, [Firstname] has implemented protocols which have improved efficiency in the [Name of departments] and has frequently been recognized for outstanding achievement.\\n\\nPlease join me in congratulating [Firstname] on [her/his] promotion and welcoming her/him to the New Department/Position.\\n\\nWarm Regards,\\n\\nYour Name\\n\\nTitle'"
      ]
     },
     "execution_count": 162,
     "metadata": {},
     "output_type": "execute_result"
    }
   ],
   "source": [
    "email_tfidf('promotion')"
   ]
  },
  {
   "cell_type": "code",
   "execution_count": 163,
   "metadata": {},
   "outputs": [
    {
     "data": {
      "text/plain": [
       "'JOB PROMOTION ANNOUNCEMENT:Subject: Firstname Lastname - New Position\\n\\nI am pleased to announce the promotion of [Firstname Lastname] from [Old Position] to [New Position]. [Firstname] has been with [Name of Company] for [X years] and has worked in [insert Names of Departments/Positions]. S/he will be gaining these new responsibilities [list].\\n\\n[Firstname] attended [Name of University] and came to [Name of Company] after graduation.\\n\\nDuring her/his tenure here, [Firstname] has implemented protocols which have improved efficiency in the [Name of departments] and has frequently been recognized for outstanding achievement.\\n\\nPlease join me in congratulating [Firstname] on [her/his] promotion and welcoming her/him to the New Department/Position.\\n\\nWarm Regards,\\n\\nYour Name\\n\\nTitle'"
      ]
     },
     "execution_count": 163,
     "metadata": {},
     "output_type": "execute_result"
    }
   ],
   "source": [
    "email_tfidf('announcement')"
   ]
  },
  {
   "cell_type": "code",
   "execution_count": 164,
   "metadata": {},
   "outputs": [
    {
     "data": {
      "text/plain": [
       "'PASSWORD RESET:Hi [name],\\n\\nThere was a request to change your password!\\n\\nIf you did not make this request then please ignore this email.\\n\\nOtherwise, please click this link to change your password: [link]'"
      ]
     },
     "execution_count": 164,
     "metadata": {},
     "output_type": "execute_result"
    }
   ],
   "source": [
    "email_tfidf('password')"
   ]
  },
  {
   "cell_type": "code",
   "execution_count": 165,
   "metadata": {},
   "outputs": [
    {
     "data": {
      "text/plain": [
       "'APOLOGY TO CUSTOMERS:Hi [Customer name],\\nI want to apologize for [briefly state mistake]. Our team tries to offer the best service, but we failed this time. I realize we [state briefly the impact your mistake had on the customer] and I’m very sorry. This was likely caused by [add brief explanation], but, regardless, we should have handled this better. We’re all aware of what happened and will take extra care in future. As an additional apology, we’re sending you [offering]. While we know it can’t exactly make up for the inconvenience we caused, we hope it’ll go some way towards making amends.\\nThank you for your patience. Let me know if I can help in any way.\\n[Your name]'"
      ]
     },
     "execution_count": 165,
     "metadata": {},
     "output_type": "execute_result"
    }
   ],
   "source": [
    "email_tfidf('thankyou')"
   ]
  },
  {
   "cell_type": "code",
   "execution_count": 166,
   "metadata": {},
   "outputs": [
    {
     "data": {
      "text/plain": [
       "'POST INTERVIEW THANKS:Hi [Interviewer Name],\\n\\nThank you so much for meeting with me today. It was such a pleasure to learn more about the team and position, and I’m very excited about the opportunity to join [Company Name] and help [bring in new clients/develop world-class content/anything else awesome you would be doing] with your team.\\n\\nI look forward to hearing from you about the next steps in the hiring process, and please do not hesitate to contact me if I can provide additional information.\\n\\nBest regards,\\n[Your Name]'"
      ]
     },
     "execution_count": 166,
     "metadata": {},
     "output_type": "execute_result"
    }
   ],
   "source": [
    "email_tfidf('interview')"
   ]
  },
  {
   "cell_type": "code",
   "execution_count": 167,
   "metadata": {},
   "outputs": [
    {
     "data": {
      "text/plain": [
       "'INVITATION TO MEETING:Hello <invitee group>,\\n\\nI hope this email finds you well. I’m writing to invite you to a meeting on <day and date> at <time> to discuss <topic>. \\n\\nThe meeting will take place at/on <location/videoconference platform> and will last approximately <number> hours. An agenda for the meeting is attached. The most important topics for discussion include:                   <agenda item 1>\\n\\n<agenda item 2>\\n\\n<agenda item 3>                                                                                                   Please click this link to confirm whether or not you will be able to attend. We ask that you reply no later than <date and time> so we can plan effectively. \\n\\nRegards,\\n\\n<Your name>\\n\\n<Your role and contact info>\\n\\n<Company name>'"
      ]
     },
     "execution_count": 167,
     "metadata": {},
     "output_type": "execute_result"
    }
   ],
   "source": [
    "email_tfidf('invitation')"
   ]
  },
  {
   "cell_type": "code",
   "execution_count": 168,
   "metadata": {},
   "outputs": [
    {
     "data": {
      "text/plain": [
       "'APOLOGY TO CUSTOMERS:Hi [Customer name],\\nI want to apologize for [briefly state mistake]. Our team tries to offer the best service, but we failed this time. I realize we [state briefly the impact your mistake had on the customer] and I’m very sorry. This was likely caused by [add brief explanation], but, regardless, we should have handled this better. We’re all aware of what happened and will take extra care in future. As an additional apology, we’re sending you [offering]. While we know it can’t exactly make up for the inconvenience we caused, we hope it’ll go some way towards making amends.\\nThank you for your patience. Let me know if I can help in any way.\\n[Your name]'"
      ]
     },
     "execution_count": 168,
     "metadata": {},
     "output_type": "execute_result"
    }
   ],
   "source": [
    "email_tfidf('sorry')"
   ]
  },
  {
   "cell_type": "code",
   "execution_count": 169,
   "metadata": {},
   "outputs": [
    {
     "data": {
      "text/plain": [
       "'POST INTERVIEW THANKS:Hi [Interviewer Name],\\n\\nThank you so much for meeting with me today. It was such a pleasure to learn more about the team and position, and I’m very excited about the opportunity to join [Company Name] and help [bring in new clients/develop world-class content/anything else awesome you would be doing] with your team.\\n\\nI look forward to hearing from you about the next steps in the hiring process, and please do not hesitate to contact me if I can provide additional information.\\n\\nBest regards,\\n[Your Name]'"
      ]
     },
     "execution_count": 169,
     "metadata": {},
     "output_type": "execute_result"
    }
   ],
   "source": [
    "email_tfidf('experiences')"
   ]
  },
  {
   "cell_type": "code",
   "execution_count": 170,
   "metadata": {
    "scrolled": false
   },
   "outputs": [
    {
     "data": {
      "text/plain": [
       "'INVITATION TO MEETING:Hello <invitee group>,\\n\\nI hope this email finds you well. I’m writing to invite you to a meeting on <day and date> at <time> to discuss <topic>. \\n\\nThe meeting will take place at/on <location/videoconference platform> and will last approximately <number> hours. An agenda for the meeting is attached. The most important topics for discussion include:                   <agenda item 1>\\n\\n<agenda item 2>\\n\\n<agenda item 3>                                                                                                   Please click this link to confirm whether or not you will be able to attend. We ask that you reply no later than <date and time> so we can plan effectively. \\n\\nRegards,\\n\\n<Your name>\\n\\n<Your role and contact info>\\n\\n<Company name>'"
      ]
     },
     "execution_count": 170,
     "metadata": {},
     "output_type": "execute_result"
    }
   ],
   "source": [
    "email_tfidf(\"invitation\")"
   ]
  },
  {
   "cell_type": "code",
   "execution_count": 171,
   "metadata": {},
   "outputs": [],
   "source": [
    "df['category_id'] = df['template'].factorize()[0]\n",
    "from io import StringIO\n",
    "category_id_df = df[['template', 'category_id']].drop_duplicates().sort_values('category_id')\n",
    "category_to_id = dict(category_id_df.values)\n",
    "id_to_category = dict(category_id_df[['category_id', 'template']].values)"
   ]
  },
  {
   "cell_type": "code",
   "execution_count": 172,
   "metadata": {},
   "outputs": [
    {
     "data": {
      "image/png": "[encoded data removed]",
      "text/plain": [
       "<Figure size 576x720 with 1 Axes>"
      ]
     },
     "metadata": {
      "needs_background": "light"
     },
     "output_type": "display_data"
    }
   ],
   "source": [
    "import matplotlib.pyplot as plt\n",
    "fig = plt.figure(figsize=(8,10))\n",
    "df.groupby('template').lemmatized_text.count().plot.bar(ylim=0)\n",
    "plt.show()"
   ]
  },
  {
   "cell_type": "code",
   "execution_count": 173,
   "metadata": {},
   "outputs": [
    {
     "data": {
      "text/plain": [
       "(133, 260)"
      ]
     },
     "execution_count": 173,
     "metadata": {},
     "output_type": "execute_result"
    }
   ],
   "source": [
    "#TF-IDF\n",
    "from sklearn.feature_extraction.text import TfidfVectorizer\n",
    "\n",
    "tfidf = TfidfVectorizer(sublinear_tf=True, min_df=5, norm='l2', encoding='latin-1', ngram_range=(1, 2), stop_words='english')\n",
    "\n",
    "features = tfidf.fit_transform(df.lemmatized_text).toarray()\n",
    "labels = df.category_id\n",
    "features.shape"
   ]
  },
  {
   "cell_type": "code",
   "execution_count": 174,
   "metadata": {
    "scrolled": true
   },
   "outputs": [
    {
     "name": "stdout",
     "output_type": "stream",
     "text": [
      "# 'APOLOGY TO CUSTOMERS:Hi [Customer name],\n",
      "I want to apologize for [briefly state mistake]. Our team tries to offer the best service, but we failed this time. I realize we [state briefly the impact your mistake had on the customer] and I’m very sorry. This was likely caused by [add brief explanation], but, regardless, we should have handled this better. We’re all aware of what happened and will take extra care in future. As an additional apology, we’re sending you [offering]. While we know it can’t exactly make up for the inconvenience we caused, we hope it’ll go some way towards making amends.\n",
      "Thank you for your patience. Let me know if I can help in any way.\n",
      "[Your name]':\n",
      "  . Most correlated unigrams:\n",
      "       . apology\n",
      "       . sorry\n",
      "  . Most correlated bigrams:\n",
      "       . team try\n",
      "       . want apologize\n",
      "  . Most correlated trigrams:\n",
      "       . \n",
      "# 'INVITATION TO MEETING:Hello <invitee group>,\n",
      "\n",
      "I hope this email finds you well. I’m writing to invite you to a meeting on <day and date> at <time> to discuss <topic>. \n",
      "\n",
      "The meeting will take place at/on <location/videoconference platform> and will last approximately <number> hours. An agenda for the meeting is attached. The most important topics for discussion include:                   <agenda item 1>\n",
      "\n",
      "<agenda item 2>\n",
      "\n",
      "<agenda item 3>                                                                                                   Please click this link to confirm whether or not you will be able to attend. We ask that you reply no later than <date and time> so we can plan effectively. \n",
      "\n",
      "Regards,\n",
      "\n",
      "<Your name>\n",
      "\n",
      "<Your role and contact info>\n",
      "\n",
      "<Company name>':\n",
      "  . Most correlated unigrams:\n",
      "       . topic\n",
      "       . meeting\n",
      "  . Most correlated bigrams:\n",
      "       . look forward\n",
      "       . date time\n",
      "  . Most correlated trigrams:\n",
      "       . \n",
      "# 'JOB PROMOTION ANNOUNCEMENT:Subject: Firstname Lastname - New Position\n",
      "\n",
      "I am pleased to announce the promotion of [Firstname Lastname] from [Old Position] to [New Position]. [Firstname] has been with [Name of Company] for [X years] and has worked in [insert Names of Departments/Positions]. S/he will be gaining these new responsibilities [list].\n",
      "\n",
      "[Firstname] attended [Name of University] and came to [Name of Company] after graduation.\n",
      "\n",
      "During her/his tenure here, [Firstname] has implemented protocols which have improved efficiency in the [Name of departments] and has frequently been recognized for outstanding achievement.\n",
      "\n",
      "Please join me in congratulating [Firstname] on [her/his] promotion and welcoming her/him to the New Department/Position.\n",
      "\n",
      "Warm Regards,\n",
      "\n",
      "Your Name\n",
      "\n",
      "Title':\n",
      "  . Most correlated unigrams:\n",
      "       . director\n",
      "       . promotion\n",
      "  . Most correlated bigrams:\n",
      "       . excite announce\n",
      "       . announce promotion\n",
      "  . Most correlated trigrams:\n",
      "       . \n",
      "# 'PASSWORD RESET:Hi [name],\n",
      "\n",
      "There was a request to change your password!\n",
      "\n",
      "If you did not make this request then please ignore this email.\n",
      "\n",
      "Otherwise, please click this link to change your password: [link]':\n",
      "  . Most correlated unigrams:\n",
      "       . portal\n",
      "       . password\n",
      "  . Most correlated bigrams:\n",
      "       . reset password\n",
      "       . customer portal\n",
      "  . Most correlated trigrams:\n",
      "       . \n",
      "# 'POST INTERVIEW THANKS:Hi [Interviewer Name],\n",
      "\n",
      "Thank you so much for meeting with me today. It was such a pleasure to learn more about the team and position, and I’m very excited about the opportunity to join [Company Name] and help [bring in new clients/develop world-class content/anything else awesome you would be doing] with your team.\n",
      "\n",
      "I look forward to hearing from you about the next steps in the hiring process, and please do not hesitate to contact me if I can provide additional information.\n",
      "\n",
      "Best regards,\n",
      "[Your Name]':\n",
      "  . Most correlated unigrams:\n",
      "       . interview\n",
      "       . conversation\n",
      "  . Most correlated bigrams:\n",
      "       . free contact\n",
      "       . thank time\n",
      "  . Most correlated trigrams:\n",
      "       . \n",
      "# 'PRODUCT LAUNCH ANNOUNCEMENT:Dear [name]\n",
      "\n",
      "The new [product name] is finally here!\n",
      "\n",
      "What makes the [product name] different is [give an introduction to the product and why people may want to buy it]\n",
      "\n",
      "You can order your [product name] directly from our webstore or find it on Amazon.\n",
      "\n",
      "[Only add offer if needed] The first 100 people that make an order will receive free shipping.\n",
      "\n",
      "[Add CTA button]':\n",
      "  . Most correlated unigrams:\n",
      "       . finally\n",
      "       . amp\n",
      "  . Most correlated bigrams:\n",
      "       . excite announce\n",
      "       . amp company\n",
      "  . Most correlated trigrams:\n",
      "       . \n",
      "# 'REQUEST FOR MEETING:Dear [Recipient Name]\n",
      "I am writing to request a meeting with you to discuss [topic/topics to discuss]. Please tell me your available dates and timings and I will adjust accordingly.\n",
      "I appreciate your consideration and hope to meet you soon. Thank you for your time.\n",
      "Best Regards':\n",
      "  . Most correlated unigrams:\n",
      "       . meet\n",
      "       . write\n",
      "  . Most correlated bigrams:\n",
      "       . pain point\n",
      "       . time work\n",
      "  . Most correlated trigrams:\n",
      "       . \n",
      "# 'REVIEW/FEEDBACK REQUEST:Hey [customer name],\n",
      "\n",
      "We appreciate your business!\n",
      "\n",
      "How'd we do? Please take a moment to let us know. We use your feedback to improve our operations for you and customers like you.\n",
      "\n",
      "[review funnel link]':\n",
      "  . Most correlated unigrams:\n",
      "       . choose\n",
      "       . review\n",
      "  . Most correlated bigrams:\n",
      "       . email subject\n",
      "       . dear customer\n",
      "  . Most correlated trigrams:\n",
      "       . \n",
      "# 'SALES/DISCOUNT OFFER:Hi [name],\n",
      "\n",
      "It’s a great time for shopping! \n",
      "\n",
      "[time frame: e.g., Today only, Until July 24th], all items in the store are X% off!\n",
      "\n",
      "Don’t hesitate – the best deals are selling out fast!\n",
      "\n",
      "Just use the discount code below at checkout:\n",
      "\n",
      "[code]\n",
      "\n",
      "Happy shopping,\n",
      "[company name]':\n",
      "  . Most correlated unigrams:\n",
      "       . offer\n",
      "       . discount\n",
      "  . Most correlated bigrams:\n",
      "       . look forward\n",
      "       . subject line\n",
      "  . Most correlated trigrams:\n",
      "       . \n"
     ]
    }
   ],
   "source": [
    "from sklearn.feature_selection import chi2\n",
    "import numpy as np\n",
    "\n",
    "N = 2\n",
    "for template, category_id in sorted(category_to_id.items()):\n",
    "  features_chi2 = chi2(features, labels == category_id)\n",
    "  indices = np.argsort(features_chi2[0])\n",
    "  feature_names = np.array(tfidf.get_feature_names())[indices]\n",
    "  unigrams = [v for v in feature_names if len(v.split(' ')) == 1]\n",
    "  bigrams = [v for v in feature_names if len(v.split(' ')) == 2]\n",
    "  trigrams = [v for v in feature_names if len(v.split(' ')) == 3]\n",
    "  print(\"# '{}':\".format(template))\n",
    "  print(\"  . Most correlated unigrams:\\n       . {}\".format('\\n       . '.join(unigrams[-N:])))\n",
    "  print(\"  . Most correlated bigrams:\\n       . {}\".format('\\n       . '.join(bigrams[-N:])))\n",
    "  print(\"  . Most correlated trigrams:\\n       . {}\".format('\\n       . '.join(trigrams[-N:])))"
   ]
  },
  {
   "cell_type": "code",
   "execution_count": 175,
   "metadata": {},
   "outputs": [],
   "source": [
    "from sklearn.model_selection import train_test_split\n",
    "from sklearn.feature_extraction.text import CountVectorizer\n",
    "from sklearn.feature_extraction.text import TfidfTransformer\n",
    "from sklearn.naive_bayes import MultinomialNB\n",
    "\n",
    "X_train, X_test, y_train, y_test = train_test_split(df['lemmatized_text'], df['template'],test_size=0.26, random_state = 0)\n",
    "count_vect = CountVectorizer()\n",
    "X_train_counts = count_vect.fit_transform(X_train)\n",
    "tfidf_transformer = TfidfTransformer()\n",
    "X_train_tfidf = tfidf_transformer.fit_transform(X_train_counts)\n",
    "X_test_counts = count_vect.fit_transform(X_test)\n",
    "tfidf_transformer = TfidfTransformer()\n",
    "X_test_tfidf = tfidf_transformer.fit_transform(X_test_counts)"
   ]
  },
  {
   "cell_type": "code",
   "execution_count": 176,
   "metadata": {
    "scrolled": true
   },
   "outputs": [
    {
     "data": {
      "text/plain": [
       "(98,)"
      ]
     },
     "execution_count": 176,
     "metadata": {},
     "output_type": "execute_result"
    }
   ],
   "source": [
    "X_train.shape"
   ]
  },
  {
   "cell_type": "code",
   "execution_count": 177,
   "metadata": {},
   "outputs": [
    {
     "data": {
      "text/plain": [
       "(35,)"
      ]
     },
     "execution_count": 177,
     "metadata": {},
     "output_type": "execute_result"
    }
   ],
   "source": [
    "X_test.shape"
   ]
  },
  {
   "cell_type": "code",
   "execution_count": 178,
   "metadata": {},
   "outputs": [
    {
     "data": {
      "text/plain": [
       "(98, 1671)"
      ]
     },
     "execution_count": 178,
     "metadata": {},
     "output_type": "execute_result"
    }
   ],
   "source": [
    "X_train_tfidf.shape"
   ]
  },
  {
   "cell_type": "code",
   "execution_count": 179,
   "metadata": {},
   "outputs": [
    {
     "data": {
      "text/plain": [
       "(35, 864)"
      ]
     },
     "execution_count": 179,
     "metadata": {},
     "output_type": "execute_result"
    }
   ],
   "source": [
    "X_test_tfidf.shape"
   ]
  },
  {
   "cell_type": "code",
   "execution_count": 180,
   "metadata": {},
   "outputs": [],
   "source": [
    "from sklearn.linear_model import LogisticRegression\n",
    "from sklearn.ensemble import RandomForestClassifier\n",
    "from sklearn.naive_bayes import MultinomialNB\n",
    "from sklearn.svm import LinearSVC\n",
    "from xgboost import XGBClassifier\n",
    "from xgboost import XGBRegressor\n",
    "from sklearn.linear_model import SGDClassifier\n",
    "from sklearn.linear_model import PassiveAggressiveClassifier\n",
    "from sklearn import metrics\n",
    "from sklearn.model_selection import train_test_split"
   ]
  },
  {
   "cell_type": "code",
   "execution_count": 181,
   "metadata": {},
   "outputs": [],
   "source": [
    "a=df['lemmatized_text']\n",
    "b=df['template']\n",
    "x = df['lemmatized_text']\n",
    "y = df['template']\n",
    "vect = CountVectorizer()"
   ]
  },
  {
   "cell_type": "code",
   "execution_count": 182,
   "metadata": {},
   "outputs": [],
   "source": [
    "x_train1,x_test1,y_train1,y_test1 = train_test_split(x,y,test_size=0.22,random_state=42)\n",
    "x_train_dtm = vect.fit_transform(x_train1)\n",
    "x_test_dtm = vect.transform(x_test1)"
   ]
  },
  {
   "cell_type": "code",
   "execution_count": 183,
   "metadata": {},
   "outputs": [
    {
     "data": {
      "text/plain": [
       "0.7333333333333333"
      ]
     },
     "execution_count": 183,
     "metadata": {},
     "output_type": "execute_result"
    }
   ],
   "source": [
    "NB = MultinomialNB()\n",
    "NB.fit(x_train_dtm,y_train1)\n",
    "y_predict = NB.predict(x_test_dtm)\n",
    "NB_acc = metrics.accuracy_score(y_test1,y_predict)\n",
    "NB_acc"
   ]
  },
  {
   "cell_type": "code",
   "execution_count": 184,
   "metadata": {},
   "outputs": [
    {
     "data": {
      "text/plain": [
       "0.7666666666666667"
      ]
     },
     "execution_count": 184,
     "metadata": {},
     "output_type": "execute_result"
    }
   ],
   "source": [
    "from sklearn.linear_model import LinearRegression \n",
    "lm = SGDClassifier()\n",
    "lm.fit(x_train_dtm,y_train1)\n",
    "lm_predict = lm.predict(x_test_dtm)\n",
    "SGD_acc= metrics.accuracy_score(y_test1,lm_predict)\n",
    "SGD_acc"
   ]
  },
  {
   "cell_type": "code",
   "execution_count": 185,
   "metadata": {},
   "outputs": [
    {
     "data": {
      "text/plain": [
       "0.6333333333333333"
      ]
     },
     "execution_count": 185,
     "metadata": {},
     "output_type": "execute_result"
    }
   ],
   "source": [
    "rf = RandomForestClassifier(max_depth=10,max_features=10)\n",
    "rf.fit(x_train_dtm,y_train1)\n",
    "rf_predict = rf.predict(x_test_dtm)\n",
    "Random_acc = metrics.accuracy_score(y_test1,rf_predict)\n",
    "Random_acc"
   ]
  },
  {
   "cell_type": "code",
   "execution_count": 186,
   "metadata": {},
   "outputs": [
    {
     "name": "stderr",
     "output_type": "stream",
     "text": [
      "C:\\Users\\yy\\Anaconda3\\envs\\nenv\\lib\\site-packages\\xgboost\\sklearn.py:1146: UserWarning: The use of label encoder in XGBClassifier is deprecated and will be removed in a future release. To remove this warning, do the following: 1) Pass option use_label_encoder=False when constructing XGBClassifier object; and 2) Encode your labels (y) as integers starting with 0, i.e. 0, 1, 2, ..., [num_class - 1].\n",
      "  warnings.warn(label_encoder_deprecation_msg, UserWarning)\n"
     ]
    },
    {
     "name": "stdout",
     "output_type": "stream",
     "text": [
      "[01:41:58] WARNING: C:/Users/Administrator/workspace/xgboost-win64_release_1.4.0/src/learner.cc:1095: Starting in XGBoost 1.3.0, the default evaluation metric used with the objective 'multi:softprob' was changed from 'merror' to 'mlogloss'. Explicitly set eval_metric if you'd like to restore the old behavior.\n"
     ]
    },
    {
     "data": {
      "text/plain": [
       "0.6333333333333333"
      ]
     },
     "execution_count": 186,
     "metadata": {},
     "output_type": "execute_result"
    }
   ],
   "source": [
    "xg = XGBClassifier()\n",
    "xg.fit(x_train_dtm,y_train1)\n",
    "xg_predict = xg.predict(x_test_dtm)\n",
    "xg_acc = metrics.accuracy_score(y_test1,xg_predict)\n",
    "xg_acc"
   ]
  },
  {
   "cell_type": "code",
   "execution_count": 187,
   "metadata": {},
   "outputs": [
    {
     "data": {
      "text/plain": [
       "0.6666666666666666"
      ]
     },
     "execution_count": 187,
     "metadata": {},
     "output_type": "execute_result"
    }
   ],
   "source": [
    "pg = PassiveAggressiveClassifier()\n",
    "pg.fit(x_train_dtm,y_train1)\n",
    "pg_predict = pg.predict(x_test_dtm)\n",
    "pg_acc = metrics.accuracy_score(y_test1,pg_predict)\n",
    "pg_acc"
   ]
  },
  {
   "cell_type": "code",
   "execution_count": 188,
   "metadata": {},
   "outputs": [
    {
     "data": {
      "text/plain": [
       "0.7333333333333333"
      ]
     },
     "execution_count": 188,
     "metadata": {},
     "output_type": "execute_result"
    }
   ],
   "source": [
    "lv = LinearSVC(C=1.0, class_weight=None, dual=True, fit_intercept=True,\n",
    "     intercept_scaling=1, loss='squared_hinge', max_iter=1000,\n",
    "     multi_class='ovr', penalty='l2', tol=0.0001,\n",
    "     verbose=0)\n",
    "lv.fit(x_train_dtm,y_train1)\n",
    "lv_predict = lv.predict(x_test_dtm)\n",
    "lv_acc= metrics.accuracy_score(y_test1,lv_predict)\n",
    "lv_acc"
   ]
  },
  {
   "cell_type": "code",
   "execution_count": 189,
   "metadata": {},
   "outputs": [],
   "source": [
    "df = {'Model':['MultinomialNB','SGDClassifier','RandomForestClassifier','XGBClassifier', 'PassiveAggressiveClassifier','LinearSVC'],'Accuracy':[NB_acc, SGD_acc,Random_acc,xg_acc,pg_acc,lv_acc]}"
   ]
  },
  {
   "cell_type": "code",
   "execution_count": 190,
   "metadata": {},
   "outputs": [
    {
     "data": {
      "text/html": [
       "<div>\n",
       "<style scoped>\n",
       "    .dataframe tbody tr th:only-of-type {\n",
       "        vertical-align: middle;\n",
       "    }\n",
       "\n",
       "    .dataframe tbody tr th {\n",
       "        vertical-align: top;\n",
       "    }\n",
       "\n",
       "    .dataframe thead th {\n",
       "        text-align: right;\n",
       "    }\n",
       "</style>\n",
       "<table border=\"1\" class=\"dataframe\">\n",
       "  <thead>\n",
       "    <tr style=\"text-align: right;\">\n",
       "      <th></th>\n",
       "      <th>Model</th>\n",
       "      <th>Accuracy</th>\n",
       "    </tr>\n",
       "  </thead>\n",
       "  <tbody>\n",
       "    <tr>\n",
       "      <th>1</th>\n",
       "      <td>SGDClassifier</td>\n",
       "      <td>0.766667</td>\n",
       "    </tr>\n",
       "    <tr>\n",
       "      <th>0</th>\n",
       "      <td>MultinomialNB</td>\n",
       "      <td>0.733333</td>\n",
       "    </tr>\n",
       "    <tr>\n",
       "      <th>5</th>\n",
       "      <td>LinearSVC</td>\n",
       "      <td>0.733333</td>\n",
       "    </tr>\n",
       "    <tr>\n",
       "      <th>4</th>\n",
       "      <td>PassiveAggressiveClassifier</td>\n",
       "      <td>0.666667</td>\n",
       "    </tr>\n",
       "    <tr>\n",
       "      <th>2</th>\n",
       "      <td>RandomForestClassifier</td>\n",
       "      <td>0.633333</td>\n",
       "    </tr>\n",
       "    <tr>\n",
       "      <th>3</th>\n",
       "      <td>XGBClassifier</td>\n",
       "      <td>0.633333</td>\n",
       "    </tr>\n",
       "  </tbody>\n",
       "</table>\n",
       "</div>"
      ],
      "text/plain": [
       "                         Model  Accuracy\n",
       "1                SGDClassifier  0.766667\n",
       "0                MultinomialNB  0.733333\n",
       "5                    LinearSVC  0.733333\n",
       "4  PassiveAggressiveClassifier  0.666667\n",
       "2       RandomForestClassifier  0.633333\n",
       "3                XGBClassifier  0.633333"
      ]
     },
     "execution_count": 190,
     "metadata": {},
     "output_type": "execute_result"
    }
   ],
   "source": [
    "df_model = pd.DataFrame(df)\n",
    "df_model.sort_values(by=['Accuracy'], ascending=False)"
   ]
  },
  {
   "cell_type": "code",
   "execution_count": 191,
   "metadata": {},
   "outputs": [
    {
     "data": {
      "image/png": "[encoded data removed]",
      "text/plain": [
       "<Figure size 1080x576 with 1 Axes>"
      ]
     },
     "metadata": {
      "needs_background": "light"
     },
     "output_type": "display_data"
    }
   ],
   "source": [
    "import seaborn as sns\n",
    "plt.figure(figsize=(15,8))\n",
    "sns.boxplot(x='Model', y='Accuracy', data=df_model)\n",
    "sns.stripplot(x='Model', y='Accuracy', data=df_model, \n",
    "              size=8, jitter=True, edgecolor=\"gray\", linewidth=2,)\n",
    "plt.show()\n"
   ]
  },
  {
   "cell_type": "code",
   "execution_count": 192,
   "metadata": {},
   "outputs": [
    {
     "data": {
      "text/plain": [
       "<AxesSubplot:xlabel='Model'>"
      ]
     },
     "execution_count": 192,
     "metadata": {},
     "output_type": "execute_result"
    },
    {
     "data": {
      "image/png": "[encoded data removed]",
      "text/plain": [
       "<Figure size 432x288 with 1 Axes>"
      ]
     },
     "metadata": {
      "needs_background": "light"
     },
     "output_type": "display_data"
    }
   ],
   "source": [
    "df_model.plot(x=\"Model\", y=\"Accuracy\", kind=\"bar\")"
   ]
  },
  {
   "cell_type": "code",
   "execution_count": 194,
   "metadata": {},
   "outputs": [
    {
     "ename": "AttributeError",
     "evalue": "'dict' object has no attribute 'index'",
     "output_type": "error",
     "traceback": [
      "\u001b[1;31m---------------------------------------------------------------------------\u001b[0m",
      "\u001b[1;31mAttributeError\u001b[0m                            Traceback (most recent call last)",
      "\u001b[1;32m<ipython-input-194-2e88f1a421b4>\u001b[0m in \u001b[0;36m<module>\u001b[1;34m\u001b[0m\n\u001b[0;32m      1\u001b[0m \u001b[1;32mfrom\u001b[0m \u001b[0msklearn\u001b[0m\u001b[1;33m.\u001b[0m\u001b[0mmetrics\u001b[0m \u001b[1;32mimport\u001b[0m \u001b[0mconfusion_matrix\u001b[0m\u001b[1;33m\u001b[0m\u001b[1;33m\u001b[0m\u001b[0m\n\u001b[0;32m      2\u001b[0m \u001b[0mmodel\u001b[0m \u001b[1;33m=\u001b[0m \u001b[0mPassiveAggressiveClassifier\u001b[0m\u001b[1;33m(\u001b[0m\u001b[1;33m)\u001b[0m\u001b[1;33m\u001b[0m\u001b[1;33m\u001b[0m\u001b[0m\n\u001b[1;32m----> 3\u001b[1;33m \u001b[0mX_train\u001b[0m\u001b[1;33m,\u001b[0m \u001b[0mX_test\u001b[0m\u001b[1;33m,\u001b[0m \u001b[0my_train\u001b[0m\u001b[1;33m,\u001b[0m \u001b[0my_test\u001b[0m\u001b[1;33m,\u001b[0m \u001b[0mindices_train\u001b[0m\u001b[1;33m,\u001b[0m \u001b[0mindices_test\u001b[0m \u001b[1;33m=\u001b[0m \u001b[0mtrain_test_split\u001b[0m\u001b[1;33m(\u001b[0m\u001b[0mfeatures\u001b[0m\u001b[1;33m,\u001b[0m \u001b[0mlabels\u001b[0m\u001b[1;33m,\u001b[0m \u001b[0mdf\u001b[0m\u001b[1;33m.\u001b[0m\u001b[0mindex\u001b[0m\u001b[1;33m,\u001b[0m \u001b[0mtest_size\u001b[0m\u001b[1;33m=\u001b[0m\u001b[1;36m0.22\u001b[0m\u001b[1;33m,\u001b[0m \u001b[0mrandom_state\u001b[0m\u001b[1;33m=\u001b[0m\u001b[1;36m42\u001b[0m\u001b[1;33m)\u001b[0m\u001b[1;33m\u001b[0m\u001b[1;33m\u001b[0m\u001b[0m\n\u001b[0m\u001b[0;32m      4\u001b[0m \u001b[0mmodel\u001b[0m\u001b[1;33m.\u001b[0m\u001b[0mfit\u001b[0m\u001b[1;33m(\u001b[0m\u001b[0mX_train\u001b[0m\u001b[1;33m,\u001b[0m \u001b[0my_train\u001b[0m\u001b[1;33m)\u001b[0m\u001b[1;33m\u001b[0m\u001b[1;33m\u001b[0m\u001b[0m\n\u001b[0;32m      5\u001b[0m \u001b[0my_pred\u001b[0m \u001b[1;33m=\u001b[0m \u001b[0mmodel\u001b[0m\u001b[1;33m.\u001b[0m\u001b[0mpredict\u001b[0m\u001b[1;33m(\u001b[0m\u001b[0mX_test\u001b[0m\u001b[1;33m)\u001b[0m\u001b[1;33m\u001b[0m\u001b[1;33m\u001b[0m\u001b[0m\n",
      "\u001b[1;31mAttributeError\u001b[0m: 'dict' object has no attribute 'index'"
     ]
    }
   ],
   "source": [
    "from sklearn.metrics import confusion_matrix\n",
    "model = PassiveAggressiveClassifier()\n",
    "X_train, X_test, y_train, y_test, indices_train, indices_test = train_test_split(features, labels, df.index, test_size=0.22, random_state=42)\n",
    "model.fit(X_train, y_train)\n",
    "y_pred = model.predict(X_test)\n",
    "\n",
    "conf_mat = confusion_matrix(y_test, y_pred)\n",
    "fig, ax = plt.subplots(figsize=(12,12))\n",
    "sns.heatmap(conf_mat, annot=True, fmt='d',\n",
    "            xticklabels=category_id_df.template.values, yticklabels=category_id_df.template.values)\n",
    "plt.ylabel('Actual')\n",
    "plt.xlabel('Predicted')\n",
    "plt.show()"
   ]
  },
  {
   "cell_type": "code",
   "execution_count": 99,
   "metadata": {},
   "outputs": [],
   "source": [
    "X = count_vect.fit_transform(a)\n",
    "Y = tfidf_transformer.fit_transform(X)"
   ]
  },
  {
   "cell_type": "code",
   "execution_count": 100,
   "metadata": {},
   "outputs": [],
   "source": [
    "classifier=LinearSVC().fit(Y, b)"
   ]
  },
  {
   "cell_type": "code",
   "execution_count": 101,
   "metadata": {},
   "outputs": [
    {
     "name": "stdout",
     "output_type": "stream",
     "text": [
      "['APOLOGY TO CUSTOMERS:Hi [Customer name],\\nI want to apologize for [briefly state mistake]. Our team tries to offer the best service, but we failed this time. I realize we [state briefly the impact your mistake had on the customer] and I’m very sorry. This was likely caused by [add brief explanation], but, regardless, we should have handled this better. We’re all aware of what happened and will take extra care in future. As an additional apology, we’re sending you [offering]. While we know it can’t exactly make up for the inconvenience we caused, we hope it’ll go some way towards making amends.\\nThank you for your patience. Let me know if I can help in any way.\\n[Your name]']\n"
     ]
    }
   ],
   "source": [
    "print(classifier.predict(count_vect.transform([\"apology\"])))"
   ]
  },
  {
   "cell_type": "code",
   "execution_count": 102,
   "metadata": {},
   "outputs": [
    {
     "name": "stdout",
     "output_type": "stream",
     "text": [
      "[\"REVIEW/FEEDBACK REQUEST:Hey [customer name],\\n\\nWe appreciate your business!\\n\\nHow'd we do? Please take a moment to let us know. We use your feedback to improve our operations for you and customers like you.\\n\\n[review funnel link]\"]\n"
     ]
    }
   ],
   "source": [
    "print(classifier.predict(count_vect.transform([\"announcement\"])))"
   ]
  },
  {
   "cell_type": "code",
   "execution_count": 103,
   "metadata": {},
   "outputs": [
    {
     "name": "stdout",
     "output_type": "stream",
     "text": [
      "['POST INTERVIEW THANKS:Hi [Interviewer Name],\\n\\nThank you so much for meeting with me today. It was such a pleasure to learn more about the team and position, and I’m very excited about the opportunity to join [Company Name] and help [bring in new clients/develop world-class content/anything else awesome you would be doing] with your team.\\n\\nI look forward to hearing from you about the next steps in the hiring process, and please do not hesitate to contact me if I can provide additional information.\\n\\nBest regards,\\n[Your Name]']\n"
     ]
    }
   ],
   "source": [
    "print(classifier.predict(count_vect.transform([\"interview\"])))"
   ]
  },
  {
   "cell_type": "code",
   "execution_count": 104,
   "metadata": {},
   "outputs": [],
   "source": [
    "import pickle"
   ]
  },
  {
   "cell_type": "code",
   "execution_count": 105,
   "metadata": {},
   "outputs": [],
   "source": [
    "classifier=LinearSVC().fit(Y, b)\n",
    "\n",
    "vector_file = 'vectorizer.pickle'\n",
    "pickle.dump(count_vect, open(vector_file, 'wb'))\n",
    "\n",
    "mod_file = 'classification.model'\n",
    "pickle.dump(classifier, open(mod_file, 'wb'))"
   ]
  },
  {
   "cell_type": "code",
   "execution_count": null,
   "metadata": {},
   "outputs": [],
   "source": []
  },
  {
   "cell_type": "code",
   "execution_count": null,
   "metadata": {},
   "outputs": [],
   "source": []
  },
  {
   "cell_type": "code",
   "execution_count": null,
   "metadata": {},
   "outputs": [],
   "source": []
  },
  {
   "cell_type": "code",
   "execution_count": null,
   "metadata": {},
   "outputs": [],
   "source": []
  },
  {
   "cell_type": "code",
   "execution_count": null,
   "metadata": {},
   "outputs": [],
   "source": []
  },
  {
   "cell_type": "code",
   "execution_count": null,
   "metadata": {},
   "outputs": [],
   "source": []
  },
  {
   "cell_type": "code",
   "execution_count": null,
   "metadata": {},
   "outputs": [],
   "source": []
  },
  {
   "cell_type": "code",
   "execution_count": null,
   "metadata": {},
   "outputs": [],
   "source": []
  },
  {
   "cell_type": "code",
   "execution_count": null,
   "metadata": {},
   "outputs": [],
   "source": []
  },
  {
   "cell_type": "code",
   "execution_count": null,
   "metadata": {},
   "outputs": [],
   "source": []
  },
  {
   "cell_type": "code",
   "execution_count": null,
   "metadata": {},
   "outputs": [],
   "source": []
  },
  {
   "cell_type": "code",
   "execution_count": null,
   "metadata": {},
   "outputs": [],
   "source": []
  },
  {
   "cell_type": "code",
   "execution_count": null,
   "metadata": {},
   "outputs": [],
   "source": []
  },
  {
   "cell_type": "code",
   "execution_count": null,
   "metadata": {},
   "outputs": [],
   "source": []
  },
  {
   "cell_type": "code",
   "execution_count": null,
   "metadata": {},
   "outputs": [],
   "source": []
  },
  {
   "cell_type": "code",
   "execution_count": null,
   "metadata": {},
   "outputs": [],
   "source": []
  },
  {
   "cell_type": "code",
   "execution_count": null,
   "metadata": {},
   "outputs": [],
   "source": []
  },
  {
   "cell_type": "code",
   "execution_count": null,
   "metadata": {},
   "outputs": [],
   "source": []
  },
  {
   "cell_type": "markdown",
   "metadata": {},
   "source": [
    "import warnings\n",
    "warnings.filterwarnings(\"ignore\")\n",
    "from sklearn.linear_model import LogisticRegression\n",
    "from sklearn.linear_model import LogisticRegressionCV\n",
    "from sklearn.ensemble import RandomForestClassifier\n",
    "from sklearn.svm import LinearSVC,SVC\n",
    "from sklearn.naive_bayes import MultinomialNB\n",
    "from sklearn.naive_bayes import GaussianNB\n",
    "from sklearn.tree import DecisionTreeClassifier\n",
    "from sklearn.ensemble import AdaBoostClassifier\n",
    "from sklearn.neighbors import KNeighborsClassifier\n",
    "from sklearn.model_selection import cross_val_score\n",
    "models = [RandomForestClassifier(n_estimators=200, max_depth=3, random_state=0),\n",
    "    LinearSVC(),\n",
    "    SVC(kernel='linear',probability=True),\n",
    "    MultinomialNB(),\n",
    "   GaussianNB(),\n",
    "    LogisticRegression(random_state=0),\n",
    "    #LogisticRegressionCV(penalty='l1', solver='saga'),\n",
    "    #LogisticRegressionCV(penalty='l2', solver='saga'),\n",
    "    DecisionTreeClassifier(criterion='gini'),\n",
    "    KNeighborsClassifier(n_neighbors=17)]\n",
    "   #AdaBoostClassifier(n_estimators=10)]\n",
    "CV = 5\n",
    "cv_df = pd.DataFrame(index=range(CV * len(models)))\n",
    "entries = []\n",
    "for model in models:\n",
    "  model_name = model.__class__.__name__\n",
    "  accuracies = cross_val_score(model, features, labels, scoring='accuracy', cv=CV)\n",
    "  for fold_idx, accuracy in enumerate(accuracies):\n",
    "    entries.append((model_name, fold_idx, accuracy))\n",
    "cv_df = pd.DataFrame(entries, columns=['model_name', 'fold_idx', 'accuracy'])\n",
    "\n",
    "import seaborn as sns\n",
    "sns.boxplot(x='model_name', y='accuracy', data=cv_df)\n",
    "sns.stripplot(x='model_name', y='accuracy', data=cv_df, \n",
    "              size=8, jitter=True, edgecolor=\"gray\", linewidth=3)\n",
    "sns.set(rc={'figure.figsize':(20,20)})\n",
    "plt.show()\n"
   ]
  },
  {
   "cell_type": "markdown",
   "metadata": {},
   "source": [
    "cv_df.groupby(\"model_name\").accuracy.mean()"
   ]
  },
  {
   "cell_type": "markdown",
   "metadata": {},
   "source": [
    "# final model building"
   ]
  },
  {
   "cell_type": "markdown",
   "metadata": {},
   "source": [
    "from sklearn.model_selection import train_test_split\n",
    "from sklearn.feature_extraction.text import CountVectorizer\n",
    "from sklearn.feature_extraction.text import TfidfTransformer\n",
    "from sklearn.svm import LinearSVC\n",
    "X_train, X_test, y_train, y_test = train_test_split(features, labels,test_size=0.22, random_state = 0)\n",
    "count_vect = CountVectorizer()\n",
    "X_train_counts = count_vect.fit_transform(X_train)\n",
    "tfidf_transformer = TfidfTransformer()\n",
    "X_train_tfidf = tfidf_transformer.fit_transform(X_train_counts)\n",
    "clf = LinearSVC().fit(X_train_tfidf, y_train)"
   ]
  },
  {
   "cell_type": "markdown",
   "metadata": {},
   "source": [
    "print(clf.predict(count_vect.transform([\"apology\"])))"
   ]
  },
  {
   "cell_type": "markdown",
   "metadata": {},
   "source": [
    "classifier = LinearSVC()\n",
    "X_train, X_test, y_train, y_test, indices_train, indices_test = train_test_split(features, labels, df.index, test_size=0.22, random_state=0)\n",
    "clf=classifier.fit(X_train, y_train)\n",
    "y_pred = clf.predict(X_test)\n"
   ]
  },
  {
   "cell_type": "markdown",
   "metadata": {},
   "source": [
    "print(clf.predict(count_vect.transform([\"apology\"])))"
   ]
  },
  {
   "cell_type": "markdown",
   "metadata": {},
   "source": [
    "count_vect = CountVectorizer()\n",
    "X_train_counts = count_vect.fit_transform(X_train)\n",
    "tfidf_transformer = TfidfTransformer()\n",
    "X_train_tfidf = tfidf_transformer.fit_transform(X_train_counts)\n"
   ]
  },
  {
   "cell_type": "markdown",
   "metadata": {},
   "source": [
    "import pickle\n",
    "pickle_out = open(\"classifier.pkl\", \"wb\")\n",
    "pickle.dump(classifier, pickle_out)\n",
    "pickle_out.close()"
   ]
  },
  {
   "cell_type": "markdown",
   "metadata": {},
   "source": [
    "import pandas as pd\n",
    "from sklearn.model_selection import train_test_split\n",
    "from sklearn.feature_extraction.text import CountVectorizer\n",
    "from sklearn.feature_extraction.text import TfidfTransformer\n",
    "from sklearn.svm import LinearSVC\n",
    "\n",
    "\n",
    "\n",
    "# Train the classification model\n",
    "def train_model():\n",
    "    df = pd.read_excel(r\"C:\\Users\\lenovo\\Desktop\\group4dataset.xlsx\")\n",
    "\n",
    "    X_train, X_test, y_train, y_test = train_test_split(df['lemmatized_text'], df['template'], random_state=0)\n",
    "\n",
    "    count_vect = CountVectorizer()\n",
    "    X_train_counts = count_vect.fit_transform(X_train)\n",
    "    tfidf_transformer = TfidfTransformer()\n",
    "    X_train_tfidf = tfidf_transformer.fit_transform(X_train_counts)\n",
    "\n",
    "    model = LinearSVC().fit(X_train_tfidf, y_train)"
   ]
  },
  {
   "cell_type": "code",
   "execution_count": 610,
   "metadata": {},
   "outputs": [
    {
     "ename": "NotFittedError",
     "evalue": "This PassiveAggressiveClassifier instance is not fitted yet. Call 'fit' with appropriate arguments before using this estimator.",
     "output_type": "error",
     "traceback": [
      "\u001b[1;31m---------------------------------------------------------------------------\u001b[0m",
      "\u001b[1;31mNotFittedError\u001b[0m                            Traceback (most recent call last)",
      "\u001b[1;32m<ipython-input-610-3d1ed74625f8>\u001b[0m in \u001b[0;36m<module>\u001b[1;34m\u001b[0m\n\u001b[1;32m----> 1\u001b[1;33m \u001b[0mprint\u001b[0m\u001b[1;33m(\u001b[0m\u001b[0mmodel\u001b[0m\u001b[1;33m.\u001b[0m\u001b[0mpredict\u001b[0m\u001b[1;33m(\u001b[0m\u001b[0mcount_vect\u001b[0m\u001b[1;33m.\u001b[0m\u001b[0mtransform\u001b[0m\u001b[1;33m(\u001b[0m\u001b[1;33m[\u001b[0m\u001b[1;34m\"apology\"\u001b[0m\u001b[1;33m]\u001b[0m\u001b[1;33m)\u001b[0m\u001b[1;33m)\u001b[0m\u001b[1;33m)\u001b[0m\u001b[1;33m\u001b[0m\u001b[1;33m\u001b[0m\u001b[0m\n\u001b[0m",
      "\u001b[1;32m~\\Anaconda3\\lib\\site-packages\\sklearn\\linear_model\\_base.py\u001b[0m in \u001b[0;36mpredict\u001b[1;34m(self, X)\u001b[0m\n\u001b[0;32m    307\u001b[0m             \u001b[0mPredicted\u001b[0m \u001b[1;32mclass\u001b[0m \u001b[0mlabel\u001b[0m \u001b[0mper\u001b[0m \u001b[0msample\u001b[0m\u001b[1;33m.\u001b[0m\u001b[1;33m\u001b[0m\u001b[1;33m\u001b[0m\u001b[0m\n\u001b[0;32m    308\u001b[0m         \"\"\"\n\u001b[1;32m--> 309\u001b[1;33m         \u001b[0mscores\u001b[0m \u001b[1;33m=\u001b[0m \u001b[0mself\u001b[0m\u001b[1;33m.\u001b[0m\u001b[0mdecision_function\u001b[0m\u001b[1;33m(\u001b[0m\u001b[0mX\u001b[0m\u001b[1;33m)\u001b[0m\u001b[1;33m\u001b[0m\u001b[1;33m\u001b[0m\u001b[0m\n\u001b[0m\u001b[0;32m    310\u001b[0m         \u001b[1;32mif\u001b[0m \u001b[0mlen\u001b[0m\u001b[1;33m(\u001b[0m\u001b[0mscores\u001b[0m\u001b[1;33m.\u001b[0m\u001b[0mshape\u001b[0m\u001b[1;33m)\u001b[0m \u001b[1;33m==\u001b[0m \u001b[1;36m1\u001b[0m\u001b[1;33m:\u001b[0m\u001b[1;33m\u001b[0m\u001b[1;33m\u001b[0m\u001b[0m\n\u001b[0;32m    311\u001b[0m             \u001b[0mindices\u001b[0m \u001b[1;33m=\u001b[0m \u001b[1;33m(\u001b[0m\u001b[0mscores\u001b[0m \u001b[1;33m>\u001b[0m \u001b[1;36m0\u001b[0m\u001b[1;33m)\u001b[0m\u001b[1;33m.\u001b[0m\u001b[0mastype\u001b[0m\u001b[1;33m(\u001b[0m\u001b[0mint\u001b[0m\u001b[1;33m)\u001b[0m\u001b[1;33m\u001b[0m\u001b[1;33m\u001b[0m\u001b[0m\n",
      "\u001b[1;32m~\\Anaconda3\\lib\\site-packages\\sklearn\\linear_model\\_base.py\u001b[0m in \u001b[0;36mdecision_function\u001b[1;34m(self, X)\u001b[0m\n\u001b[0;32m    280\u001b[0m             \u001b[1;32mclass\u001b[0m \u001b[0mwould\u001b[0m \u001b[0mbe\u001b[0m \u001b[0mpredicted\u001b[0m\u001b[1;33m.\u001b[0m\u001b[1;33m\u001b[0m\u001b[1;33m\u001b[0m\u001b[0m\n\u001b[0;32m    281\u001b[0m         \"\"\"\n\u001b[1;32m--> 282\u001b[1;33m         \u001b[0mcheck_is_fitted\u001b[0m\u001b[1;33m(\u001b[0m\u001b[0mself\u001b[0m\u001b[1;33m)\u001b[0m\u001b[1;33m\u001b[0m\u001b[1;33m\u001b[0m\u001b[0m\n\u001b[0m\u001b[0;32m    283\u001b[0m \u001b[1;33m\u001b[0m\u001b[0m\n\u001b[0;32m    284\u001b[0m         \u001b[0mX\u001b[0m \u001b[1;33m=\u001b[0m \u001b[0mcheck_array\u001b[0m\u001b[1;33m(\u001b[0m\u001b[0mX\u001b[0m\u001b[1;33m,\u001b[0m \u001b[0maccept_sparse\u001b[0m\u001b[1;33m=\u001b[0m\u001b[1;34m'csr'\u001b[0m\u001b[1;33m)\u001b[0m\u001b[1;33m\u001b[0m\u001b[1;33m\u001b[0m\u001b[0m\n",
      "\u001b[1;32m~\\Anaconda3\\lib\\site-packages\\sklearn\\utils\\validation.py\u001b[0m in \u001b[0;36minner_f\u001b[1;34m(*args, **kwargs)\u001b[0m\n\u001b[0;32m     61\u001b[0m             \u001b[0mextra_args\u001b[0m \u001b[1;33m=\u001b[0m \u001b[0mlen\u001b[0m\u001b[1;33m(\u001b[0m\u001b[0margs\u001b[0m\u001b[1;33m)\u001b[0m \u001b[1;33m-\u001b[0m \u001b[0mlen\u001b[0m\u001b[1;33m(\u001b[0m\u001b[0mall_args\u001b[0m\u001b[1;33m)\u001b[0m\u001b[1;33m\u001b[0m\u001b[1;33m\u001b[0m\u001b[0m\n\u001b[0;32m     62\u001b[0m             \u001b[1;32mif\u001b[0m \u001b[0mextra_args\u001b[0m \u001b[1;33m<=\u001b[0m \u001b[1;36m0\u001b[0m\u001b[1;33m:\u001b[0m\u001b[1;33m\u001b[0m\u001b[1;33m\u001b[0m\u001b[0m\n\u001b[1;32m---> 63\u001b[1;33m                 \u001b[1;32mreturn\u001b[0m \u001b[0mf\u001b[0m\u001b[1;33m(\u001b[0m\u001b[1;33m*\u001b[0m\u001b[0margs\u001b[0m\u001b[1;33m,\u001b[0m \u001b[1;33m**\u001b[0m\u001b[0mkwargs\u001b[0m\u001b[1;33m)\u001b[0m\u001b[1;33m\u001b[0m\u001b[1;33m\u001b[0m\u001b[0m\n\u001b[0m\u001b[0;32m     64\u001b[0m \u001b[1;33m\u001b[0m\u001b[0m\n\u001b[0;32m     65\u001b[0m             \u001b[1;31m# extra_args > 0\u001b[0m\u001b[1;33m\u001b[0m\u001b[1;33m\u001b[0m\u001b[1;33m\u001b[0m\u001b[0m\n",
      "\u001b[1;32m~\\Anaconda3\\lib\\site-packages\\sklearn\\utils\\validation.py\u001b[0m in \u001b[0;36mcheck_is_fitted\u001b[1;34m(estimator, attributes, msg, all_or_any)\u001b[0m\n\u001b[0;32m   1096\u001b[0m \u001b[1;33m\u001b[0m\u001b[0m\n\u001b[0;32m   1097\u001b[0m     \u001b[1;32mif\u001b[0m \u001b[1;32mnot\u001b[0m \u001b[0mattrs\u001b[0m\u001b[1;33m:\u001b[0m\u001b[1;33m\u001b[0m\u001b[1;33m\u001b[0m\u001b[0m\n\u001b[1;32m-> 1098\u001b[1;33m         \u001b[1;32mraise\u001b[0m \u001b[0mNotFittedError\u001b[0m\u001b[1;33m(\u001b[0m\u001b[0mmsg\u001b[0m \u001b[1;33m%\u001b[0m \u001b[1;33m{\u001b[0m\u001b[1;34m'name'\u001b[0m\u001b[1;33m:\u001b[0m \u001b[0mtype\u001b[0m\u001b[1;33m(\u001b[0m\u001b[0mestimator\u001b[0m\u001b[1;33m)\u001b[0m\u001b[1;33m.\u001b[0m\u001b[0m__name__\u001b[0m\u001b[1;33m}\u001b[0m\u001b[1;33m)\u001b[0m\u001b[1;33m\u001b[0m\u001b[1;33m\u001b[0m\u001b[0m\n\u001b[0m\u001b[0;32m   1099\u001b[0m \u001b[1;33m\u001b[0m\u001b[0m\n\u001b[0;32m   1100\u001b[0m \u001b[1;33m\u001b[0m\u001b[0m\n",
      "\u001b[1;31mNotFittedError\u001b[0m: This PassiveAggressiveClassifier instance is not fitted yet. Call 'fit' with appropriate arguments before using this estimator."
     ]
    }
   ],
   "source": [
    "print(model.predict(count_vect.transform([\"apology\"])))"
   ]
  },
  {
   "cell_type": "code",
   "execution_count": null,
   "metadata": {},
   "outputs": [],
   "source": []
  }
 ],
 "metadata": {
  "kernelspec": {
   "display_name": "Python 3",
   "language": "python",
   "name": "python3"
  },
  "language_info": {
   "codemirror_mode": {
    "name": "ipython",
    "version": 3
   },
   "file_extension": ".py",
   "mimetype": "text/x-python",
   "name": "python",
   "nbconvert_exporter": "python",
   "pygments_lexer": "ipython3",
   "version": "3.7.4"
  }
 },
 "nbformat": 4,
 "nbformat_minor": 2
}
